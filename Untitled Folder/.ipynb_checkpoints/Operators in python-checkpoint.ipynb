{
 "cells": [
  {
   "cell_type": "code",
   "execution_count": 1,
   "id": "375b53a5",
   "metadata": {},
   "outputs": [],
   "source": [
    "#day 3\n",
    "#Operators in pytion\n",
    "#+,-,*,/,%(called modulus and act as reminder),**,//\n"
   ]
  },
  {
   "cell_type": "code",
   "execution_count": 2,
   "id": "66d50c92",
   "metadata": {},
   "outputs": [
    {
     "data": {
      "text/plain": [
       "3.3333333333333335"
      ]
     },
     "execution_count": 2,
     "metadata": {},
     "output_type": "execute_result"
    }
   ],
   "source": [
    "10/3"
   ]
  },
  {
   "cell_type": "code",
   "execution_count": 3,
   "id": "5197bec7",
   "metadata": {},
   "outputs": [
    {
     "data": {
      "text/plain": [
       "1"
      ]
     },
     "execution_count": 3,
     "metadata": {},
     "output_type": "execute_result"
    }
   ],
   "source": [
    "#1o divided by 3 is 3.333 and 9 is divided and 1 is remaining so reminder is 1\n",
    "10%3"
   ]
  },
  {
   "cell_type": "code",
   "execution_count": 4,
   "id": "9e68313f",
   "metadata": {},
   "outputs": [
    {
     "data": {
      "text/plain": [
       "32"
      ]
     },
     "execution_count": 4,
     "metadata": {},
     "output_type": "execute_result"
    }
   ],
   "source": [
    "#** = power\n",
    "2**5\n"
   ]
  },
  {
   "cell_type": "code",
   "execution_count": 6,
   "id": "2494ef5d",
   "metadata": {},
   "outputs": [],
   "source": [
    "#Relation or comparision like <, >, <=, =, !=\n"
   ]
  },
  {
   "cell_type": "code",
   "execution_count": 7,
   "id": "ddc2b739",
   "metadata": {},
   "outputs": [
    {
     "data": {
      "text/plain": [
       "True"
      ]
     },
     "execution_count": 7,
     "metadata": {},
     "output_type": "execute_result"
    }
   ],
   "source": [
    "0==0"
   ]
  },
  {
   "cell_type": "code",
   "execution_count": 8,
   "id": "10452171",
   "metadata": {},
   "outputs": [
    {
     "ename": "SyntaxError",
     "evalue": "cannot assign to literal (260838114.py, line 1)",
     "output_type": "error",
     "traceback": [
      "\u001b[1;36m  File \u001b[1;32m\"C:\\Users\\DELL\\AppData\\Local\\Temp\\ipykernel_864\\260838114.py\"\u001b[1;36m, line \u001b[1;32m1\u001b[0m\n\u001b[1;33m    10 = 10\u001b[0m\n\u001b[1;37m    ^\u001b[0m\n\u001b[1;31mSyntaxError\u001b[0m\u001b[1;31m:\u001b[0m cannot assign to literal\n"
     ]
    }
   ],
   "source": [
    "# it tries to assin 10 equals to 10\n",
    "10 = 10"
   ]
  },
  {
   "cell_type": "code",
   "execution_count": 9,
   "id": "ae468966",
   "metadata": {},
   "outputs": [
    {
     "data": {
      "text/plain": [
       "False"
      ]
     },
     "execution_count": 9,
     "metadata": {},
     "output_type": "execute_result"
    }
   ],
   "source": [
    "#Logical operation , and, or, logical not.\n",
    "a = 5 \n",
    "b = 3\n",
    "c = 8\n",
    "a<b"
   ]
  },
  {
   "cell_type": "code",
   "execution_count": 10,
   "id": "12b6ffdb",
   "metadata": {},
   "outputs": [
    {
     "data": {
      "text/plain": [
       "False"
      ]
     },
     "execution_count": 10,
     "metadata": {},
     "output_type": "execute_result"
    }
   ],
   "source": [
    "c<a"
   ]
  },
  {
   "cell_type": "code",
   "execution_count": 11,
   "id": "ad842530",
   "metadata": {},
   "outputs": [
    {
     "data": {
      "text/plain": [
       "True"
      ]
     },
     "execution_count": 11,
     "metadata": {},
     "output_type": "execute_result"
    }
   ],
   "source": [
    "a<c and b<c"
   ]
  },
  {
   "cell_type": "code",
   "execution_count": 13,
   "id": "e8c5117e",
   "metadata": {},
   "outputs": [
    {
     "data": {
      "text/plain": [
       "False"
      ]
     },
     "execution_count": 13,
     "metadata": {},
     "output_type": "execute_result"
    }
   ],
   "source": [
    "c<a and b<c"
   ]
  },
  {
   "cell_type": "code",
   "execution_count": 14,
   "id": "b74e611e",
   "metadata": {},
   "outputs": [
    {
     "data": {
      "text/plain": [
       "True"
      ]
     },
     "execution_count": 14,
     "metadata": {},
     "output_type": "execute_result"
    }
   ],
   "source": [
    "#logic not used to change true value\n",
    "a<c"
   ]
  },
  {
   "cell_type": "code",
   "execution_count": 16,
   "id": "9b406473",
   "metadata": {},
   "outputs": [
    {
     "data": {
      "text/plain": [
       "False"
      ]
     },
     "execution_count": 16,
     "metadata": {},
     "output_type": "execute_result"
    }
   ],
   "source": [
    "not(a,c)"
   ]
  },
  {
   "cell_type": "code",
   "execution_count": 17,
   "id": "9fc74f89",
   "metadata": {},
   "outputs": [],
   "source": [
    "#membership operators\n",
    "#in, not in"
   ]
  },
  {
   "cell_type": "code",
   "execution_count": 18,
   "id": "f023a674",
   "metadata": {},
   "outputs": [
    {
     "data": {
      "text/plain": [
       "True"
      ]
     },
     "execution_count": 18,
     "metadata": {},
     "output_type": "execute_result"
    }
   ],
   "source": [
    "#example\n",
    "lst = [20,52,1166,2266]\n",
    "20 in lst"
   ]
  },
  {
   "cell_type": "code",
   "execution_count": 19,
   "id": "eb112491",
   "metadata": {},
   "outputs": [
    {
     "data": {
      "text/plain": [
       "True"
      ]
     },
     "execution_count": 19,
     "metadata": {},
     "output_type": "execute_result"
    }
   ],
   "source": [
    "76 not in lst"
   ]
  },
  {
   "cell_type": "code",
   "execution_count": 20,
   "id": "8489cbaf",
   "metadata": {},
   "outputs": [
    {
     "data": {
      "text/plain": [
       "False"
      ]
     },
     "execution_count": 20,
     "metadata": {},
     "output_type": "execute_result"
    }
   ],
   "source": [
    "65 in lst"
   ]
  },
  {
   "cell_type": "code",
   "execution_count": null,
   "id": "3852f3b1",
   "metadata": {},
   "outputs": [],
   "source": []
  }
 ],
 "metadata": {
  "kernelspec": {
   "display_name": "Python 3 (ipykernel)",
   "language": "python",
   "name": "python3"
  },
  "language_info": {
   "codemirror_mode": {
    "name": "ipython",
    "version": 3
   },
   "file_extension": ".py",
   "mimetype": "text/x-python",
   "name": "python",
   "nbconvert_exporter": "python",
   "pygments_lexer": "ipython3",
   "version": "3.9.13"
  }
 },
 "nbformat": 4,
 "nbformat_minor": 5
}
