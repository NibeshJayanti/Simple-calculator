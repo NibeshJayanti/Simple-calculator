{
 "cells": [
  {
   "cell_type": "code",
   "execution_count": 1,
   "id": "bcb5c18b",
   "metadata": {},
   "outputs": [
    {
     "data": {
      "text/plain": [
       "5"
      ]
     },
     "execution_count": 1,
     "metadata": {},
     "output_type": "execute_result"
    }
   ],
   "source": [
    "list1 = [10, 20, 30, 40, 50]\n",
    "len(list1)"
   ]
  },
  {
   "cell_type": "code",
   "execution_count": 5,
   "id": "41940d96",
   "metadata": {},
   "outputs": [
    {
     "name": "stdout",
     "output_type": "stream",
     "text": [
      "50\n",
      "40\n",
      "30\n",
      "20\n",
      "10\n"
     ]
    }
   ],
   "source": [
    "for i in range(len(list1)-1, -1, -1):\n",
    "    print(list1[i])"
   ]
  },
  {
   "cell_type": "code",
   "execution_count": 31,
   "id": "d3831884",
   "metadata": {},
   "outputs": [
    {
     "name": "stdout",
     "output_type": "stream",
     "text": [
      "Enter any number4\n"
     ]
    },
    {
     "ename": "NameError",
     "evalue": "name 'factoril' is not defined",
     "output_type": "error",
     "traceback": [
      "\u001b[1;31m---------------------------------------------------------------------------\u001b[0m",
      "\u001b[1;31mNameError\u001b[0m                                 Traceback (most recent call last)",
      "\u001b[1;32m~\\AppData\\Local\\Temp\\ipykernel_11144\\1103103148.py\u001b[0m in \u001b[0;36m<module>\u001b[1;34m\u001b[0m\n\u001b[0;32m      4\u001b[0m \u001b[1;32mfor\u001b[0m \u001b[0mi\u001b[0m \u001b[1;32min\u001b[0m \u001b[0mrange\u001b[0m\u001b[1;33m(\u001b[0m\u001b[0mnum\u001b[0m\u001b[1;33m,\u001b[0m \u001b[1;36m0\u001b[0m\u001b[1;33m,\u001b[0m \u001b[1;33m-\u001b[0m\u001b[1;36m1\u001b[0m\u001b[1;33m)\u001b[0m\u001b[1;33m:\u001b[0m\u001b[1;33m\u001b[0m\u001b[1;33m\u001b[0m\u001b[0m\n\u001b[0;32m      5\u001b[0m     \u001b[0mfactorial\u001b[0m \u001b[1;33m*=\u001b[0m \u001b[0mi\u001b[0m\u001b[1;33m\u001b[0m\u001b[1;33m\u001b[0m\u001b[0m\n\u001b[1;32m----> 6\u001b[1;33m \u001b[0mprint\u001b[0m \u001b[1;33m(\u001b[0m\u001b[0mfactoril\u001b[0m\u001b[1;33m)\u001b[0m\u001b[1;33m\u001b[0m\u001b[1;33m\u001b[0m\u001b[0m\n\u001b[0m",
      "\u001b[1;31mNameError\u001b[0m: name 'factoril' is not defined"
     ]
    }
   ],
   "source": [
    "#write a loop ro find the factorial of any number\n",
    "num = int(input('Enter any number'))\n",
    "factorial = 1\n",
    "for i in range(num, 0, -1):\n",
    "    factorial *= i\n",
    "print (factorial)    "
   ]
  },
  {
   "cell_type": "code",
   "execution_count": 23,
   "id": "757b9e7b",
   "metadata": {},
   "outputs": [
    {
     "name": "stdout",
     "output_type": "stream",
     "text": [
      "Enter any number100\n",
      "1234567901234567901234567901234567901234567901234567901234567901234567901234567901234567901234567890\n"
     ]
    }
   ],
   "source": [
    "num = int(input(\"Enter any number\"))\n",
    "total = 0\n",
    "for i in range(1, num+1):\n",
    "    total = total + int(\"1\"*i)\n",
    "print(total)\n",
    "    \n",
    "    \n"
   ]
  },
  {
   "cell_type": "code",
   "execution_count": 27,
   "id": "a591c4ca",
   "metadata": {},
   "outputs": [
    {
     "name": "stdout",
     "output_type": "stream",
     "text": [
      "200\n",
      "202\n",
      "204\n",
      "206\n",
      "208\n",
      "220\n",
      "222\n",
      "224\n",
      "226\n",
      "228\n",
      "240\n",
      "242\n",
      "244\n",
      "246\n",
      "248\n",
      "260\n",
      "262\n",
      "264\n",
      "266\n",
      "268\n",
      "280\n",
      "282\n",
      "284\n",
      "286\n",
      "288\n"
     ]
    }
   ],
   "source": [
    "for i in range(100,301):\n",
    "    for j in str(i):\n",
    "        if int(j) %2 == 0:\n",
    "            continue\n",
    "        else:\n",
    "            break\n",
    "    else:\n",
    "        print(i)"
   ]
  },
  {
   "cell_type": "code",
   "execution_count": 28,
   "id": "85c0c60e",
   "metadata": {},
   "outputs": [
    {
     "name": "stdout",
     "output_type": "stream",
     "text": [
      "hello jayanti\n"
     ]
    }
   ],
   "source": [
    "#String\n",
    "print('hello jayanti')"
   ]
  },
  {
   "cell_type": "code",
   "execution_count": 29,
   "id": "f63ffaf6",
   "metadata": {},
   "outputs": [
    {
     "name": "stdout",
     "output_type": "stream",
     "text": [
      "I want to study in australia\n"
     ]
    }
   ],
   "source": [
    "print(\"I want to study in australia\")"
   ]
  },
  {
   "cell_type": "code",
   "execution_count": 36,
   "id": "353b9f21",
   "metadata": {},
   "outputs": [
    {
     "name": "stdout",
     "output_type": "stream",
     "text": [
      "You are now my 'wife'\n"
     ]
    }
   ],
   "source": [
    "print(\"You are now my 'wife'\")"
   ]
  },
  {
   "cell_type": "code",
   "execution_count": 50,
   "id": "21216c14",
   "metadata": {},
   "outputs": [
    {
     "name": "stdout",
     "output_type": "stream",
     "text": [
      "i should be teaching \n",
      "PTE class\tbut i am lazy \n"
     ]
    }
   ],
   "source": [
    "print(\"i should be teaching \\nPTE class\\tbut i am lazy \")"
   ]
  },
  {
   "cell_type": "code",
   "execution_count": 42,
   "id": "43534957",
   "metadata": {},
   "outputs": [
    {
     "name": "stdout",
     "output_type": "stream",
     "text": [
      "c\n",
      "o\n",
      "r\n",
      "t\n",
      "u\n"
     ]
    }
   ],
   "source": [
    "hel= \"computer\"\n",
    "print(hel[0])\n",
    "print(hel[1])\n",
    "print(hel[-1])\n",
    "print(hel[-3])\n",
    "print(hel[4])"
   ]
  },
  {
   "cell_type": "code",
   "execution_count": 47,
   "id": "2f9886d4",
   "metadata": {},
   "outputs": [
    {
     "data": {
      "text/plain": [
       "'Australia'"
      ]
     },
     "execution_count": 47,
     "metadata": {},
     "output_type": "execute_result"
    }
   ],
   "source": [
    "#Slicing String\n",
    "#example\n",
    "word = \"Australia\"\n",
    "word[0 : 9]"
   ]
  },
  {
   "cell_type": "code",
   "execution_count": 51,
   "id": "c45542b0",
   "metadata": {},
   "outputs": [
    {
     "name": "stdout",
     "output_type": "stream",
     "text": [
      "i should be teaching \\nPTE class\\tbut i am lazy \n"
     ]
    }
   ],
   "source": [
    "print(r\"i should be teaching \\nPTE class\\tbut i am lazy \")"
   ]
  },
  {
   "cell_type": "code",
   "execution_count": 53,
   "id": "a6f3ac1b",
   "metadata": {},
   "outputs": [
    {
     "data": {
      "text/plain": [
       "'ailartsuA'"
      ]
     },
     "execution_count": 53,
     "metadata": {},
     "output_type": "execute_result"
    }
   ],
   "source": [
    "word [-1:-10:-1]"
   ]
  },
  {
   "cell_type": "code",
   "execution_count": null,
   "id": "2ea08574",
   "metadata": {},
   "outputs": [],
   "source": []
  }
 ],
 "metadata": {
  "kernelspec": {
   "display_name": "Python 3 (ipykernel)",
   "language": "python",
   "name": "python3"
  },
  "language_info": {
   "codemirror_mode": {
    "name": "ipython",
    "version": 3
   },
   "file_extension": ".py",
   "mimetype": "text/x-python",
   "name": "python",
   "nbconvert_exporter": "python",
   "pygments_lexer": "ipython3",
   "version": "3.9.13"
  }
 },
 "nbformat": 4,
 "nbformat_minor": 5
}
