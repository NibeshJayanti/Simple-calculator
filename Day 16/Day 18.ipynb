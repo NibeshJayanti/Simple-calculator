{
 "cells": [
  {
   "cell_type": "code",
   "execution_count": 2,
   "id": "6f70d66f",
   "metadata": {},
   "outputs": [
    {
     "name": "stdout",
     "output_type": "stream",
     "text": [
      "these are inside tupol:  (3, 4, 5)\n"
     ]
    }
   ],
   "source": [
    "def get_tup(up):\n",
    "    tupol=[]\n",
    "    for b in up:\n",
    "        tupol.append(b) \n",
    "    return tuple(tupol)\n",
    "result= get_tup((3,4,5))\n",
    "print(\"these are inside tupol: \", result)"
   ]
  },
  {
   "cell_type": "code",
   "execution_count": 3,
   "id": "4e200b37",
   "metadata": {},
   "outputs": [
    {
     "data": {
      "text/plain": [
       "'This is aswome'"
      ]
     },
     "execution_count": 3,
     "metadata": {},
     "output_type": "execute_result"
    }
   ],
   "source": [
    "data = [\"This\", 'is' , 'aswome']\n",
    "\" \".join(data)"
   ]
  },
  {
   "cell_type": "code",
   "execution_count": 7,
   "id": "44eb9383",
   "metadata": {},
   "outputs": [
    {
     "data": {
      "text/plain": [
       "([14, 2, 4, 6, 6, 4, 234, 34], [13, 5, 1, 7, 45])"
      ]
     },
     "execution_count": 7,
     "metadata": {},
     "output_type": "execute_result"
    }
   ],
   "source": [
    "def even_odd(lst):\n",
    "    even =[]\n",
    "    odd = []\n",
    "    for l in lst:\n",
    "        if l%2 == 0:\n",
    "            even.append(l)\n",
    "        else:\n",
    "            odd.append(l)\n",
    "            \n",
    "    return even, odd\n",
    "even_odd([14,13,2,5,1,4,6,6,7,4,45,234,34])"
   ]
  },
  {
   "cell_type": "code",
   "execution_count": 10,
   "id": "d8ef147f",
   "metadata": {},
   "outputs": [
    {
     "name": "stdout",
     "output_type": "stream",
     "text": [
      "Enter your number , comme seperated : 12,15,34,15,65,45\n",
      "[12, 15, 34, 15, 65, 45]\n"
     ]
    }
   ],
   "source": [
    "result = list(map(int,input(\"Enter your number , comme seperated : \").split(\",\")))\n",
    "print(result)"
   ]
  },
  {
   "cell_type": "code",
   "execution_count": null,
   "id": "ed0ff971",
   "metadata": {},
   "outputs": [
    {
     "name": "stdout",
     "output_type": "stream",
     "text": [
      "\n",
      "Welcome to Python 3.9's help utility!\n",
      "\n",
      "If this is your first time using Python, you should definitely check out\n",
      "the tutorial on the Internet at https://docs.python.org/3.9/tutorial/.\n",
      "\n",
      "Enter the name of any module, keyword, or topic to get help on writing\n",
      "Python programs and using Python modules.  To quit this help utility and\n",
      "return to the interpreter, just type \"quit\".\n",
      "\n",
      "To get a list of available modules, keywords, symbols, or topics, type\n",
      "\"modules\", \"keywords\", \"symbols\", or \"topics\".  Each module also comes\n",
      "with a one-line summary of what it does; to list the modules whose name\n",
      "or summary contain a given string such as \"spam\", type \"modules spam\".\n",
      "\n",
      "help> keywords\n",
      "\n",
      "Here is a list of the Python keywords.  Enter any keyword to get more help.\n",
      "\n",
      "False               break               for                 not\n",
      "None                class               from                or\n",
      "True                continue            global              pass\n",
      "__peg_parser__      def                 if                  raise\n",
      "and                 del                 import              return\n",
      "as                  elif                in                  try\n",
      "assert              else                is                  while\n",
      "async               except              lambda              with\n",
      "await               finally             nonlocal            yield\n",
      "\n",
      "help> break\n",
      "The \"break\" statement\n",
      "*********************\n",
      "\n",
      "   break_stmt ::= \"break\"\n",
      "\n",
      "\"break\" may only occur syntactically nested in a \"for\" or \"while\"\n",
      "loop, but not nested in a function or class definition within that\n",
      "loop.\n",
      "\n",
      "It terminates the nearest enclosing loop, skipping the optional \"else\"\n",
      "clause if the loop has one.\n",
      "\n",
      "If a \"for\" loop is terminated by \"break\", the loop control target\n",
      "keeps its current value.\n",
      "\n",
      "When \"break\" passes control out of a \"try\" statement with a \"finally\"\n",
      "clause, that \"finally\" clause is executed before really leaving the\n",
      "loop.\n",
      "\n",
      "Related help topics: while, for\n",
      "\n",
      "help> while\n",
      "The \"while\" statement\n",
      "*********************\n",
      "\n",
      "The \"while\" statement is used for repeated execution as long as an\n",
      "expression is true:\n",
      "\n",
      "   while_stmt ::= \"while\" assignment_expression \":\" suite\n",
      "                  [\"else\" \":\" suite]\n",
      "\n",
      "This repeatedly tests the expression and, if it is true, executes the\n",
      "first suite; if the expression is false (which may be the first time\n",
      "it is tested) the suite of the \"else\" clause, if present, is executed\n",
      "and the loop terminates.\n",
      "\n",
      "A \"break\" statement executed in the first suite terminates the loop\n",
      "without executing the \"else\" clause’s suite.  A \"continue\" statement\n",
      "executed in the first suite skips the rest of the suite and goes back\n",
      "to testing the expression.\n",
      "\n",
      "Related help topics: break, continue, if, TRUTHVALUE\n",
      "\n"
     ]
    }
   ],
   "source": [
    "help()"
   ]
  },
  {
   "cell_type": "code",
   "execution_count": null,
   "id": "b31bdf83",
   "metadata": {},
   "outputs": [],
   "source": []
  }
 ],
 "metadata": {
  "kernelspec": {
   "display_name": "Python 3 (ipykernel)",
   "language": "python",
   "name": "python3"
  },
  "language_info": {
   "codemirror_mode": {
    "name": "ipython",
    "version": 3
   },
   "file_extension": ".py",
   "mimetype": "text/x-python",
   "name": "python",
   "nbconvert_exporter": "python",
   "pygments_lexer": "ipython3",
   "version": "3.9.13"
  }
 },
 "nbformat": 4,
 "nbformat_minor": 5
}
