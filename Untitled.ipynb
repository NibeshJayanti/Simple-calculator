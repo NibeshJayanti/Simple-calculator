{
 "cells": [
  {
   "cell_type": "code",
   "execution_count": 6,
   "id": "e9426eda",
   "metadata": {},
   "outputs": [
    {
     "name": "stdout",
     "output_type": "stream",
     "text": [
      "32 inch Samsung company\n",
      "gaming\n"
     ]
    }
   ],
   "source": [
    "class Computer():\n",
    "    def __init__(self):\n",
    "        self.monitor = \"32 inch Samsung company\"\n",
    "        self.keyboard = \"Mechanical\"\n",
    "        self.mouse = \"gaming\"\n",
    "c = Computer()\n",
    "print(c.monitor)\n",
    "print(c.mouse)\n",
    "        "
   ]
  },
  {
   "cell_type": "code",
   "execution_count": 5,
   "id": "f4d56c8a",
   "metadata": {},
   "outputs": [
    {
     "ename": "SyntaxError",
     "evalue": "invalid syntax (1477905206.py, line 1)",
     "output_type": "error",
     "traceback": [
      "\u001b[1;36m  File \u001b[1;32m\"C:\\Users\\DELL\\AppData\\Local\\Temp\\ipykernel_13944\\1477905206.py\"\u001b[1;36m, line \u001b[1;32m1\u001b[0m\n\u001b[1;33m    class Color()\u001b[0m\n\u001b[1;37m                 ^\u001b[0m\n\u001b[1;31mSyntaxError\u001b[0m\u001b[1;31m:\u001b[0m invalid syntax\n"
     ]
    }
   ],
   "source": [
    "class Color():\n",
    "    def __init__(self):\n",
    "        self.main_color - \"Green\"\n",
    "        \n",
    "    class Green():\n",
    "        def__init__(self):\n",
    "            self.light_green = \"A\"\n",
    "            self.dark_green = \"B\""
   ]
  },
  {
   "cell_type": "code",
   "execution_count": null,
   "id": "83bafe71",
   "metadata": {},
   "outputs": [],
   "source": [
    "#inheritance in python"
   ]
  },
  {
   "cell_type": "code",
   "execution_count": 7,
   "id": "8d99d9af",
   "metadata": {},
   "outputs": [
    {
     "name": "stdout",
     "output_type": "stream",
     "text": [
      "Father Calls Son\n",
      "son son\n"
     ]
    }
   ],
   "source": [
    "#single inheritance\n",
    "class Father():\n",
    "    def show_F(self):\n",
    "        print(\"Father Calls Son\")\n",
    "class Son(Father):\n",
    "    def show_S(self):\n",
    "        print(\"son son\")\n",
    "s= Son()        \n",
    "s.show_F()\n",
    "s.show_S()\n",
    "f = Father()\n"
   ]
  },
  {
   "cell_type": "code",
   "execution_count": 9,
   "id": "296e1f88",
   "metadata": {},
   "outputs": [
    {
     "name": "stdout",
     "output_type": "stream",
     "text": [
      "Father Calls Son\n",
      "son son\n",
      "No acces to Father\n"
     ]
    }
   ],
   "source": [
    "#\n",
    "class Father():\n",
    "    def show_F(self):\n",
    "        print(\"Father Calls Son\")\n",
    "class Son(Father):\n",
    "    def show_S(self):\n",
    "        print(\"son son\")\n",
    "class Daughter(Father):\n",
    "    def show_D(self):\n",
    "        print(\"No acces to Father\")\n",
    "d= Daughter()        \n",
    "d.show_F()\n",
    "d.show_S()\n",
    "d.show_D()\n",
    "f = Father()\n"
   ]
  },
  {
   "cell_type": "code",
   "execution_count": 18,
   "id": "25a388f9",
   "metadata": {},
   "outputs": [
    {
     "name": "stdout",
     "output_type": "stream",
     "text": [
      "No acces to Father\n",
      "son son\n",
      "yahama\n"
     ]
    }
   ],
   "source": [
    "#constructor inheritance\n",
    "#with parameters\n",
    "class Father():\n",
    "    def __init__(self):\n",
    "        self.house = \"House\"\n",
    "        self.money = \"1 million\"\n",
    "        print(\"Father Calls Son\")\n",
    "    def show_S(self):\n",
    "        print(\"son son\")\n",
    "class Daughter(Father):\n",
    "    def __init__(self):\n",
    "        self.bike = \"yahama\"\n",
    "        self.money = \"10 thousand\"\n",
    "    def show_D(self):\n",
    "        print(\"No acces to Father\")\n",
    "d= Daughter()        \n",
    "d.show_D()\n",
    "d.show_S()\n",
    "print(d.bike)\n"
   ]
  },
  {
   "cell_type": "code",
   "execution_count": null,
   "id": "1c3489bf",
   "metadata": {},
   "outputs": [],
   "source": []
  }
 ],
 "metadata": {
  "kernelspec": {
   "display_name": "Python 3 (ipykernel)",
   "language": "python",
   "name": "python3"
  },
  "language_info": {
   "codemirror_mode": {
    "name": "ipython",
    "version": 3
   },
   "file_extension": ".py",
   "mimetype": "text/x-python",
   "name": "python",
   "nbconvert_exporter": "python",
   "pygments_lexer": "ipython3",
   "version": "3.9.13"
  }
 },
 "nbformat": 4,
 "nbformat_minor": 5
}
