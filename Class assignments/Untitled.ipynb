{
 "cells": [
  {
   "cell_type": "code",
   "execution_count": 3,
   "id": "b357042f",
   "metadata": {},
   "outputs": [
    {
     "name": "stdout",
     "output_type": "stream",
     "text": [
      "Enter any number :12\n",
      "Enter any number :10\n",
      "The multiplication of 12 x 10 = 120\n"
     ]
    }
   ],
   "source": [
    "a = int(input(\"Enter any number :\"))\n",
    "b = int(input(\"Enter any number :\"))\n",
    "print(\"The multiplication of\", a, \"x\", b, \"=\", a*b)\n",
    "\n"
   ]
  },
  {
   "cell_type": "code",
   "execution_count": 6,
   "id": "1bf7fc00",
   "metadata": {},
   "outputs": [
    {
     "name": "stdout",
     "output_type": "stream",
     "text": [
      "I**am**form**nepal\n"
     ]
    }
   ],
   "source": [
    "print('I', 'am', 'form', 'nepal', sep= \"**\")"
   ]
  },
  {
   "cell_type": "code",
   "execution_count": 11,
   "id": "cb26dd3c",
   "metadata": {},
   "outputs": [
    {
     "name": "stdout",
     "output_type": "stream",
     "text": [
      "I'm form nepal.\n"
     ]
    }
   ],
   "source": [
    "print(\"I'm form nepal.\")"
   ]
  },
  {
   "cell_type": "code",
   "execution_count": 13,
   "id": "2be54505",
   "metadata": {},
   "outputs": [
    {
     "name": "stdout",
     "output_type": "stream",
     "text": [
      "Enter your name:jayanti\n",
      "Welcome to info tech bhaktapur jayanti .\n"
     ]
    }
   ],
   "source": [
    "name = input(\"Enter your name:\")\n",
    "print(\"Welcome to info tech bhaktapur\", name,\".\")"
   ]
  },
  {
   "cell_type": "code",
   "execution_count": 2,
   "id": "2369a6bb",
   "metadata": {},
   "outputs": [
    {
     "name": "stdout",
     "output_type": "stream",
     "text": [
      "Enter your name:87\n"
     ]
    },
    {
     "data": {
      "text/plain": [
       "str"
      ]
     },
     "execution_count": 2,
     "metadata": {},
     "output_type": "execute_result"
    }
   ],
   "source": [
    "name = input(\"Enter your name:\")\n",
    "type(name)"
   ]
  },
  {
   "cell_type": "code",
   "execution_count": 1,
   "id": "8426c712",
   "metadata": {},
   "outputs": [
    {
     "name": "stdout",
     "output_type": "stream",
     "text": [
      "Local\n"
     ]
    }
   ],
   "source": [
    "def func():\n",
    "    global value\n",
    "    value = \"Local\"\n",
    "value = \"Global\"\n",
    "func()\n",
    "print (value)"
   ]
  },
  {
   "cell_type": "code",
   "execution_count": 2,
   "id": "7df77f80",
   "metadata": {},
   "outputs": [
    {
     "name": "stdout",
     "output_type": "stream",
     "text": [
      "[2, 4, 6]\n",
      "[2, 4, 6]\n"
     ]
    }
   ],
   "source": [
    "def solve(a):\n",
    "    a = [1,3,5]\n",
    "a = [2,4,6]\n",
    "print(a)\n",
    "solve(a)\n",
    "print(a)"
   ]
  },
  {
   "cell_type": "code",
   "execution_count": 3,
   "id": "3487a030",
   "metadata": {},
   "outputs": [
    {
     "name": "stdout",
     "output_type": "stream",
     "text": [
      "0 3 6 9 12 15 "
     ]
    }
   ],
   "source": [
    "count = 0\n",
    "while(True):\n",
    "    if count % 3 == 0:\n",
    "        print(count, end = \" \")\n",
    "    if (count > 15):\n",
    "        break;\n",
    "    count += 1"
   ]
  },
  {
   "cell_type": "code",
   "execution_count": 4,
   "id": "ba8d82da",
   "metadata": {},
   "outputs": [
    {
     "name": "stdout",
     "output_type": "stream",
     "text": [
      "129\n"
     ]
    }
   ],
   "source": [
    "print(2**3+(5+6)**(1+1))"
   ]
  },
  {
   "cell_type": "code",
   "execution_count": 5,
   "id": "94217dab",
   "metadata": {},
   "outputs": [
    {
     "name": "stdout",
     "output_type": "stream",
     "text": [
      "4\n"
     ]
    }
   ],
   "source": [
    "x = [1,2,3]\n",
    "y = [4,5,6]\n",
    "z = [x,y]\n",
    "w = z[1][0]\n",
    "print(w)"
   ]
  },
  {
   "cell_type": "code",
   "execution_count": 6,
   "id": "dab607ac",
   "metadata": {},
   "outputs": [
    {
     "name": "stdout",
     "output_type": "stream",
     "text": [
      "Heppo\n"
     ]
    }
   ],
   "source": [
    "x = \"Hello\"\n",
    "y = x.replace(\"l\",\"p\")\n",
    "print(y)"
   ]
  },
  {
   "cell_type": "code",
   "execution_count": 7,
   "id": "b6a89342",
   "metadata": {},
   "outputs": [
    {
     "name": "stdout",
     "output_type": "stream",
     "text": [
      "oW oll\n"
     ]
    }
   ],
   "source": [
    "x = \"Hello World\"\n",
    "y = x[2:8]\n",
    "z = y[::-1]\n",
    "print(z)"
   ]
  },
  {
   "cell_type": "code",
   "execution_count": 9,
   "id": "d176a60d",
   "metadata": {},
   "outputs": [
    {
     "name": "stdout",
     "output_type": "stream",
     "text": [
      "[1, 2, 3]\n"
     ]
    }
   ],
   "source": [
    "x = [1,2,3]\n",
    "y = x\n",
    "x = [4,5,6]\n",
    "print(y)"
   ]
  },
  {
   "cell_type": "code",
   "execution_count": 11,
   "id": "81dc82d8",
   "metadata": {},
   "outputs": [
    {
     "name": "stdout",
     "output_type": "stream",
     "text": [
      "Hello World\n"
     ]
    }
   ],
   "source": [
    "x = \"Hello\"\n",
    "y = \"World\"\n",
    "z = x + \" \" + y\n",
    "print(z)"
   ]
  },
  {
   "cell_type": "code",
   "execution_count": 12,
   "id": "08e035f5",
   "metadata": {},
   "outputs": [
    {
     "name": "stdout",
     "output_type": "stream",
     "text": [
      "True\n"
     ]
    }
   ],
   "source": [
    "def foo(x):\n",
    "    if x < 0:\n",
    "        return \"Negative\"\n",
    "    elif x == 0:\n",
    "        return \"Zero\"\n",
    "    else:\n",
    "        return \"Positive\"\n",
    "print(foo(0) == foo(-0))"
   ]
  },
  {
   "cell_type": "code",
   "execution_count": 13,
   "id": "b15a3566",
   "metadata": {},
   "outputs": [
    {
     "name": "stdout",
     "output_type": "stream",
     "text": [
      "[1, 2, 3]\n"
     ]
    }
   ],
   "source": [
    "x = [1,2,3]\n",
    "y = x.copy()\n",
    "x.append([4,5])\n",
    "print(y)"
   ]
  },
  {
   "cell_type": "code",
   "execution_count": null,
   "id": "7484c2d5",
   "metadata": {},
   "outputs": [],
   "source": []
  }
 ],
 "metadata": {
  "kernelspec": {
   "display_name": "Python 3 (ipykernel)",
   "language": "python",
   "name": "python3"
  },
  "language_info": {
   "codemirror_mode": {
    "name": "ipython",
    "version": 3
   },
   "file_extension": ".py",
   "mimetype": "text/x-python",
   "name": "python",
   "nbconvert_exporter": "python",
   "pygments_lexer": "ipython3",
   "version": "3.9.13"
  }
 },
 "nbformat": 4,
 "nbformat_minor": 5
}
