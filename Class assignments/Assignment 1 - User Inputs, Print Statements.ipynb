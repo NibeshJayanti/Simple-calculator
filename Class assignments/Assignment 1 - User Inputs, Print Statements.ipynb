{
 "cells": [
  {
   "cell_type": "markdown",
   "id": "c4cfd1c5",
   "metadata": {},
   "source": [
    "# Accept two numbers from the user and calculate multiplication."
   ]
  },
  {
   "cell_type": "code",
   "execution_count": 20,
   "id": "224071e4",
   "metadata": {},
   "outputs": [
    {
     "name": "stdout",
     "output_type": "stream",
     "text": [
      "type any number15\n",
      "type any number12\n",
      "a*b= 180\n"
     ]
    }
   ],
   "source": [
    "#Solution here:\n",
    "a= int(input(\"type any number\"))\n",
    "b= int(input(\"type any number\"))\n",
    "print(\"a*b=\",a*b)"
   ]
  },
  {
   "cell_type": "markdown",
   "id": "22a4ded5",
   "metadata": {},
   "source": [
    "# Display “I am from Nepal.” as “I ** am ** from ** Nepal.” using output formatting of a print() function"
   ]
  },
  {
   "cell_type": "markdown",
   "id": "440f34dc",
   "metadata": {},
   "source": [
    "Use print() statement formatting to display the ** separator between each word.\n",
    "\n",
    "For example: print('I', 'am', 'from', 'Nepal.') will display I am from Nepal.\n",
    "\n",
    "So use one of the formatting argument of print() to turn the output into I ** am ** from ** Nepal."
   ]
  },
  {
   "cell_type": "code",
   "execution_count": 11,
   "id": "5f36f61e",
   "metadata": {},
   "outputs": [
    {
     "name": "stdout",
     "output_type": "stream",
     "text": [
      "I**am**form**Nepal. \n",
      "i**am**form**nepal.\n"
     ]
    }
   ],
   "source": [
    "#Solution here:\n",
    "print(\"I**am**form**Nepal. \")\n",
    "print('i','am','form','nepal.', sep = \"**\")"
   ]
  },
  {
   "cell_type": "markdown",
   "id": "fcf5a248",
   "metadata": {},
   "source": [
    "# Print  the statement: \n",
    "#### \"I'm from Nepal.\""
   ]
  },
  {
   "cell_type": "markdown",
   "id": "9613d420",
   "metadata": {},
   "source": [
    "Use escape sequence to resolve the problem."
   ]
  },
  {
   "cell_type": "code",
   "execution_count": 12,
   "id": "52eb5470",
   "metadata": {},
   "outputs": [
    {
     "data": {
      "text/plain": [
       "\"I'm form Nepal.\""
      ]
     },
     "execution_count": 12,
     "metadata": {},
     "output_type": "execute_result"
    }
   ],
   "source": [
    "#Solution here:\n",
    "\"I'm form Nepal.\""
   ]
  },
  {
   "cell_type": "markdown",
   "id": "7071bfba",
   "metadata": {},
   "source": [
    "# Print out directory of your python basic jupyter notebook location."
   ]
  },
  {
   "cell_type": "markdown",
   "id": "c8c7cbe9",
   "metadata": {},
   "source": [
    "For example: My directory is C:\\Users\\Pro-MechPC5\\Desktop\\01PythonForBeginners20210424\n",
    "Use escape sequence to resolve the problem."
   ]
  },
  {
   "cell_type": "code",
   "execution_count": null,
   "id": "1a1e923d",
   "metadata": {},
   "outputs": [],
   "source": [
    "#Solution here:"
   ]
  },
  {
   "cell_type": "markdown",
   "id": "f7ca690a",
   "metadata": {},
   "source": [
    "# Print out the statement: \n",
    "\n",
    "#### \" Stay Safe. Stay Connected. \n",
    "\n",
    "#### Let's utilize our free time to learn the most demanding programming language in the world - 'Python'.\""
   ]
  },
  {
   "cell_type": "markdown",
   "id": "3bc3abed",
   "metadata": {},
   "source": [
    "Use three print statement. First line should be tab separated.\n",
    "Second is empty print statement.\n",
    "Third should use escape sequence to solve the problem.\n",
    "\n",
    "Outcome:\n",
    "\n",
    "Stay    Safe.    Stay    Connected.\n",
    "\n",
    "Let's utilize our free time to learn the most demanding programming language in the world - 'Python'."
   ]
  },
  {
   "cell_type": "code",
   "execution_count": 21,
   "id": "2ad005c6",
   "metadata": {},
   "outputs": [
    {
     "ename": "NameError",
     "evalue": "name 'n' is not defined",
     "output_type": "error",
     "traceback": [
      "\u001b[1;31m---------------------------------------------------------------------------\u001b[0m",
      "\u001b[1;31mNameError\u001b[0m                                 Traceback (most recent call last)",
      "\u001b[1;32m~\\AppData\\Local\\Temp\\ipykernel_13680\\1454969712.py\u001b[0m in \u001b[0;36m<module>\u001b[1;34m\u001b[0m\n\u001b[0;32m      1\u001b[0m \u001b[1;31m#Solution here:\u001b[0m\u001b[1;33m\u001b[0m\u001b[1;33m\u001b[0m\u001b[0m\n\u001b[1;32m----> 2\u001b[1;33m \u001b[0mprint\u001b[0m\u001b[1;33m(\u001b[0m\u001b[1;34m\"Stay Safe. Stay Connected.\"\u001b[0m\u001b[1;33m/\u001b[0m\u001b[0mn\u001b[0m \u001b[1;33m,\u001b[0m\u001b[1;34m\"Let's\"\u001b[0m\u001b[1;33m)\u001b[0m\u001b[1;33m\u001b[0m\u001b[1;33m\u001b[0m\u001b[0m\n\u001b[0m",
      "\u001b[1;31mNameError\u001b[0m: name 'n' is not defined"
     ]
    }
   ],
   "source": [
    "#Solution here:\n",
    "print(\"Stay Safe. Stay Connected.\"/n ,\"Let's\")"
   ]
  },
  {
   "cell_type": "markdown",
   "id": "124e6fa1",
   "metadata": {},
   "source": [
    "# Take your name as user input and print the statement \"Welcome to NextStep InfoTech Name.\""
   ]
  },
  {
   "cell_type": "markdown",
   "id": "61d491f5",
   "metadata": {},
   "source": [
    "Example:\n",
    "\n",
    "name = Gopal\n",
    "\n",
    "Output:\n",
    "\n",
    "Welcome to NextStep InfoTech Gopal."
   ]
  },
  {
   "cell_type": "code",
   "execution_count": 17,
   "id": "6e2c3978",
   "metadata": {},
   "outputs": [
    {
     "name": "stdout",
     "output_type": "stream",
     "text": [
      "what is your name?nibesh\n",
      "your name is nibesh\n"
     ]
    }
   ],
   "source": [
    "#Solution here:\n",
    "name = input(\"what is your name?\")\n",
    "print(\"your name is\", name)"
   ]
  },
  {
   "cell_type": "code",
   "execution_count": null,
   "id": "eabea9f6",
   "metadata": {},
   "outputs": [],
   "source": []
  }
 ],
 "metadata": {
  "kernelspec": {
   "display_name": "Python 3 (ipykernel)",
   "language": "python",
   "name": "python3"
  },
  "language_info": {
   "codemirror_mode": {
    "name": "ipython",
    "version": 3
   },
   "file_extension": ".py",
   "mimetype": "text/x-python",
   "name": "python",
   "nbconvert_exporter": "python",
   "pygments_lexer": "ipython3",
   "version": "3.9.13"
  }
 },
 "nbformat": 4,
 "nbformat_minor": 5
}
