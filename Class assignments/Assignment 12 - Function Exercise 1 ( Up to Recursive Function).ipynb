{
 "cells": [
  {
   "cell_type": "markdown",
   "id": "2b60da86",
   "metadata": {},
   "source": [
    "## Write a Python function to sum all the numbers in a list.\n",
    "Sample List : [8, 2, 3, 0, 7]\n",
    "\n",
    "Expected Output : 20"
   ]
  },
  {
   "cell_type": "code",
   "execution_count": 19,
   "id": "703c8667",
   "metadata": {},
   "outputs": [
    {
     "name": "stdout",
     "output_type": "stream",
     "text": [
      "20\n"
     ]
    }
   ],
   "source": [
    "#Solution here:\n",
    "sample =[8,2,3,0,7]\n",
    "def getsum(lst):\n",
    "    return sum(lst)\n",
    "r = getsum([8,2,3,0,7])\n",
    "print(r)\n",
    "\n",
    "\n",
    "\n",
    "    \n",
    "    "
   ]
  },
  {
   "cell_type": "markdown",
   "id": "500e18b6",
   "metadata": {},
   "source": [
    "## Write a Python program to reverse a string.\n",
    "Sample String : \"1234abcd\"\n",
    "\n",
    "Expected Output : \"dcba4321\""
   ]
  },
  {
   "cell_type": "code",
   "execution_count": 18,
   "id": "57103996",
   "metadata": {},
   "outputs": [
    {
     "name": "stdout",
     "output_type": "stream",
     "text": [
      "dcba4321\n"
     ]
    }
   ],
   "source": [
    "#Solution here:\n",
    "sample = (\"1234abcd\")\n",
    "i = sample[::-1]\n",
    "print(i)"
   ]
  },
  {
   "cell_type": "markdown",
   "id": "da814593",
   "metadata": {},
   "source": [
    "## Write a Python function to calculate the factorial of a number (a non-negative integer). The function accepts the number as an argument.\n",
    "\n",
    "Hint: Use recursive function"
   ]
  },
  {
   "cell_type": "code",
   "execution_count": null,
   "id": "76a59728",
   "metadata": {},
   "outputs": [],
   "source": [
    "#Solution here:"
   ]
  },
  {
   "cell_type": "markdown",
   "id": "598ccfce",
   "metadata": {},
   "source": [
    "## Write a Python function that accepts a string and calculate the number of upper case letters and lower case letters.\n",
    "Sample String : 'The quick Brown Fox'\n",
    "    \n",
    "Expected Output :\n",
    "\n",
    "No. of Upper case characters : 3\n",
    "\n",
    "No. of Lower case Characters : 12"
   ]
  },
  {
   "cell_type": "code",
   "execution_count": null,
   "id": "ca86f106",
   "metadata": {},
   "outputs": [],
   "source": [
    "#Solution here:"
   ]
  },
  {
   "cell_type": "markdown",
   "id": "fd3f5e47",
   "metadata": {},
   "source": [
    "## Write a Python function that takes a number as a parameter and check the number is prime or not.\n",
    "Note : A prime number (or a prime) is a natural number greater than 1 and that has no positive divisors other than 1 and itself."
   ]
  },
  {
   "cell_type": "code",
   "execution_count": null,
   "id": "a85ff9fa",
   "metadata": {},
   "outputs": [],
   "source": [
    "#Solution here:\n",
    "n =int(input(\"Enter any number\"):\n",
    "for i in range(2,n):\n",
    "    if n %i == 0:\n",
    "        print (\"It is not a prime number\")"
   ]
  },
  {
   "cell_type": "markdown",
   "id": "f06df557",
   "metadata": {},
   "source": [
    "## Write a Python function that checks whether a passed string is palindrome or not.\n",
    "Note: A palindrome is a word, phrase, or sequence that reads the same backward as forward, e.g., madam or nurses run."
   ]
  },
  {
   "cell_type": "code",
   "execution_count": 17,
   "id": "63af2b05",
   "metadata": {},
   "outputs": [
    {
     "name": "stdout",
     "output_type": "stream",
     "text": [
      "palindrome\n"
     ]
    }
   ],
   "source": [
    "#Solution here:\n",
    "def number(word):\n",
    "    i =str(word)\n",
    "    r = i[::-1]\n",
    "    if i == r:\n",
    "        print (\"palindrome\")\n",
    "number(12321)"
   ]
  },
  {
   "cell_type": "markdown",
   "id": "8e64c363",
   "metadata": {},
   "source": [
    "## Write a Python function to check whether a string is a pangram or not. \n",
    "Note : Pangrams are words or sentences containing every letter of the alphabet at least once.\n",
    "For example : \"The quick brown fox jumps over the lazy dog\n",
    "\n",
    "Create a list containing every alphabet. Then loop through the list and check whether the character exist in the sentence or not. If any alphabet not found, break the loop. "
   ]
  },
  {
   "cell_type": "code",
   "execution_count": 34,
   "id": "a97d8b00",
   "metadata": {},
   "outputs": [
    {
     "name": "stdout",
     "output_type": "stream",
     "text": [
      "not pangram\n",
      "not pangram\n",
      "not pangram\n",
      "not pangram\n",
      "Pangram\n"
     ]
    }
   ],
   "source": [
    "#Solution here:\n",
    "alp = [\"a\",\"b\",\"c\",\"d\",\"e\",\"f\",\"g\",\"h\",\"i\",\"j\",\"k\",\"l\",\"m\",\"n\",\"o\",\"p\",\"q\",\"r\",\"s\",\"t\",\"u\",\"v\",\"w\",\"x\",\"y\",\"z\"]\n",
    "sample = (\"The brown fox jumps over the lazy dog \")\n",
    "for i in alp:\n",
    "    if i in sample:\n",
    "        continue\n",
    "    else:\n",
    "        print(\"not pangram\")    \n",
    "else:\n",
    "    print(\"Pangram\")\n",
    "    \n"
   ]
  },
  {
   "cell_type": "markdown",
   "id": "e2783654",
   "metadata": {},
   "source": [
    "## Write a Python program that accepts a hyphen-separated sequence of words as input and prints the words in a hyphen-separated sequence after sorting them alphabetically.\n",
    "Sample Items : green-red-yellow-black-white\n",
    "\n",
    "Expected Result : black-green-red-white-yellow"
   ]
  },
  {
   "cell_type": "code",
   "execution_count": 40,
   "id": "019b9bf7",
   "metadata": {},
   "outputs": [
    {
     "name": "stdout",
     "output_type": "stream",
     "text": [
      "['black', 'green', 'red', 'white', 'yellow']\n",
      "-wolley-etihw-der-neerg-kcalb\n"
     ]
    }
   ],
   "source": [
    "#Solution here:\n",
    "color = \"green-red-yellow-black-white\"\n",
    "color = color.split(\"-\")\n",
    "color.sort()\n",
    "print(color)\n",
    "result = \"\"\n",
    "for c in color:\n",
    "    result += c+\"-\"\n",
    "print(result[::-1])\n",
    "    "
   ]
  },
  {
   "cell_type": "markdown",
   "id": "20552fb0",
   "metadata": {},
   "source": [
    "## Write a function called listManipulation. This function should take in four parameters ( a list, command, location and value).\n",
    "1. IF the command is 'remove' and the location is 'end', the function should remove the last value\n",
    "   in the list and return the value removed.\n",
    "2. IF the command is 'remove' and the location is 'beginning', the function should remove the first value\n",
    "   in the list and return the value removed. \n",
    "3. IF the command is 'add' and the location is 'beginning', the function should add the\n",
    "   value (the 4th parameter) to the beginning of the list and return the list.\n",
    "4. IF the command is 'add' and the location is 'end', the function should add the\n",
    "   value (the 4th parameter) to the end of the list and return the list.\n",
    "   \n",
    "   \n",
    "Example output\n",
    "\n",
    "listManipulation([1,2,3], \"remove\", \"end\") # 3\n",
    "\n",
    "listManipulation([1,2,3], \"remove\", \"beginning\") #  1\n",
    "\n",
    "listManipulation([1,2,3], \"add\", \"beginning\", 20) #  [20,1,2,3]\n",
    "\n",
    "listManipulation([1,2,3], \"add\", \"end\", 30) #  [1,2,3,30]"
   ]
  },
  {
   "cell_type": "code",
   "execution_count": null,
   "id": "5babda8a",
   "metadata": {},
   "outputs": [],
   "source": [
    "#Solution here:"
   ]
  },
  {
   "cell_type": "markdown",
   "id": "8488f1a5",
   "metadata": {},
   "source": [
    "## Write a function called mathValue. This function should take in three parameters (two numbers and a command).\n",
    "This function must contain solution for addition, subtraction, multiplication, division, power, max, min properties and whatever the user put as command, respective work should be done.\n",
    "\n",
    "Example output:\n",
    "\n",
    "mathValue(10,20, add)  should give result 30.\n",
    "\n",
    "mathValue(100,20, subtract)  should give result 80.\n",
    "\n",
    "mathValue(10,20, multiplication)  should give result 200.\n",
    "\n",
    "mathValue(100,20, division)  should give result 5.\n",
    "\n",
    "mathValue(10,3, power)  should give result 1000.\n",
    "\n",
    "mathValue(10,20, max)  should give result 20.\n",
    "\n",
    "mathValue(10,20, min)  should give result 10."
   ]
  },
  {
   "cell_type": "code",
   "execution_count": null,
   "id": "fe45cba4",
   "metadata": {},
   "outputs": [],
   "source": [
    "#Solution here:"
   ]
  }
 ],
 "metadata": {
  "kernelspec": {
   "display_name": "Python 3 (ipykernel)",
   "language": "python",
   "name": "python3"
  },
  "language_info": {
   "codemirror_mode": {
    "name": "ipython",
    "version": 3
   },
   "file_extension": ".py",
   "mimetype": "text/x-python",
   "name": "python",
   "nbconvert_exporter": "python",
   "pygments_lexer": "ipython3",
   "version": "3.9.13"
  }
 },
 "nbformat": 4,
 "nbformat_minor": 5
}
