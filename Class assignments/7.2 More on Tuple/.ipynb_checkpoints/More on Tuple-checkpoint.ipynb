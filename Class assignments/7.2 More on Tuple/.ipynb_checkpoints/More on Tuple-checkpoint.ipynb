{
 "cells": [
  {
   "cell_type": "markdown",
   "id": "63bd6076",
   "metadata": {},
   "source": [
    "# Access Tuple using for and while Loop in Python"
   ]
  },
  {
   "cell_type": "code",
   "execution_count": 1,
   "id": "21452ab7",
   "metadata": {},
   "outputs": [
    {
     "name": "stdout",
     "output_type": "stream",
     "text": [
      "1\n",
      "2\n",
      "three\n",
      "4.0\n"
     ]
    }
   ],
   "source": [
    "# For loop\n",
    "tup = (1, 2, \"three\", 4.0)\n",
    "for t in tup:\n",
    "    print(t)"
   ]
  },
  {
   "cell_type": "code",
   "execution_count": 2,
   "id": "01bf9bc0",
   "metadata": {},
   "outputs": [
    {
     "name": "stdout",
     "output_type": "stream",
     "text": [
      "1\n",
      "2\n",
      "three\n",
      "4.0\n"
     ]
    }
   ],
   "source": [
    "# While Loop\n",
    "i = 0\n",
    "while i<len(tup):\n",
    "    print(tup[i])\n",
    "    i+=1"
   ]
  },
  {
   "cell_type": "markdown",
   "id": "a6124ebe",
   "metadata": {},
   "source": [
    "# Slicing in Tuple"
   ]
  },
  {
   "cell_type": "code",
   "execution_count": 3,
   "id": "6ed73bbb",
   "metadata": {},
   "outputs": [
    {
     "data": {
      "text/plain": [
       "(1, 2, 'three')"
      ]
     },
     "execution_count": 3,
     "metadata": {},
     "output_type": "execute_result"
    }
   ],
   "source": [
    "#Example:\n",
    "tup = (1, 2, \"three\", 4.0, \"four\", \"five\", \"six\")\n",
    "tup[0:3]"
   ]
  },
  {
   "cell_type": "code",
   "execution_count": 4,
   "id": "1bd331dc",
   "metadata": {},
   "outputs": [
    {
     "data": {
      "text/plain": [
       "(1, 2, 'three')"
      ]
     },
     "execution_count": 4,
     "metadata": {},
     "output_type": "execute_result"
    }
   ],
   "source": [
    "tup[:3]"
   ]
  },
  {
   "cell_type": "code",
   "execution_count": 5,
   "id": "b6681b56",
   "metadata": {},
   "outputs": [
    {
     "data": {
      "text/plain": [
       "(2, 'three', 4.0, 'four')"
      ]
     },
     "execution_count": 5,
     "metadata": {},
     "output_type": "execute_result"
    }
   ],
   "source": [
    "tup[1:5]"
   ]
  },
  {
   "cell_type": "code",
   "execution_count": 6,
   "id": "a3bd5afd",
   "metadata": {},
   "outputs": [
    {
     "data": {
      "text/plain": [
       "('four', 'five', 'six')"
      ]
     },
     "execution_count": 6,
     "metadata": {},
     "output_type": "execute_result"
    }
   ],
   "source": [
    "tup[4:]"
   ]
  },
  {
   "cell_type": "code",
   "execution_count": null,
   "id": "799e79f8",
   "metadata": {},
   "outputs": [],
   "source": [
    "tup[-5:-1]"
   ]
  },
  {
   "cell_type": "code",
   "execution_count": null,
   "id": "70d02785",
   "metadata": {},
   "outputs": [],
   "source": [
    "tup[1:8:2]"
   ]
  },
  {
   "cell_type": "code",
   "execution_count": null,
   "id": "e6115caf",
   "metadata": {},
   "outputs": [],
   "source": [
    "tup[-8:-1:2]"
   ]
  },
  {
   "cell_type": "markdown",
   "id": "68ff13bb",
   "metadata": {},
   "source": [
    "# Tuple Concatenation, Repeatition and Aliasing in Python"
   ]
  },
  {
   "cell_type": "markdown",
   "id": "5a761251",
   "metadata": {},
   "source": [
    "## Tuple Concatenation"
   ]
  },
  {
   "cell_type": "markdown",
   "id": "2b11e434",
   "metadata": {},
   "source": [
    "**+** operator is used to do concatenation the tuple."
   ]
  },
  {
   "cell_type": "code",
   "execution_count": 10,
   "id": "0485b2a4",
   "metadata": {},
   "outputs": [
    {
     "name": "stdout",
     "output_type": "stream",
     "text": [
      "(1, 2, 3, 7, 8, 9)\n",
      "(1, 2, 3)\n",
      "(7, 8, 9)\n"
     ]
    }
   ],
   "source": [
    "#Example:\n",
    "tup1 =  (1,2,3)\n",
    "tup2 = (7,8,9)\n",
    "print(tup1 + tup2)\n",
    "print(tup1)\n",
    "print(tup2)"
   ]
  },
  {
   "cell_type": "markdown",
   "id": "be6782c3",
   "metadata": {},
   "source": [
    "## Repeatition of Tuple"
   ]
  },
  {
   "cell_type": "markdown",
   "id": "f07ea86e",
   "metadata": {},
   "source": [
    "**x** Operator is used to repeat the elements of tuple."
   ]
  },
  {
   "cell_type": "code",
   "execution_count": 11,
   "id": "ab720c11",
   "metadata": {},
   "outputs": [
    {
     "data": {
      "text/plain": [
       "(1, 2, 3, 1, 2, 3, 1, 2, 3)"
      ]
     },
     "execution_count": 11,
     "metadata": {},
     "output_type": "execute_result"
    }
   ],
   "source": [
    "#Example:\n",
    "tup1 =  (1,2,3)\n",
    "tup1*3"
   ]
  },
  {
   "cell_type": "markdown",
   "id": "dca6e835",
   "metadata": {},
   "source": [
    "## Aliasing Tuple"
   ]
  },
  {
   "cell_type": "markdown",
   "id": "bd0a6b3d",
   "metadata": {},
   "source": [
    "Aliasing means giving another name to the existing object. It doesn't mean copying."
   ]
  },
  {
   "cell_type": "code",
   "execution_count": 16,
   "id": "959918a7",
   "metadata": {},
   "outputs": [
    {
     "name": "stdout",
     "output_type": "stream",
     "text": [
      "(15, 59, 35, 75)\n",
      "(15, 59, 35, 75)\n"
     ]
    }
   ],
   "source": [
    "tup3 = (15,59,35,75)\n",
    "tup4 = tup3\n",
    "print(tup3)\n",
    "print(tup4)"
   ]
  },
  {
   "cell_type": "markdown",
   "id": "89f8e9bc",
   "metadata": {},
   "source": [
    "# Modifying Tuple Element in Python"
   ]
  },
  {
   "cell_type": "markdown",
   "id": "952ca2ef",
   "metadata": {},
   "source": [
    "Tuples are immutable so it is not possible to modify, update or delete it's element."
   ]
  },
  {
   "cell_type": "code",
   "execution_count": 17,
   "id": "0ac0f2a5",
   "metadata": {},
   "outputs": [
    {
     "name": "stdout",
     "output_type": "stream",
     "text": [
      "(34, 67, 115, 157, 59, 456, 35, 75, 982)\n"
     ]
    }
   ],
   "source": [
    "#Example:\n",
    "tup5 = (34,67,115,157,59,456,35,75)\n",
    "temp = list(tup5)\n",
    "temp.append(982)\n",
    "print(tuple(temp))"
   ]
  },
  {
   "cell_type": "markdown",
   "id": "a4a2923e",
   "metadata": {},
   "source": [
    "# Deleting Tuple in Python"
   ]
  },
  {
   "cell_type": "markdown",
   "id": "6bbbc186",
   "metadata": {},
   "source": [
    "We can delete entire tuple but not an element of tuple."
   ]
  },
  {
   "cell_type": "code",
   "execution_count": 18,
   "id": "7b0b1933",
   "metadata": {},
   "outputs": [
    {
     "ename": "NameError",
     "evalue": "name 'tup3' is not defined",
     "output_type": "error",
     "traceback": [
      "\u001b[1;31m---------------------------------------------------------------------------\u001b[0m",
      "\u001b[1;31mNameError\u001b[0m                                 Traceback (most recent call last)",
      "Cell \u001b[1;32mIn[18], line 4\u001b[0m\n\u001b[0;32m      2\u001b[0m tup3 \u001b[38;5;241m=\u001b[39m (\u001b[38;5;241m15\u001b[39m,\u001b[38;5;241m59\u001b[39m,\u001b[38;5;241m35\u001b[39m,\u001b[38;5;241m75\u001b[39m)\n\u001b[0;32m      3\u001b[0m \u001b[38;5;28;01mdel\u001b[39;00m tup3\n\u001b[1;32m----> 4\u001b[0m \u001b[38;5;28mprint\u001b[39m(\u001b[43mtup3\u001b[49m)\n",
      "\u001b[1;31mNameError\u001b[0m: name 'tup3' is not defined"
     ]
    }
   ],
   "source": [
    "#Example:\n",
    "tup3 = (15,59,35,75)\n",
    "del tup3\n",
    "print(tup3)"
   ]
  },
  {
   "cell_type": "markdown",
   "id": "4313025d",
   "metadata": {},
   "source": [
    "# Getting Tuple input from user in Python"
   ]
  },
  {
   "cell_type": "code",
   "execution_count": 19,
   "id": "839563e6",
   "metadata": {},
   "outputs": [
    {
     "name": "stdout",
     "output_type": "stream",
     "text": [
      "How many values? 5\n",
      "Enter number 1: 15\n",
      "Enter number 2: 25\n",
      "Enter number 3: 65\n",
      "Enter number 4: 94\n",
      "Enter number 5: 27\n",
      "(15, 25, 65, 94, 27)\n"
     ]
    }
   ],
   "source": [
    "#Example:\n",
    "values = []\n",
    "num = int(input(\"How many values? \"))\n",
    "for n in range(num):\n",
    "    values.append(int(input(f\"Enter number {n+1}: \")))\n",
    "print(tuple(values))"
   ]
  },
  {
   "cell_type": "markdown",
   "id": "1f2b815b",
   "metadata": {},
   "source": [
    "# How to Copy Tuple Elements in Python"
   ]
  },
  {
   "cell_type": "markdown",
   "id": "493032c3",
   "metadata": {},
   "source": [
    "We can copy elements of tuple into another tuple using slice."
   ]
  },
  {
   "cell_type": "code",
   "execution_count": 20,
   "id": "779d631d",
   "metadata": {},
   "outputs": [
    {
     "name": "stdout",
     "output_type": "stream",
     "text": [
      "(15, 25, 65, 94, 27)\n",
      "(15, 25, 65, 94, 27)\n"
     ]
    }
   ],
   "source": [
    "#Example:\n",
    "val = (15, 25, 65, 94, 27)\n",
    "val2 = val[:]\n",
    "print(val)\n",
    "print(val2)"
   ]
  },
  {
   "cell_type": "code",
   "execution_count": null,
   "id": "bfbcb170",
   "metadata": {},
   "outputs": [],
   "source": []
  }
 ],
 "metadata": {
  "kernelspec": {
   "display_name": "Python 3 (ipykernel)",
   "language": "python",
   "name": "python3"
  },
  "language_info": {
   "codemirror_mode": {
    "name": "ipython",
    "version": 3
   },
   "file_extension": ".py",
   "mimetype": "text/x-python",
   "name": "python",
   "nbconvert_exporter": "python",
   "pygments_lexer": "ipython3",
   "version": "3.11.2"
  }
 },
 "nbformat": 4,
 "nbformat_minor": 5
}
