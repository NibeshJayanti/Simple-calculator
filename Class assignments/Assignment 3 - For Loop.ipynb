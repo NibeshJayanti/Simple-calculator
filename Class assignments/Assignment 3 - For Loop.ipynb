{
 "cells": [
  {
   "cell_type": "markdown",
   "id": "9e2aa07a",
   "metadata": {},
   "source": [
    "# Write a for loop so that every item in the list is printed."
   ]
  },
  {
   "cell_type": "code",
   "execution_count": 1,
   "id": "282c8cfd",
   "metadata": {},
   "outputs": [],
   "source": [
    "lst=[\"koala\", \"cat\", \"fox\", \"panda\", \"chipmunk\", \"sloth\", \"penguin\", \"dolphin\"]"
   ]
  },
  {
   "cell_type": "code",
   "execution_count": 2,
   "id": "ccbf3138",
   "metadata": {},
   "outputs": [],
   "source": [
    "#Solution here:"
   ]
  },
  {
   "cell_type": "markdown",
   "id": "f41939e8",
   "metadata": {},
   "source": [
    "# Write a for loop which print \"Hello!, \" plus each name in the list."
   ]
  },
  {
   "cell_type": "code",
   "execution_count": 3,
   "id": "1abc18b7",
   "metadata": {},
   "outputs": [],
   "source": [
    "names = ['Bibhusan', 'Shradha', 'Subina', 'Sudip','Gopal']"
   ]
  },
  {
   "cell_type": "markdown",
   "id": "c7171180",
   "metadata": {},
   "source": [
    "eg.: \"Hello!, Ram\""
   ]
  },
  {
   "cell_type": "code",
   "execution_count": 4,
   "id": "4b6c9b4f",
   "metadata": {},
   "outputs": [],
   "source": [
    "#Solution here:"
   ]
  },
  {
   "cell_type": "markdown",
   "id": "ffea305f",
   "metadata": {},
   "source": [
    "# Write a for loop that iterates through a string and prints every letter."
   ]
  },
  {
   "cell_type": "code",
   "execution_count": 5,
   "id": "61449b6f",
   "metadata": {},
   "outputs": [],
   "source": [
    "s = \"Keyboard\""
   ]
  },
  {
   "cell_type": "code",
   "execution_count": 6,
   "id": "ac7b597b",
   "metadata": {},
   "outputs": [],
   "source": [
    "#Solution here:"
   ]
  },
  {
   "cell_type": "markdown",
   "id": "27e57562",
   "metadata": {},
   "source": [
    "# Create a counter variable  and write a for loop for each letter in the word so that counter variable is increased by one each time loop iterates."
   ]
  },
  {
   "cell_type": "code",
   "execution_count": 2,
   "id": "833a55a6",
   "metadata": {},
   "outputs": [],
   "source": [
    "s1 = \"Laptop\""
   ]
  },
  {
   "cell_type": "markdown",
   "id": "5f909699",
   "metadata": {},
   "source": [
    "eg: s1 = \"Laptop\"\n",
    "\n",
    "c= 0\n",
    "\n",
    "for i in s1:\n",
    "\n",
    ".......\n",
    "\n",
    "....."
   ]
  },
  {
   "cell_type": "code",
   "execution_count": 3,
   "id": "f899b1df",
   "metadata": {},
   "outputs": [
    {
     "data": {
      "text/plain": [
       "6"
      ]
     },
     "execution_count": 3,
     "metadata": {},
     "output_type": "execute_result"
    }
   ],
   "source": [
    "#Solution here:\n",
    "len(s1)"
   ]
  },
  {
   "cell_type": "code",
   "execution_count": 5,
   "id": "ab9f8213",
   "metadata": {},
   "outputs": [
    {
     "name": "stdout",
     "output_type": "stream",
     "text": [
      "6\n"
     ]
    }
   ],
   "source": [
    "counter = 0\n",
    "for i in s1:\n",
    "    counter += 1\n",
    "print(counter)"
   ]
  },
  {
   "cell_type": "markdown",
   "id": "c26a5023",
   "metadata": {},
   "source": [
    "# Write a python program to print the square of all numbers from 0 to 10."
   ]
  },
  {
   "cell_type": "code",
   "execution_count": 9,
   "id": "462d995a",
   "metadata": {},
   "outputs": [],
   "source": [
    "#Solution here:"
   ]
  },
  {
   "cell_type": "code",
   "execution_count": null,
   "id": "d1b3ae7b",
   "metadata": {},
   "outputs": [],
   "source": []
  },
  {
   "cell_type": "markdown",
   "id": "f524da71",
   "metadata": {},
   "source": [
    "# Write a python program to take a number from user and print a right triangle using \"@\"\n",
    "@\n",
    "\n",
    "@ @\n",
    "\n",
    "@ @ @"
   ]
  },
  {
   "cell_type": "code",
   "execution_count": 31,
   "id": "563f8e02",
   "metadata": {},
   "outputs": [
    {
     "name": "stdout",
     "output_type": "stream",
     "text": [
      "How many layers: 4\n",
      "1 \n",
      "1 2 \n",
      "1 2 3 \n",
      "1 2 3 4 \n"
     ]
    }
   ],
   "source": [
    "#Solution here:\n",
    "\n",
    "layer = int(input(\"How many layers: \"))\n",
    "for i in range(1,layer+1):\n",
    "    for j in range(i):\n",
    "        print(j+1, end=\" \")\n",
    "    print()\n",
    "\n",
    "# 1\n",
    "# 2 2\n",
    "# 3 3 3\n",
    "# 4 4 4 4\n",
    "\n",
    "# 1\n",
    "# 1 2\n",
    "# 1 2 3\n",
    "# 1 2 3 4\n"
   ]
  },
  {
   "cell_type": "code",
   "execution_count": 14,
   "id": "68e3e93f",
   "metadata": {},
   "outputs": [
    {
     "name": "stdout",
     "output_type": "stream",
     "text": [
      "Hello\tWorld\n"
     ]
    }
   ],
   "source": [
    "print(\"Hello\", end=\"\\t\")\n",
    "print(\"World\")"
   ]
  },
  {
   "cell_type": "markdown",
   "id": "1c165cbc",
   "metadata": {},
   "source": [
    "# Make a multiplication table using a loop."
   ]
  },
  {
   "cell_type": "code",
   "execution_count": 11,
   "id": "7b195ba9",
   "metadata": {},
   "outputs": [],
   "source": [
    "#Solution here:"
   ]
  },
  {
   "cell_type": "markdown",
   "id": "55d9ae41",
   "metadata": {},
   "source": [
    "# Output the numbers 1 to 10 backwards using a loop."
   ]
  },
  {
   "cell_type": "code",
   "execution_count": 33,
   "id": "a87f55f8",
   "metadata": {},
   "outputs": [
    {
     "name": "stdout",
     "output_type": "stream",
     "text": [
      "10\n",
      "9\n",
      "8\n",
      "7\n",
      "6\n",
      "5\n",
      "4\n",
      "3\n",
      "2\n",
      "1\n"
     ]
    }
   ],
   "source": [
    "#Solution here:\n",
    "for r in range(10, 0, -1):\n",
    "    print(r)"
   ]
  },
  {
   "cell_type": "markdown",
   "id": "6c4df3a0",
   "metadata": {},
   "source": [
    "# Create a loop that counts all even numbers to 100. Print the final count at last."
   ]
  },
  {
   "cell_type": "code",
   "execution_count": 6,
   "id": "777fb85f",
   "metadata": {},
   "outputs": [
    {
     "name": "stdout",
     "output_type": "stream",
     "text": [
      "50\n"
     ]
    }
   ],
   "source": [
    "#Solution here:\n",
    "counter = 0\n",
    "for i in range(1, 101):\n",
    "    if i%2==0:\n",
    "        counter += 1\n",
    "print(counter)"
   ]
  },
  {
   "cell_type": "markdown",
   "id": "af543e17",
   "metadata": {},
   "source": [
    "# Create a loop that sums the numbers from 100 to 200"
   ]
  },
  {
   "cell_type": "code",
   "execution_count": 14,
   "id": "7733d892",
   "metadata": {},
   "outputs": [],
   "source": [
    "#Solution here:"
   ]
  },
  {
   "cell_type": "markdown",
   "id": "c23e87a9",
   "metadata": {},
   "source": [
    "# Given a number count the total number of digits in a number.\n",
    "For example, the number is 75869, so the output should be 5."
   ]
  },
  {
   "cell_type": "code",
   "execution_count": 8,
   "id": "d7c6ace4",
   "metadata": {},
   "outputs": [],
   "source": [
    "num = 75869"
   ]
  },
  {
   "cell_type": "code",
   "execution_count": 10,
   "id": "46b95736",
   "metadata": {},
   "outputs": [
    {
     "data": {
      "text/plain": [
       "5"
      ]
     },
     "execution_count": 10,
     "metadata": {},
     "output_type": "execute_result"
    }
   ],
   "source": [
    "#Solution here:\n",
    "len(str(num))"
   ]
  },
  {
   "cell_type": "code",
   "execution_count": 11,
   "id": "119b21ae",
   "metadata": {},
   "outputs": [
    {
     "name": "stdout",
     "output_type": "stream",
     "text": [
      "5\n"
     ]
    }
   ],
   "source": [
    "counter = 0\n",
    "for i in str(num):\n",
    "    counter += 1\n",
    "print(counter)"
   ]
  },
  {
   "cell_type": "markdown",
   "id": "a45539c0",
   "metadata": {},
   "source": [
    "# Print the following pattern using for loop\n",
    "5  4  3  2  1 \n",
    "\n",
    "4  3  2  1 \n",
    "\n",
    "3  2  1 \n",
    "\n",
    "2  1 \n",
    "\n",
    "1"
   ]
  },
  {
   "cell_type": "code",
   "execution_count": 17,
   "id": "f5605884",
   "metadata": {},
   "outputs": [],
   "source": [
    "#Solution here:"
   ]
  },
  {
   "cell_type": "markdown",
   "id": "b2b5451f",
   "metadata": {},
   "source": [
    "# Reverse the following list using for loop:"
   ]
  },
  {
   "cell_type": "code",
   "execution_count": 12,
   "id": "d4ae0649",
   "metadata": {},
   "outputs": [],
   "source": [
    "list1 = [10, 20, 30, 40, 50]"
   ]
  },
  {
   "cell_type": "code",
   "execution_count": 19,
   "id": "438da022",
   "metadata": {},
   "outputs": [],
   "source": [
    "#Solution here:\n",
    "a = len(list1)"
   ]
  },
  {
   "cell_type": "code",
   "execution_count": 20,
   "id": "66c5ff1e",
   "metadata": {},
   "outputs": [
    {
     "name": "stdout",
     "output_type": "stream",
     "text": [
      "50\n",
      "40\n",
      "30\n",
      "20\n",
      "10\n"
     ]
    }
   ],
   "source": [
    "for i in range(a-1, -1, -1):\n",
    "    print(list1[i])"
   ]
  },
  {
   "cell_type": "markdown",
   "id": "315ede42",
   "metadata": {},
   "source": [
    "# Write a loop to find the factorial of any number."
   ]
  },
  {
   "cell_type": "markdown",
   "id": "1ade48ed",
   "metadata": {},
   "source": [
    "The factorial (symbol: !) means to multiply all whole numbers from the chosen number down to 1.\n",
    "\n",
    "For example: calculate the factorial of 5.\n",
    "\n",
    "Output = 5 * 4 * 3 * 2 * 1 = 120"
   ]
  },
  {
   "cell_type": "code",
   "execution_count": 21,
   "id": "e84af26d",
   "metadata": {},
   "outputs": [
    {
     "name": "stdout",
     "output_type": "stream",
     "text": [
      "Enter your number: 5\n",
      "120\n"
     ]
    }
   ],
   "source": [
    "#Solution here:\n",
    "num = int(input(\"Enter your number: \"))\n",
    "factorial = 1\n",
    "for i in range(num, 0, -1):\n",
    "    factorial *= i\n",
    "print(factorial)"
   ]
  },
  {
   "cell_type": "markdown",
   "id": "989183fd",
   "metadata": {},
   "source": [
    "# Find the sum of the series 1 +11+111+1111 + .. n terms. Get n from user input."
   ]
  },
  {
   "cell_type": "markdown",
   "id": "0f96483f",
   "metadata": {},
   "source": [
    "For example, n = 5\n",
    "\n",
    "Then, we should calculate: 1+11+111+1111+11111\n",
    "\n",
    "Output = 12345"
   ]
  },
  {
   "cell_type": "code",
   "execution_count": 30,
   "id": "97fb809b",
   "metadata": {},
   "outputs": [
    {
     "name": "stdout",
     "output_type": "stream",
     "text": [
      "Enter your number: 5\n",
      "12345\n"
     ]
    }
   ],
   "source": [
    "#Solution here:\n",
    "num = int(input(\"Enter your number: \"))\n",
    "total = 0\n",
    "for i in range(1, num+1):\n",
    "    total = total + int(\"1\"*i)\n",
    "print(total)\n",
    "    "
   ]
  },
  {
   "cell_type": "code",
   "execution_count": 27,
   "id": "5dbb818f",
   "metadata": {},
   "outputs": [
    {
     "data": {
      "text/plain": [
       "'HelloHelloHello'"
      ]
     },
     "execution_count": 27,
     "metadata": {},
     "output_type": "execute_result"
    }
   ],
   "source": [
    "\"Hello\" + \"HelloHello\""
   ]
  },
  {
   "cell_type": "code",
   "execution_count": 29,
   "id": "0a12df9c",
   "metadata": {},
   "outputs": [
    {
     "data": {
      "text/plain": [
       "11"
      ]
     },
     "execution_count": 29,
     "metadata": {},
     "output_type": "execute_result"
    }
   ],
   "source": [
    "int(\"1\"*2)"
   ]
  },
  {
   "cell_type": "code",
   "execution_count": 33,
   "id": "6ac410e1",
   "metadata": {},
   "outputs": [
    {
     "name": "stdout",
     "output_type": "stream",
     "text": [
      "Enter your number: 8\n",
      "12345678\n"
     ]
    }
   ],
   "source": [
    "num = int(input(\"Enter your number: \"))\n",
    "total = 0\n",
    "for i in range(1, num+1):\n",
    "    repeat = \"1\"*i\n",
    "    convert = int(repeat)\n",
    "    total = total + convert\n",
    "print(total)"
   ]
  },
  {
   "cell_type": "markdown",
   "id": "24a2028c",
   "metadata": {},
   "source": [
    "# Print the following pattern using for loop\n"
   ]
  },
  {
   "attachments": {
    "image-2.png": {
     "image/png": "[encoded data removed]"
    }
   },
   "cell_type": "markdown",
   "id": "70c023bb",
   "metadata": {},
   "source": [
    "![image-2.png](attachment:image-2.png)"
   ]
  },
  {
   "cell_type": "code",
   "execution_count": 22,
   "id": "ba74b2fb",
   "metadata": {},
   "outputs": [],
   "source": [
    "#Solution here:"
   ]
  },
  {
   "cell_type": "markdown",
   "id": "9cf8cb06",
   "metadata": {},
   "source": [
    "# Write a Python program to count the number of even and odd numbers from a series of numbers."
   ]
  },
  {
   "cell_type": "markdown",
   "id": "3e106e45",
   "metadata": {},
   "source": [
    "Sample numbers : numbers = (1, 2, 3, 4, 5, 6, 7, 8, 9) \n",
    "\n",
    "Expected Output :\n",
    "\n",
    "Number of even numbers : 5\n",
    "\n",
    "Number of odd numbers : 4"
   ]
  },
  {
   "cell_type": "code",
   "execution_count": 23,
   "id": "e3a03466",
   "metadata": {},
   "outputs": [],
   "source": [
    "#Solution here:"
   ]
  },
  {
   "cell_type": "markdown",
   "id": "3ca28249",
   "metadata": {},
   "source": [
    "# Write a Python program that prints each item and its corresponding data type from the following list."
   ]
  },
  {
   "cell_type": "code",
   "execution_count": 24,
   "id": "4d15e22d",
   "metadata": {},
   "outputs": [],
   "source": [
    "datalist = [1452, 11.23, 1+2j, True, 'nextstep', (0, -1), [5, 12], {\"class\":'V', \"section\":'A'}]"
   ]
  },
  {
   "cell_type": "code",
   "execution_count": 25,
   "id": "6da6dfc5",
   "metadata": {},
   "outputs": [],
   "source": [
    "#Solution here:\n"
   ]
  },
  {
   "cell_type": "markdown",
   "id": "436e5b03",
   "metadata": {},
   "source": [
    "# Write a program to find out maximum number in a list, using for loop."
   ]
  },
  {
   "cell_type": "code",
   "execution_count": 34,
   "id": "270a2aaa",
   "metadata": {},
   "outputs": [],
   "source": [
    "sample_list = [15,24,64,75,18,24,19,37,46,28]"
   ]
  },
  {
   "cell_type": "code",
   "execution_count": 35,
   "id": "f0b57348",
   "metadata": {},
   "outputs": [
    {
     "name": "stdout",
     "output_type": "stream",
     "text": [
      "75\n"
     ]
    }
   ],
   "source": [
    "#Solution here:\n",
    "m =  sample_list[0]\n",
    "for s in sample_list:\n",
    "    if s>m:\n",
    "        m = s\n",
    "print(m)"
   ]
  },
  {
   "cell_type": "markdown",
   "id": "8a6b15a5",
   "metadata": {},
   "source": [
    "# Write a Python program to find numbers between 100 and 400 (both included) where each digit of a number is an even number. The numbers obtained should be printed in a comma-separated sequence."
   ]
  },
  {
   "cell_type": "code",
   "execution_count": 28,
   "id": "7d1bde68",
   "metadata": {},
   "outputs": [],
   "source": [
    "#Solution here:"
   ]
  },
  {
   "cell_type": "code",
   "execution_count": 36,
   "id": "99e0d856",
   "metadata": {},
   "outputs": [
    {
     "name": "stdout",
     "output_type": "stream",
     "text": [
      "200\n",
      "202\n",
      "204\n",
      "206\n",
      "208\n",
      "220\n",
      "222\n",
      "224\n",
      "226\n",
      "228\n",
      "240\n",
      "242\n",
      "244\n",
      "246\n",
      "248\n",
      "260\n",
      "262\n",
      "264\n",
      "266\n",
      "268\n",
      "280\n",
      "282\n",
      "284\n",
      "286\n",
      "288\n",
      "400\n"
     ]
    }
   ],
   "source": [
    "for i in range(100, 401):\n",
    "    for j in str(i):\n",
    "        if int(j)%2==0:\n",
    "            continue\n",
    "        else:\n",
    "            break\n",
    "    else:\n",
    "        print(i)"
   ]
  },
  {
   "cell_type": "code",
   "execution_count": 35,
   "id": "fb162eea",
   "metadata": {},
   "outputs": [
    {
     "name": "stdout",
     "output_type": "stream",
     "text": [
      "1\n",
      "0\n",
      "0\n"
     ]
    }
   ],
   "source": [
    "for i in \"100\":\n",
    "    print(i)"
   ]
  },
  {
   "cell_type": "code",
   "execution_count": null,
   "id": "1b4ffc93",
   "metadata": {},
   "outputs": [],
   "source": []
  }
 ],
 "metadata": {
  "kernelspec": {
   "display_name": "Python 3 (ipykernel)",
   "language": "python",
   "name": "python3"
  },
  "language_info": {
   "codemirror_mode": {
    "name": "ipython",
    "version": 3
   },
   "file_extension": ".py",
   "mimetype": "text/x-python",
   "name": "python",
   "nbconvert_exporter": "python",
   "pygments_lexer": "ipython3",
   "version": "3.11.2"
  }
 },
 "nbformat": 4,
 "nbformat_minor": 5
}
