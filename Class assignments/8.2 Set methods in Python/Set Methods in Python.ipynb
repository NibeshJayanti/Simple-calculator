{
 "cells": [
  {
   "cell_type": "markdown",
   "metadata": {
    "id": "8p2xKkMXgnAG"
   },
   "source": [
    "# Set Methods in Python"
   ]
  },
  {
   "cell_type": "code",
   "execution_count": 1,
   "metadata": {
    "colab": {
     "base_uri": "https://localhost:8080/"
    },
    "executionInfo": {
     "elapsed": 323,
     "status": "ok",
     "timestamp": 1626678533745,
     "user": {
      "displayName": "Gopal Kisi",
      "photoUrl": "https://lh3.googleusercontent.com/a-/AOh14Gjx25o0HPTTZ0d7YM8O3hnoC8cBfMg5P5JIPGWH=s64",
      "userId": "01783901839559499476"
     },
     "user_tz": -345
    },
    "id": "nr08CZ80gnAI",
    "outputId": "25b8d6b6-dc30-4387-a1ce-2cdda043cb94"
   },
   "outputs": [
    {
     "name": "stdout",
     "output_type": "stream",
     "text": [
      "Help on class set in module builtins:\n",
      "\n",
      "class set(object)\n",
      " |  set() -> new empty set object\n",
      " |  set(iterable) -> new set object\n",
      " |  \n",
      " |  Build an unordered collection of unique elements.\n",
      " |  \n",
      " |  Methods defined here:\n",
      " |  \n",
      " |  __and__(self, value, /)\n",
      " |      Return self&value.\n",
      " |  \n",
      " |  __contains__(...)\n",
      " |      x.__contains__(y) <==> y in x.\n",
      " |  \n",
      " |  __eq__(self, value, /)\n",
      " |      Return self==value.\n",
      " |  \n",
      " |  __ge__(self, value, /)\n",
      " |      Return self>=value.\n",
      " |  \n",
      " |  __getattribute__(self, name, /)\n",
      " |      Return getattr(self, name).\n",
      " |  \n",
      " |  __gt__(self, value, /)\n",
      " |      Return self>value.\n",
      " |  \n",
      " |  __iand__(self, value, /)\n",
      " |      Return self&=value.\n",
      " |  \n",
      " |  __init__(self, /, *args, **kwargs)\n",
      " |      Initialize self.  See help(type(self)) for accurate signature.\n",
      " |  \n",
      " |  __ior__(self, value, /)\n",
      " |      Return self|=value.\n",
      " |  \n",
      " |  __isub__(self, value, /)\n",
      " |      Return self-=value.\n",
      " |  \n",
      " |  __iter__(self, /)\n",
      " |      Implement iter(self).\n",
      " |  \n",
      " |  __ixor__(self, value, /)\n",
      " |      Return self^=value.\n",
      " |  \n",
      " |  __le__(self, value, /)\n",
      " |      Return self<=value.\n",
      " |  \n",
      " |  __len__(self, /)\n",
      " |      Return len(self).\n",
      " |  \n",
      " |  __lt__(self, value, /)\n",
      " |      Return self<value.\n",
      " |  \n",
      " |  __ne__(self, value, /)\n",
      " |      Return self!=value.\n",
      " |  \n",
      " |  __or__(self, value, /)\n",
      " |      Return self|value.\n",
      " |  \n",
      " |  __rand__(self, value, /)\n",
      " |      Return value&self.\n",
      " |  \n",
      " |  __reduce__(...)\n",
      " |      Return state information for pickling.\n",
      " |  \n",
      " |  __repr__(self, /)\n",
      " |      Return repr(self).\n",
      " |  \n",
      " |  __ror__(self, value, /)\n",
      " |      Return value|self.\n",
      " |  \n",
      " |  __rsub__(self, value, /)\n",
      " |      Return value-self.\n",
      " |  \n",
      " |  __rxor__(self, value, /)\n",
      " |      Return value^self.\n",
      " |  \n",
      " |  __sizeof__(...)\n",
      " |      S.__sizeof__() -> size of S in memory, in bytes\n",
      " |  \n",
      " |  __sub__(self, value, /)\n",
      " |      Return self-value.\n",
      " |  \n",
      " |  __xor__(self, value, /)\n",
      " |      Return self^value.\n",
      " |  \n",
      " |  add(...)\n",
      " |      Add an element to a set.\n",
      " |      \n",
      " |      This has no effect if the element is already present.\n",
      " |  \n",
      " |  clear(...)\n",
      " |      Remove all elements from this set.\n",
      " |  \n",
      " |  copy(...)\n",
      " |      Return a shallow copy of a set.\n",
      " |  \n",
      " |  difference(...)\n",
      " |      Return the difference of two or more sets as a new set.\n",
      " |      \n",
      " |      (i.e. all elements that are in this set but not the others.)\n",
      " |  \n",
      " |  difference_update(...)\n",
      " |      Remove all elements of another set from this set.\n",
      " |  \n",
      " |  discard(...)\n",
      " |      Remove an element from a set if it is a member.\n",
      " |      \n",
      " |      If the element is not a member, do nothing.\n",
      " |  \n",
      " |  intersection(...)\n",
      " |      Return the intersection of two sets as a new set.\n",
      " |      \n",
      " |      (i.e. all elements that are in both sets.)\n",
      " |  \n",
      " |  intersection_update(...)\n",
      " |      Update a set with the intersection of itself and another.\n",
      " |  \n",
      " |  isdisjoint(...)\n",
      " |      Return True if two sets have a null intersection.\n",
      " |  \n",
      " |  issubset(...)\n",
      " |      Report whether another set contains this set.\n",
      " |  \n",
      " |  issuperset(...)\n",
      " |      Report whether this set contains another set.\n",
      " |  \n",
      " |  pop(...)\n",
      " |      Remove and return an arbitrary set element.\n",
      " |      Raises KeyError if the set is empty.\n",
      " |  \n",
      " |  remove(...)\n",
      " |      Remove an element from a set; it must be a member.\n",
      " |      \n",
      " |      If the element is not a member, raise a KeyError.\n",
      " |  \n",
      " |  symmetric_difference(...)\n",
      " |      Return the symmetric difference of two sets as a new set.\n",
      " |      \n",
      " |      (i.e. all elements that are in exactly one of the sets.)\n",
      " |  \n",
      " |  symmetric_difference_update(...)\n",
      " |      Update a set with the symmetric difference of itself and another.\n",
      " |  \n",
      " |  union(...)\n",
      " |      Return the union of sets as a new set.\n",
      " |      \n",
      " |      (i.e. all elements that are in either set.)\n",
      " |  \n",
      " |  update(...)\n",
      " |      Update a set with the union of itself and others.\n",
      " |  \n",
      " |  ----------------------------------------------------------------------\n",
      " |  Class methods defined here:\n",
      " |  \n",
      " |  __class_getitem__(...) from builtins.type\n",
      " |      See PEP 585\n",
      " |  \n",
      " |  ----------------------------------------------------------------------\n",
      " |  Static methods defined here:\n",
      " |  \n",
      " |  __new__(*args, **kwargs) from builtins.type\n",
      " |      Create and return a new object.  See help(type) for accurate signature.\n",
      " |  \n",
      " |  ----------------------------------------------------------------------\n",
      " |  Data and other attributes defined here:\n",
      " |  \n",
      " |  __hash__ = None\n",
      "\n"
     ]
    }
   ],
   "source": [
    "help(set)"
   ]
  },
  {
   "cell_type": "code",
   "execution_count": 2,
   "metadata": {
    "colab": {
     "base_uri": "https://localhost:8080/"
    },
    "executionInfo": {
     "elapsed": 838,
     "status": "ok",
     "timestamp": 1626678534907,
     "user": {
      "displayName": "Gopal Kisi",
      "photoUrl": "https://lh3.googleusercontent.com/a-/AOh14Gjx25o0HPTTZ0d7YM8O3hnoC8cBfMg5P5JIPGWH=s64",
      "userId": "01783901839559499476"
     },
     "user_tz": -345
    },
    "id": "UdsX3mScg2ny",
    "outputId": "20846459-7d3c-4244-d68d-716f8bb2c0ce"
   },
   "outputs": [
    {
     "data": {
      "text/plain": [
       "['__and__',\n",
       " '__class__',\n",
       " '__class_getitem__',\n",
       " '__contains__',\n",
       " '__delattr__',\n",
       " '__dir__',\n",
       " '__doc__',\n",
       " '__eq__',\n",
       " '__format__',\n",
       " '__ge__',\n",
       " '__getattribute__',\n",
       " '__gt__',\n",
       " '__hash__',\n",
       " '__iand__',\n",
       " '__init__',\n",
       " '__init_subclass__',\n",
       " '__ior__',\n",
       " '__isub__',\n",
       " '__iter__',\n",
       " '__ixor__',\n",
       " '__le__',\n",
       " '__len__',\n",
       " '__lt__',\n",
       " '__ne__',\n",
       " '__new__',\n",
       " '__or__',\n",
       " '__rand__',\n",
       " '__reduce__',\n",
       " '__reduce_ex__',\n",
       " '__repr__',\n",
       " '__ror__',\n",
       " '__rsub__',\n",
       " '__rxor__',\n",
       " '__setattr__',\n",
       " '__sizeof__',\n",
       " '__str__',\n",
       " '__sub__',\n",
       " '__subclasshook__',\n",
       " '__xor__',\n",
       " 'add',\n",
       " 'clear',\n",
       " 'copy',\n",
       " 'difference',\n",
       " 'difference_update',\n",
       " 'discard',\n",
       " 'intersection',\n",
       " 'intersection_update',\n",
       " 'isdisjoint',\n",
       " 'issubset',\n",
       " 'issuperset',\n",
       " 'pop',\n",
       " 'remove',\n",
       " 'symmetric_difference',\n",
       " 'symmetric_difference_update',\n",
       " 'union',\n",
       " 'update']"
      ]
     },
     "execution_count": 2,
     "metadata": {},
     "output_type": "execute_result"
    }
   ],
   "source": [
    "dir(set)"
   ]
  },
  {
   "cell_type": "markdown",
   "metadata": {
    "id": "4us9ECt-gnAJ"
   },
   "source": [
    "## Add"
   ]
  },
  {
   "cell_type": "code",
   "execution_count": 3,
   "metadata": {
    "colab": {
     "base_uri": "https://localhost:8080/"
    },
    "executionInfo": {
     "elapsed": 29,
     "status": "ok",
     "timestamp": 1626678534907,
     "user": {
      "displayName": "Gopal Kisi",
      "photoUrl": "https://lh3.googleusercontent.com/a-/AOh14Gjx25o0HPTTZ0d7YM8O3hnoC8cBfMg5P5JIPGWH=s64",
      "userId": "01783901839559499476"
     },
     "user_tz": -345
    },
    "id": "qkW8j3EugnAJ",
    "outputId": "ed798321-220e-459e-baf3-c4116adfc65e"
   },
   "outputs": [
    {
     "data": {
      "text/plain": [
       "{14, 25, 36, 87, 95, 98, 784}"
      ]
     },
     "execution_count": 3,
     "metadata": {},
     "output_type": "execute_result"
    }
   ],
   "source": [
    "#Example:\n",
    "s1 = {14,25,36,95,784,87}\n",
    "s1.add(98)\n",
    "s1"
   ]
  },
  {
   "cell_type": "markdown",
   "metadata": {
    "id": "0wHqcZuqgnAJ"
   },
   "source": [
    "## Clear"
   ]
  },
  {
   "cell_type": "code",
   "execution_count": 4,
   "metadata": {
    "colab": {
     "base_uri": "https://localhost:8080/"
    },
    "executionInfo": {
     "elapsed": 26,
     "status": "ok",
     "timestamp": 1626678534908,
     "user": {
      "displayName": "Gopal Kisi",
      "photoUrl": "https://lh3.googleusercontent.com/a-/AOh14Gjx25o0HPTTZ0d7YM8O3hnoC8cBfMg5P5JIPGWH=s64",
      "userId": "01783901839559499476"
     },
     "user_tz": -345
    },
    "id": "RtgFKN-YgnAJ",
    "outputId": "300c0a68-4d92-437d-ff9e-e28ab9ebd567"
   },
   "outputs": [
    {
     "data": {
      "text/plain": [
       "set()"
      ]
     },
     "execution_count": 4,
     "metadata": {},
     "output_type": "execute_result"
    }
   ],
   "source": [
    "#Example:\n",
    "s1.clear()\n",
    "s1"
   ]
  },
  {
   "cell_type": "markdown",
   "metadata": {
    "id": "7WBKDeakgnAK"
   },
   "source": [
    "## Copy"
   ]
  },
  {
   "cell_type": "code",
   "execution_count": 6,
   "metadata": {
    "colab": {
     "base_uri": "https://localhost:8080/"
    },
    "executionInfo": {
     "elapsed": 25,
     "status": "ok",
     "timestamp": 1626678534908,
     "user": {
      "displayName": "Gopal Kisi",
      "photoUrl": "https://lh3.googleusercontent.com/a-/AOh14Gjx25o0HPTTZ0d7YM8O3hnoC8cBfMg5P5JIPGWH=s64",
      "userId": "01783901839559499476"
     },
     "user_tz": -345
    },
    "id": "GYrcMhI3gnAK",
    "outputId": "91f14499-ce2e-420e-b627-90f0cf282369"
   },
   "outputs": [
    {
     "data": {
      "text/plain": [
       "{14, 25, 36, 87, 95, 784}"
      ]
     },
     "execution_count": 6,
     "metadata": {},
     "output_type": "execute_result"
    }
   ],
   "source": [
    "#Example:\n",
    "s1 = {14,25,36,95,784,87}\n",
    "s2 = s1.copy()\n",
    "s2"
   ]
  },
  {
   "cell_type": "markdown",
   "metadata": {
    "id": "4OAHo6RlgnAK"
   },
   "source": [
    "## Difference"
   ]
  },
  {
   "cell_type": "code",
   "execution_count": 9,
   "metadata": {
    "colab": {
     "base_uri": "https://localhost:8080/"
    },
    "executionInfo": {
     "elapsed": 24,
     "status": "ok",
     "timestamp": 1626678534908,
     "user": {
      "displayName": "Gopal Kisi",
      "photoUrl": "https://lh3.googleusercontent.com/a-/AOh14Gjx25o0HPTTZ0d7YM8O3hnoC8cBfMg5P5JIPGWH=s64",
      "userId": "01783901839559499476"
     },
     "user_tz": -345
    },
    "id": "9nNITVfDgnAL",
    "outputId": "fed1f195-f9db-404d-a741-eaca95481cc0"
   },
   "outputs": [
    {
     "name": "stdout",
     "output_type": "stream",
     "text": [
      "{36, 69, 41, 12, 87}\n",
      "{36, 69, 87, 56, 41, 12, 45}\n",
      "{96, 32, 21, 14, 56, 45, 78}\n"
     ]
    }
   ],
   "source": [
    "#Example:\n",
    "setA = {12,36,69,87,41,45,56}\n",
    "setB = {14,78,96,32,21,45,56}\n",
    "#A-B # A only\n",
    "print(setA.difference(setB))\n",
    "print(setA)\n",
    "print(setB)"
   ]
  },
  {
   "cell_type": "markdown",
   "metadata": {
    "id": "osxBbQSQgnAL"
   },
   "source": [
    "## Difference_update"
   ]
  },
  {
   "cell_type": "code",
   "execution_count": 10,
   "metadata": {
    "colab": {
     "base_uri": "https://localhost:8080/"
    },
    "executionInfo": {
     "elapsed": 24,
     "status": "ok",
     "timestamp": 1626678534909,
     "user": {
      "displayName": "Gopal Kisi",
      "photoUrl": "https://lh3.googleusercontent.com/a-/AOh14Gjx25o0HPTTZ0d7YM8O3hnoC8cBfMg5P5JIPGWH=s64",
      "userId": "01783901839559499476"
     },
     "user_tz": -345
    },
    "id": "chCMRWj0gnAL",
    "outputId": "95a66755-836b-409b-e62e-33455693e184"
   },
   "outputs": [
    {
     "name": "stdout",
     "output_type": "stream",
     "text": [
      "{36, 69, 87, 41, 12}\n",
      "{96, 32, 21, 14, 56, 45, 78}\n"
     ]
    }
   ],
   "source": [
    "#Example:\n",
    "setA = {12,36,69,87,41,45,56}\n",
    "setB = {14,78,96,32,21,45,56}\n",
    "#A-B # A only\n",
    "setA.difference_update(setB)\n",
    "print(setA)\n",
    "print(setB)"
   ]
  },
  {
   "cell_type": "markdown",
   "metadata": {
    "id": "q3H7TnfignAM"
   },
   "source": [
    "## Discard"
   ]
  },
  {
   "cell_type": "code",
   "execution_count": 11,
   "metadata": {
    "colab": {
     "base_uri": "https://localhost:8080/"
    },
    "executionInfo": {
     "elapsed": 23,
     "status": "ok",
     "timestamp": 1626678534909,
     "user": {
      "displayName": "Gopal Kisi",
      "photoUrl": "https://lh3.googleusercontent.com/a-/AOh14Gjx25o0HPTTZ0d7YM8O3hnoC8cBfMg5P5JIPGWH=s64",
      "userId": "01783901839559499476"
     },
     "user_tz": -345
    },
    "id": "VTWCq9PBgnAM",
    "outputId": "6dfd2136-1583-4eae-ba5f-373ec9b7211e"
   },
   "outputs": [
    {
     "name": "stdout",
     "output_type": "stream",
     "text": [
      "Help on method_descriptor:\n",
      "\n",
      "discard(...)\n",
      "    Remove an element from a set if it is a member.\n",
      "    \n",
      "    If the element is not a member, do nothing.\n",
      "\n"
     ]
    }
   ],
   "source": [
    "#Example:\n",
    "help(set.discard)"
   ]
  },
  {
   "cell_type": "code",
   "execution_count": 12,
   "metadata": {},
   "outputs": [
    {
     "data": {
      "text/plain": [
       "{12, 36, 41, 87}"
      ]
     },
     "execution_count": 12,
     "metadata": {},
     "output_type": "execute_result"
    }
   ],
   "source": [
    "setA.discard(69)\n",
    "setA"
   ]
  },
  {
   "cell_type": "code",
   "execution_count": 13,
   "metadata": {},
   "outputs": [
    {
     "data": {
      "text/plain": [
       "{12, 36, 41, 87}"
      ]
     },
     "execution_count": 13,
     "metadata": {},
     "output_type": "execute_result"
    }
   ],
   "source": [
    "setA.discard(102)\n",
    "setA"
   ]
  },
  {
   "cell_type": "markdown",
   "metadata": {
    "id": "Can8PkYSgnAM"
   },
   "source": [
    "## Intersection"
   ]
  },
  {
   "cell_type": "code",
   "execution_count": 14,
   "metadata": {
    "colab": {
     "base_uri": "https://localhost:8080/"
    },
    "executionInfo": {
     "elapsed": 22,
     "status": "ok",
     "timestamp": 1626678534909,
     "user": {
      "displayName": "Gopal Kisi",
      "photoUrl": "https://lh3.googleusercontent.com/a-/AOh14Gjx25o0HPTTZ0d7YM8O3hnoC8cBfMg5P5JIPGWH=s64",
      "userId": "01783901839559499476"
     },
     "user_tz": -345
    },
    "id": "0SZGTO-OgnAM",
    "outputId": "2a23fd48-f91a-4f6b-ebf1-499b8936f265"
   },
   "outputs": [
    {
     "name": "stdout",
     "output_type": "stream",
     "text": [
      "{56, 45}\n",
      "{36, 69, 87, 56, 41, 12, 45}\n",
      "{96, 32, 21, 14, 56, 45, 78}\n"
     ]
    }
   ],
   "source": [
    "#Example:\n",
    "setA = {12,36,69,87,41,45,56}\n",
    "setB = {14,78,96,32,21,45,56}\n",
    "#A internsection B\n",
    "print(setA.intersection(setB))\n",
    "print(setA)\n",
    "print(setB)"
   ]
  },
  {
   "cell_type": "markdown",
   "metadata": {
    "id": "RuyU7vfQgnAM"
   },
   "source": [
    "## Intersection_update"
   ]
  },
  {
   "cell_type": "code",
   "execution_count": 16,
   "metadata": {
    "colab": {
     "base_uri": "https://localhost:8080/"
    },
    "executionInfo": {
     "elapsed": 22,
     "status": "ok",
     "timestamp": 1626678534910,
     "user": {
      "displayName": "Gopal Kisi",
      "photoUrl": "https://lh3.googleusercontent.com/a-/AOh14Gjx25o0HPTTZ0d7YM8O3hnoC8cBfMg5P5JIPGWH=s64",
      "userId": "01783901839559499476"
     },
     "user_tz": -345
    },
    "id": "2rMH-N0ignAM",
    "outputId": "287897ec-4c98-4604-c533-5ef57ced2f00"
   },
   "outputs": [
    {
     "name": "stdout",
     "output_type": "stream",
     "text": [
      "{56, 45}\n",
      "{96, 32, 21, 14, 56, 45, 78}\n"
     ]
    }
   ],
   "source": [
    "#Example:\n",
    "setA = {12,36,69,87,41,45,56}\n",
    "setB = {14,78,96,32,21,45,56}\n",
    "#A internsection B\n",
    "setA.intersection_update(setB)\n",
    "print(setA)\n",
    "print(setB)"
   ]
  },
  {
   "cell_type": "markdown",
   "metadata": {
    "id": "eadUgUTpgnAM"
   },
   "source": [
    "## Isdisjoint"
   ]
  },
  {
   "cell_type": "code",
   "execution_count": 19,
   "metadata": {
    "colab": {
     "base_uri": "https://localhost:8080/"
    },
    "executionInfo": {
     "elapsed": 21,
     "status": "ok",
     "timestamp": 1626678534910,
     "user": {
      "displayName": "Gopal Kisi",
      "photoUrl": "https://lh3.googleusercontent.com/a-/AOh14Gjx25o0HPTTZ0d7YM8O3hnoC8cBfMg5P5JIPGWH=s64",
      "userId": "01783901839559499476"
     },
     "user_tz": -345
    },
    "id": "YDT6wOpGgnAN",
    "outputId": "a27f2251-cffe-4df5-f509-e1c954d81c1a"
   },
   "outputs": [
    {
     "data": {
      "text/plain": [
       "True"
      ]
     },
     "execution_count": 19,
     "metadata": {},
     "output_type": "execute_result"
    }
   ],
   "source": [
    "#Example:\n",
    "setA = {12,36,69,87,41,48,52}\n",
    "setB = {14,78,96,32,21,45,56}\n",
    "\n",
    "setA.isdisjoint(setB)"
   ]
  },
  {
   "cell_type": "markdown",
   "metadata": {
    "id": "f0nLAWsbgnAN"
   },
   "source": [
    "## Issubset"
   ]
  },
  {
   "cell_type": "code",
   "execution_count": 21,
   "metadata": {
    "colab": {
     "base_uri": "https://localhost:8080/"
    },
    "executionInfo": {
     "elapsed": 21,
     "status": "ok",
     "timestamp": 1626678534911,
     "user": {
      "displayName": "Gopal Kisi",
      "photoUrl": "https://lh3.googleusercontent.com/a-/AOh14Gjx25o0HPTTZ0d7YM8O3hnoC8cBfMg5P5JIPGWH=s64",
      "userId": "01783901839559499476"
     },
     "user_tz": -345
    },
    "id": "4IvO0KG8gnAN",
    "outputId": "5a079078-faad-4d0d-b372-23b3b6fd10ec"
   },
   "outputs": [
    {
     "data": {
      "text/plain": [
       "True"
      ]
     },
     "execution_count": 21,
     "metadata": {},
     "output_type": "execute_result"
    }
   ],
   "source": [
    "#Example:\n",
    "setA = {45,56}\n",
    "setB = {14,78,96,32,21,45,56}\n",
    "setA.issubset(setB)"
   ]
  },
  {
   "cell_type": "code",
   "execution_count": 23,
   "metadata": {},
   "outputs": [
    {
     "data": {
      "text/plain": [
       "False"
      ]
     },
     "execution_count": 23,
     "metadata": {},
     "output_type": "execute_result"
    }
   ],
   "source": [
    "setA = {45,56}\n",
    "setB = {14,78,96,32,21,45,56}\n",
    "setB.issubset(setA)"
   ]
  },
  {
   "cell_type": "markdown",
   "metadata": {
    "id": "qgoHmKp4gnAN"
   },
   "source": [
    "## Issuperset"
   ]
  },
  {
   "cell_type": "code",
   "execution_count": 24,
   "metadata": {
    "colab": {
     "base_uri": "https://localhost:8080/"
    },
    "executionInfo": {
     "elapsed": 20,
     "status": "ok",
     "timestamp": 1626678534911,
     "user": {
      "displayName": "Gopal Kisi",
      "photoUrl": "https://lh3.googleusercontent.com/a-/AOh14Gjx25o0HPTTZ0d7YM8O3hnoC8cBfMg5P5JIPGWH=s64",
      "userId": "01783901839559499476"
     },
     "user_tz": -345
    },
    "id": "jNJ2_UpzgnAN",
    "outputId": "41dae44e-fb65-407a-cf13-fcfdb6d821b8"
   },
   "outputs": [
    {
     "data": {
      "text/plain": [
       "True"
      ]
     },
     "execution_count": 24,
     "metadata": {},
     "output_type": "execute_result"
    }
   ],
   "source": [
    "#Example:\n",
    "setA = {45,56}\n",
    "setB = {14,78,96,32,21,45,56}\n",
    "setB.issuperset(setA)"
   ]
  },
  {
   "cell_type": "code",
   "execution_count": 25,
   "metadata": {},
   "outputs": [
    {
     "data": {
      "text/plain": [
       "False"
      ]
     },
     "execution_count": 25,
     "metadata": {},
     "output_type": "execute_result"
    }
   ],
   "source": [
    "setA = {45,56}\n",
    "setB = {14,78,96,32,21,45,56}\n",
    "setA.issuperset(setB)"
   ]
  },
  {
   "cell_type": "markdown",
   "metadata": {
    "id": "rv8rT8KWgnAN"
   },
   "source": [
    "## Pop"
   ]
  },
  {
   "cell_type": "code",
   "execution_count": 26,
   "metadata": {
    "colab": {
     "base_uri": "https://localhost:8080/"
    },
    "executionInfo": {
     "elapsed": 19,
     "status": "ok",
     "timestamp": 1626678534911,
     "user": {
      "displayName": "Gopal Kisi",
      "photoUrl": "https://lh3.googleusercontent.com/a-/AOh14Gjx25o0HPTTZ0d7YM8O3hnoC8cBfMg5P5JIPGWH=s64",
      "userId": "01783901839559499476"
     },
     "user_tz": -345
    },
    "id": "yAMydimYgnAN",
    "outputId": "e8610a30-4626-4637-ba60-1c86a93ab8ad"
   },
   "outputs": [
    {
     "name": "stdout",
     "output_type": "stream",
     "text": [
      "Help on method_descriptor:\n",
      "\n",
      "pop(...)\n",
      "    Remove and return an arbitrary set element.\n",
      "    Raises KeyError if the set is empty.\n",
      "\n"
     ]
    }
   ],
   "source": [
    "#Example:\n",
    "help(set.pop)"
   ]
  },
  {
   "cell_type": "code",
   "execution_count": 27,
   "metadata": {},
   "outputs": [
    {
     "data": {
      "text/plain": [
       "96"
      ]
     },
     "execution_count": 27,
     "metadata": {},
     "output_type": "execute_result"
    }
   ],
   "source": [
    "setB = {14,78,96,32,21,45,56}\n",
    "setB.pop()"
   ]
  },
  {
   "cell_type": "markdown",
   "metadata": {
    "id": "ljcmO_w3gnAN"
   },
   "source": [
    "## Remove"
   ]
  },
  {
   "cell_type": "code",
   "execution_count": 28,
   "metadata": {
    "colab": {
     "base_uri": "https://localhost:8080/",
     "height": 231
    },
    "executionInfo": {
     "elapsed": 21,
     "status": "error",
     "timestamp": 1626678534914,
     "user": {
      "displayName": "Gopal Kisi",
      "photoUrl": "https://lh3.googleusercontent.com/a-/AOh14Gjx25o0HPTTZ0d7YM8O3hnoC8cBfMg5P5JIPGWH=s64",
      "userId": "01783901839559499476"
     },
     "user_tz": -345
    },
    "id": "DfZ9mHlrgnAO",
    "outputId": "fba4816a-46de-4563-b1df-a1c666a81e90"
   },
   "outputs": [
    {
     "data": {
      "text/plain": [
       "{14, 21, 32, 56, 78, 96}"
      ]
     },
     "execution_count": 28,
     "metadata": {},
     "output_type": "execute_result"
    }
   ],
   "source": [
    "#Example:\n",
    "setB = {14,78,96,32,21,45,56}\n",
    "setB.remove(45)\n",
    "setB"
   ]
  },
  {
   "cell_type": "code",
   "execution_count": 29,
   "metadata": {},
   "outputs": [
    {
     "ename": "KeyError",
     "evalue": "456",
     "output_type": "error",
     "traceback": [
      "\u001b[1;31m---------------------------------------------------------------------------\u001b[0m",
      "\u001b[1;31mKeyError\u001b[0m                                  Traceback (most recent call last)",
      "Input \u001b[1;32mIn [29]\u001b[0m, in \u001b[0;36m<cell line: 2>\u001b[1;34m()\u001b[0m\n\u001b[0;32m      1\u001b[0m setB \u001b[38;5;241m=\u001b[39m {\u001b[38;5;241m14\u001b[39m,\u001b[38;5;241m78\u001b[39m,\u001b[38;5;241m96\u001b[39m,\u001b[38;5;241m32\u001b[39m,\u001b[38;5;241m21\u001b[39m,\u001b[38;5;241m45\u001b[39m,\u001b[38;5;241m56\u001b[39m}\n\u001b[1;32m----> 2\u001b[0m \u001b[43msetB\u001b[49m\u001b[38;5;241;43m.\u001b[39;49m\u001b[43mremove\u001b[49m\u001b[43m(\u001b[49m\u001b[38;5;241;43m456\u001b[39;49m\u001b[43m)\u001b[49m\n\u001b[0;32m      3\u001b[0m setB\n",
      "\u001b[1;31mKeyError\u001b[0m: 456"
     ]
    }
   ],
   "source": [
    "setB = {14,78,96,32,21,45,56}\n",
    "setB.remove(456)\n",
    "setB"
   ]
  },
  {
   "cell_type": "markdown",
   "metadata": {
    "id": "QZceuD2agnAO"
   },
   "source": [
    "## Symmetric_difference"
   ]
  },
  {
   "cell_type": "code",
   "execution_count": 30,
   "metadata": {
    "colab": {
     "base_uri": "https://localhost:8080/"
    },
    "executionInfo": {
     "elapsed": 319,
     "status": "ok",
     "timestamp": 1626678553641,
     "user": {
      "displayName": "Gopal Kisi",
      "photoUrl": "https://lh3.googleusercontent.com/a-/AOh14Gjx25o0HPTTZ0d7YM8O3hnoC8cBfMg5P5JIPGWH=s64",
      "userId": "01783901839559499476"
     },
     "user_tz": -345
    },
    "id": "HZiq_c--gnAO",
    "outputId": "75f97648-cf36-4aa9-bbf6-ca342dc7d11a"
   },
   "outputs": [
    {
     "name": "stdout",
     "output_type": "stream",
     "text": [
      "{69, 12, 14, 78, 21, 87, 96, 32, 36, 41}\n",
      "{36, 69, 87, 56, 41, 12, 45}\n",
      "{96, 32, 21, 14, 56, 45, 78}\n"
     ]
    }
   ],
   "source": [
    "#Example:\n",
    "setA = {12,36,69,87,41,45,56}\n",
    "setB = {14,78,96,32,21,45,56}\n",
    "#A only and B only\n",
    "print(setA.symmetric_difference(setB))\n",
    "print(setA)\n",
    "print(setB)"
   ]
  },
  {
   "cell_type": "markdown",
   "metadata": {
    "id": "QOKT7xTzgnAO"
   },
   "source": [
    "## Symmetric_difference_update"
   ]
  },
  {
   "cell_type": "code",
   "execution_count": 31,
   "metadata": {
    "colab": {
     "base_uri": "https://localhost:8080/"
    },
    "executionInfo": {
     "elapsed": 331,
     "status": "ok",
     "timestamp": 1626678556706,
     "user": {
      "displayName": "Gopal Kisi",
      "photoUrl": "https://lh3.googleusercontent.com/a-/AOh14Gjx25o0HPTTZ0d7YM8O3hnoC8cBfMg5P5JIPGWH=s64",
      "userId": "01783901839559499476"
     },
     "user_tz": -345
    },
    "id": "893lRLaGgnAO",
    "outputId": "7b3c5af5-21a7-48e5-a6eb-f23e0eab98c5"
   },
   "outputs": [
    {
     "name": "stdout",
     "output_type": "stream",
     "text": [
      "{69, 12, 14, 78, 21, 87, 96, 32, 36, 41}\n",
      "{96, 32, 21, 14, 56, 45, 78}\n"
     ]
    }
   ],
   "source": [
    "#Example:\n",
    "setA = {12,36,69,87,41,45,56}\n",
    "setB = {14,78,96,32,21,45,56}\n",
    "#A only and B only\n",
    "setA.symmetric_difference_update(setB)\n",
    "print(setA)\n",
    "print(setB)"
   ]
  },
  {
   "cell_type": "markdown",
   "metadata": {
    "id": "_068tJjtgnAO"
   },
   "source": [
    "## Union"
   ]
  },
  {
   "cell_type": "code",
   "execution_count": 33,
   "metadata": {
    "colab": {
     "base_uri": "https://localhost:8080/"
    },
    "executionInfo": {
     "elapsed": 3,
     "status": "ok",
     "timestamp": 1626678558756,
     "user": {
      "displayName": "Gopal Kisi",
      "photoUrl": "https://lh3.googleusercontent.com/a-/AOh14Gjx25o0HPTTZ0d7YM8O3hnoC8cBfMg5P5JIPGWH=s64",
      "userId": "01783901839559499476"
     },
     "user_tz": -345
    },
    "id": "y0LpA1JQgnAO",
    "outputId": "58f9c1fc-7cf4-405a-b654-656487aa8135"
   },
   "outputs": [
    {
     "name": "stdout",
     "output_type": "stream",
     "text": [
      "{96, 32, 36, 69, 41, 12, 45, 14, 78, 21, 87, 56}\n",
      "{36, 69, 87, 56, 41, 12, 45}\n",
      "{96, 32, 21, 14, 56, 45, 78}\n"
     ]
    }
   ],
   "source": [
    "#Example:\n",
    "setA = {12,36,69,87,41,45,56}\n",
    "setB = {14,78,96,32,21,45,56}\n",
    "print(setA.union(setB))\n",
    "print(setA)\n",
    "print(setB)"
   ]
  },
  {
   "cell_type": "markdown",
   "metadata": {
    "id": "Jc79uok3gnAO"
   },
   "source": [
    "## Update"
   ]
  },
  {
   "cell_type": "code",
   "execution_count": 34,
   "metadata": {
    "colab": {
     "base_uri": "https://localhost:8080/"
    },
    "executionInfo": {
     "elapsed": 346,
     "status": "ok",
     "timestamp": 1626678562045,
     "user": {
      "displayName": "Gopal Kisi",
      "photoUrl": "https://lh3.googleusercontent.com/a-/AOh14Gjx25o0HPTTZ0d7YM8O3hnoC8cBfMg5P5JIPGWH=s64",
      "userId": "01783901839559499476"
     },
     "user_tz": -345
    },
    "id": "9y76nZnZgnAO",
    "outputId": "2a1abfd2-1b85-44a4-b2c1-d11b4755e5c3"
   },
   "outputs": [
    {
     "name": "stdout",
     "output_type": "stream",
     "text": [
      "{96, 32, 36, 69, 41, 12, 45, 14, 78, 21, 87, 56}\n",
      "{96, 32, 21, 14, 56, 45, 78}\n"
     ]
    }
   ],
   "source": [
    "#Example:\n",
    "setA = {12,36,69,87,41,45,56}\n",
    "setB = {14,78,96,32,21,45,56}\n",
    "setA.update(setB)\n",
    "print(setA)\n",
    "print(setB)"
   ]
  },
  {
   "cell_type": "code",
   "execution_count": null,
   "metadata": {
    "executionInfo": {
     "elapsed": 18,
     "status": "aborted",
     "timestamp": 1626678534913,
     "user": {
      "displayName": "Gopal Kisi",
      "photoUrl": "https://lh3.googleusercontent.com/a-/AOh14Gjx25o0HPTTZ0d7YM8O3hnoC8cBfMg5P5JIPGWH=s64",
      "userId": "01783901839559499476"
     },
     "user_tz": -345
    },
    "id": "jUtukQBumFzs"
   },
   "outputs": [],
   "source": []
  }
 ],
 "metadata": {
  "colab": {
   "collapsed_sections": [],
   "name": "Set Methods in Python.ipynb",
   "provenance": []
  },
  "kernelspec": {
   "display_name": "Python 3 (ipykernel)",
   "language": "python",
   "name": "python3"
  },
  "language_info": {
   "codemirror_mode": {
    "name": "ipython",
    "version": 3
   },
   "file_extension": ".py",
   "mimetype": "text/x-python",
   "name": "python",
   "nbconvert_exporter": "python",
   "pygments_lexer": "ipython3",
   "version": "3.9.13"
  }
 },
 "nbformat": 4,
 "nbformat_minor": 1
}
