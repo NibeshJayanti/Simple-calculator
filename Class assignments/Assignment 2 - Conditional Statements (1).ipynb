{
 "cells": [
  {
   "cell_type": "markdown",
   "id": "515b2d05",
   "metadata": {},
   "source": [
    "# Take a number from user input then check whether that number lies between 10 and 20 or not. If that number lies between 10 and 20, print 'You are lucky...'"
   ]
  },
  {
   "cell_type": "code",
   "execution_count": null,
   "id": "2cb3a3b5",
   "metadata": {},
   "outputs": [],
   "source": [
    "#Solution here:"
   ]
  },
  {
   "cell_type": "markdown",
   "id": "1384513f",
   "metadata": {},
   "source": [
    "# Take a number from user input and check whether the number is even or odd."
   ]
  },
  {
   "cell_type": "code",
   "execution_count": null,
   "id": "f658d069",
   "metadata": {},
   "outputs": [],
   "source": [
    "#Solution here:"
   ]
  },
  {
   "cell_type": "markdown",
   "id": "c11c106c",
   "metadata": {},
   "source": [
    "# Take two numbers from user input and perform floor division. Check if the answer is less than 10 or not."
   ]
  },
  {
   "cell_type": "code",
   "execution_count": null,
   "id": "3f760d1f",
   "metadata": {},
   "outputs": [],
   "source": [
    "#Solution here:"
   ]
  },
  {
   "cell_type": "markdown",
   "id": "affc00c3",
   "metadata": {},
   "source": [
    "# Take a user input and check if that number is positive or negative or zero."
   ]
  },
  {
   "cell_type": "code",
   "execution_count": null,
   "id": "a60beafc",
   "metadata": {},
   "outputs": [],
   "source": [
    "#Solution here:"
   ]
  },
  {
   "cell_type": "markdown",
   "id": "b11b4852",
   "metadata": {},
   "source": [
    "# A company decided to give bonus of 5% to employee if his/her year of service is more than 5 years.\n",
    "# Ask user for their salary and year of service and print the net bonus amount."
   ]
  },
  {
   "cell_type": "code",
   "execution_count": null,
   "id": "2e9967c1",
   "metadata": {},
   "outputs": [],
   "source": [
    "#Solution here:"
   ]
  }
 ],
 "metadata": {
  "kernelspec": {
   "display_name": "Python 3 (ipykernel)",
   "language": "python",
   "name": "python3"
  },
  "language_info": {
   "codemirror_mode": {
    "name": "ipython",
    "version": 3
   },
   "file_extension": ".py",
   "mimetype": "text/x-python",
   "name": "python",
   "nbconvert_exporter": "python",
   "pygments_lexer": "ipython3",
   "version": "3.9.13"
  }
 },
 "nbformat": 4,
 "nbformat_minor": 5
}
