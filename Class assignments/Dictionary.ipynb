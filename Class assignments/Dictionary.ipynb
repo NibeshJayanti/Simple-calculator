{
 "cells": [
  {
   "cell_type": "markdown",
   "id": "98f5953c",
   "metadata": {},
   "source": [
    "# Dictionary in Python"
   ]
  },
  {
   "cell_type": "code",
   "execution_count": 1,
   "id": "89237305",
   "metadata": {},
   "outputs": [
    {
     "name": "stdout",
     "output_type": "stream",
     "text": [
      "{'a': 'apple', 'b': 'ball', 1: 'one'} <class 'dict'>\n"
     ]
    }
   ],
   "source": [
    "dict1 = {\"a\":\"apple\", \"b\":\"ball\", 1:\"one\"}\n",
    "print(dict1, type(dict1))"
   ]
  },
  {
   "cell_type": "code",
   "execution_count": 2,
   "id": "fbe24aa6",
   "metadata": {},
   "outputs": [
    {
     "data": {
      "text/plain": [
       "dict"
      ]
     },
     "execution_count": 2,
     "metadata": {},
     "output_type": "execute_result"
    }
   ],
   "source": [
    "dict1 = {}\n",
    "type(dict1)"
   ]
  },
  {
   "cell_type": "code",
   "execution_count": 3,
   "id": "da8aff2f",
   "metadata": {},
   "outputs": [
    {
     "data": {
      "text/plain": [
       "dict"
      ]
     },
     "execution_count": 3,
     "metadata": {},
     "output_type": "execute_result"
    }
   ],
   "source": [
    "dict2 = dict()\n",
    "type(dict2)"
   ]
  },
  {
   "cell_type": "code",
   "execution_count": 5,
   "id": "b52e43f6",
   "metadata": {},
   "outputs": [
    {
     "name": "stdout",
     "output_type": "stream",
     "text": [
      "{(1, 2, 3): 'numbers', (4, 5, 6): 'numbers'}\n"
     ]
    }
   ],
   "source": [
    "dict3 = {(1,2,3):\"numbers\", (4,5,6):\"numbers\"}\n",
    "print(dict3)"
   ]
  },
  {
   "cell_type": "code",
   "execution_count": 6,
   "id": "5cb78ec5",
   "metadata": {},
   "outputs": [
    {
     "ename": "TypeError",
     "evalue": "unhashable type: 'list'",
     "output_type": "error",
     "traceback": [
      "\u001b[1;31m---------------------------------------------------------------------------\u001b[0m",
      "\u001b[1;31mTypeError\u001b[0m                                 Traceback (most recent call last)",
      "Cell \u001b[1;32mIn[6], line 2\u001b[0m\n\u001b[0;32m      1\u001b[0m \u001b[38;5;66;03m# Keys should not be mutable data types\u001b[39;00m\n\u001b[1;32m----> 2\u001b[0m dict4 \u001b[38;5;241m=\u001b[39m {[\u001b[38;5;241m1\u001b[39m,\u001b[38;5;241m2\u001b[39m,\u001b[38;5;241m3\u001b[39m]:\u001b[38;5;124m\"\u001b[39m\u001b[38;5;124mlist\u001b[39m\u001b[38;5;124m\"\u001b[39m}\n",
      "\u001b[1;31mTypeError\u001b[0m: unhashable type: 'list'"
     ]
    }
   ],
   "source": [
    "# Keys should not be mutable data types\n",
    "dict4 = {[1,2,3]:\"list\"}"
   ]
  },
  {
   "cell_type": "code",
   "execution_count": 7,
   "id": "037a5c3c",
   "metadata": {},
   "outputs": [
    {
     "ename": "TypeError",
     "evalue": "unhashable type: 'set'",
     "output_type": "error",
     "traceback": [
      "\u001b[1;31m---------------------------------------------------------------------------\u001b[0m",
      "\u001b[1;31mTypeError\u001b[0m                                 Traceback (most recent call last)",
      "Cell \u001b[1;32mIn[7], line 1\u001b[0m\n\u001b[1;32m----> 1\u001b[0m dict4 \u001b[38;5;241m=\u001b[39m {{\u001b[38;5;241m1\u001b[39m,\u001b[38;5;241m4\u001b[39m,\u001b[38;5;241m7\u001b[39m}:\u001b[38;5;124m\"\u001b[39m\u001b[38;5;124mset\u001b[39m\u001b[38;5;124m\"\u001b[39m}\n",
      "\u001b[1;31mTypeError\u001b[0m: unhashable type: 'set'"
     ]
    }
   ],
   "source": [
    "dict4 = {{1,4,7}:\"set\"}"
   ]
  },
  {
   "cell_type": "code",
   "execution_count": 8,
   "id": "1287e6f7",
   "metadata": {},
   "outputs": [
    {
     "ename": "TypeError",
     "evalue": "unhashable type: 'dict'",
     "output_type": "error",
     "traceback": [
      "\u001b[1;31m---------------------------------------------------------------------------\u001b[0m",
      "\u001b[1;31mTypeError\u001b[0m                                 Traceback (most recent call last)",
      "Cell \u001b[1;32mIn[8], line 1\u001b[0m\n\u001b[1;32m----> 1\u001b[0m dict5 \u001b[38;5;241m=\u001b[39m {{\u001b[38;5;124m\"\u001b[39m\u001b[38;5;124ma\u001b[39m\u001b[38;5;124m\"\u001b[39m:\u001b[38;5;124m\"\u001b[39m\u001b[38;5;124maa\u001b[39m\u001b[38;5;124m\"\u001b[39m}:\u001b[38;5;124m\"\u001b[39m\u001b[38;5;124maaa\u001b[39m\u001b[38;5;124m\"\u001b[39m}\n",
      "\u001b[1;31mTypeError\u001b[0m: unhashable type: 'dict'"
     ]
    }
   ],
   "source": [
    "dict5 = {{\"a\":\"aa\"}:\"aaa\"}"
   ]
  },
  {
   "cell_type": "code",
   "execution_count": 9,
   "id": "a3b63deb",
   "metadata": {},
   "outputs": [
    {
     "name": "stdout",
     "output_type": "stream",
     "text": [
      "{'num': 5, 'set': {1, 2, 3}, 'list': [1, 2, 4, 5], 'dict': {1: 11}}\n"
     ]
    }
   ],
   "source": [
    "dict6 = {\"num\":5, \"set\":{1,2,3}, \"list\":[1,2,4,5], \"dict\":{1:11}}\n",
    "print(dict6)"
   ]
  },
  {
   "cell_type": "markdown",
   "id": "0e3df4f7",
   "metadata": {},
   "source": [
    "# Dictionary methods in python"
   ]
  },
  {
   "cell_type": "code",
   "execution_count": 10,
   "id": "90428f73",
   "metadata": {},
   "outputs": [
    {
     "name": "stdout",
     "output_type": "stream",
     "text": [
      "Help on class dict in module builtins:\n",
      "\n",
      "class dict(object)\n",
      " |  dict() -> new empty dictionary\n",
      " |  dict(mapping) -> new dictionary initialized from a mapping object's\n",
      " |      (key, value) pairs\n",
      " |  dict(iterable) -> new dictionary initialized as if via:\n",
      " |      d = {}\n",
      " |      for k, v in iterable:\n",
      " |          d[k] = v\n",
      " |  dict(**kwargs) -> new dictionary initialized with the name=value pairs\n",
      " |      in the keyword argument list.  For example:  dict(one=1, two=2)\n",
      " |  \n",
      " |  Built-in subclasses:\n",
      " |      StgDict\n",
      " |  \n",
      " |  Methods defined here:\n",
      " |  \n",
      " |  __contains__(self, key, /)\n",
      " |      True if the dictionary has the specified key, else False.\n",
      " |  \n",
      " |  __delitem__(self, key, /)\n",
      " |      Delete self[key].\n",
      " |  \n",
      " |  __eq__(self, value, /)\n",
      " |      Return self==value.\n",
      " |  \n",
      " |  __ge__(self, value, /)\n",
      " |      Return self>=value.\n",
      " |  \n",
      " |  __getattribute__(self, name, /)\n",
      " |      Return getattr(self, name).\n",
      " |  \n",
      " |  __getitem__(...)\n",
      " |      x.__getitem__(y) <==> x[y]\n",
      " |  \n",
      " |  __gt__(self, value, /)\n",
      " |      Return self>value.\n",
      " |  \n",
      " |  __init__(self, /, *args, **kwargs)\n",
      " |      Initialize self.  See help(type(self)) for accurate signature.\n",
      " |  \n",
      " |  __ior__(self, value, /)\n",
      " |      Return self|=value.\n",
      " |  \n",
      " |  __iter__(self, /)\n",
      " |      Implement iter(self).\n",
      " |  \n",
      " |  __le__(self, value, /)\n",
      " |      Return self<=value.\n",
      " |  \n",
      " |  __len__(self, /)\n",
      " |      Return len(self).\n",
      " |  \n",
      " |  __lt__(self, value, /)\n",
      " |      Return self<value.\n",
      " |  \n",
      " |  __ne__(self, value, /)\n",
      " |      Return self!=value.\n",
      " |  \n",
      " |  __or__(self, value, /)\n",
      " |      Return self|value.\n",
      " |  \n",
      " |  __repr__(self, /)\n",
      " |      Return repr(self).\n",
      " |  \n",
      " |  __reversed__(self, /)\n",
      " |      Return a reverse iterator over the dict keys.\n",
      " |  \n",
      " |  __ror__(self, value, /)\n",
      " |      Return value|self.\n",
      " |  \n",
      " |  __setitem__(self, key, value, /)\n",
      " |      Set self[key] to value.\n",
      " |  \n",
      " |  __sizeof__(...)\n",
      " |      D.__sizeof__() -> size of D in memory, in bytes\n",
      " |  \n",
      " |  clear(...)\n",
      " |      D.clear() -> None.  Remove all items from D.\n",
      " |  \n",
      " |  copy(...)\n",
      " |      D.copy() -> a shallow copy of D\n",
      " |  \n",
      " |  get(self, key, default=None, /)\n",
      " |      Return the value for key if key is in the dictionary, else default.\n",
      " |  \n",
      " |  items(...)\n",
      " |      D.items() -> a set-like object providing a view on D's items\n",
      " |  \n",
      " |  keys(...)\n",
      " |      D.keys() -> a set-like object providing a view on D's keys\n",
      " |  \n",
      " |  pop(...)\n",
      " |      D.pop(k[,d]) -> v, remove specified key and return the corresponding value.\n",
      " |      \n",
      " |      If the key is not found, return the default if given; otherwise,\n",
      " |      raise a KeyError.\n",
      " |  \n",
      " |  popitem(self, /)\n",
      " |      Remove and return a (key, value) pair as a 2-tuple.\n",
      " |      \n",
      " |      Pairs are returned in LIFO (last-in, first-out) order.\n",
      " |      Raises KeyError if the dict is empty.\n",
      " |  \n",
      " |  setdefault(self, key, default=None, /)\n",
      " |      Insert key with a value of default if key is not in the dictionary.\n",
      " |      \n",
      " |      Return the value for key if key is in the dictionary, else default.\n",
      " |  \n",
      " |  update(...)\n",
      " |      D.update([E, ]**F) -> None.  Update D from dict/iterable E and F.\n",
      " |      If E is present and has a .keys() method, then does:  for k in E: D[k] = E[k]\n",
      " |      If E is present and lacks a .keys() method, then does:  for k, v in E: D[k] = v\n",
      " |      In either case, this is followed by: for k in F:  D[k] = F[k]\n",
      " |  \n",
      " |  values(...)\n",
      " |      D.values() -> an object providing a view on D's values\n",
      " |  \n",
      " |  ----------------------------------------------------------------------\n",
      " |  Class methods defined here:\n",
      " |  \n",
      " |  __class_getitem__(...) from builtins.type\n",
      " |      See PEP 585\n",
      " |  \n",
      " |  fromkeys(iterable, value=None, /) from builtins.type\n",
      " |      Create a new dictionary with keys from iterable and values set to value.\n",
      " |  \n",
      " |  ----------------------------------------------------------------------\n",
      " |  Static methods defined here:\n",
      " |  \n",
      " |  __new__(*args, **kwargs) from builtins.type\n",
      " |      Create and return a new object.  See help(type) for accurate signature.\n",
      " |  \n",
      " |  ----------------------------------------------------------------------\n",
      " |  Data and other attributes defined here:\n",
      " |  \n",
      " |  __hash__ = None\n",
      "\n"
     ]
    }
   ],
   "source": [
    "help(dict)"
   ]
  },
  {
   "cell_type": "code",
   "execution_count": 11,
   "id": "0d1c463e",
   "metadata": {},
   "outputs": [
    {
     "data": {
      "text/plain": [
       "['__class__',\n",
       " '__class_getitem__',\n",
       " '__contains__',\n",
       " '__delattr__',\n",
       " '__delitem__',\n",
       " '__dir__',\n",
       " '__doc__',\n",
       " '__eq__',\n",
       " '__format__',\n",
       " '__ge__',\n",
       " '__getattribute__',\n",
       " '__getitem__',\n",
       " '__getstate__',\n",
       " '__gt__',\n",
       " '__hash__',\n",
       " '__init__',\n",
       " '__init_subclass__',\n",
       " '__ior__',\n",
       " '__iter__',\n",
       " '__le__',\n",
       " '__len__',\n",
       " '__lt__',\n",
       " '__ne__',\n",
       " '__new__',\n",
       " '__or__',\n",
       " '__reduce__',\n",
       " '__reduce_ex__',\n",
       " '__repr__',\n",
       " '__reversed__',\n",
       " '__ror__',\n",
       " '__setattr__',\n",
       " '__setitem__',\n",
       " '__sizeof__',\n",
       " '__str__',\n",
       " '__subclasshook__',\n",
       " 'clear',\n",
       " 'copy',\n",
       " 'fromkeys',\n",
       " 'get',\n",
       " 'items',\n",
       " 'keys',\n",
       " 'pop',\n",
       " 'popitem',\n",
       " 'setdefault',\n",
       " 'update',\n",
       " 'values']"
      ]
     },
     "execution_count": 11,
     "metadata": {},
     "output_type": "execute_result"
    }
   ],
   "source": [
    "dir(dict)"
   ]
  },
  {
   "cell_type": "code",
   "execution_count": 13,
   "id": "5017423c",
   "metadata": {},
   "outputs": [
    {
     "data": {
      "text/plain": [
       "{'num': 5, 'set': {1, 2, 3}, 'list': [1, 2, 4, 5], 'dict': {1: 11}}"
      ]
     },
     "execution_count": 13,
     "metadata": {},
     "output_type": "execute_result"
    }
   ],
   "source": [
    "dict6"
   ]
  },
  {
   "cell_type": "code",
   "execution_count": 14,
   "id": "205073b9",
   "metadata": {},
   "outputs": [],
   "source": [
    "# clear\n",
    "dict6.clear()"
   ]
  },
  {
   "cell_type": "code",
   "execution_count": 15,
   "id": "b8eefb5a",
   "metadata": {},
   "outputs": [
    {
     "data": {
      "text/plain": [
       "{}"
      ]
     },
     "execution_count": 15,
     "metadata": {},
     "output_type": "execute_result"
    }
   ],
   "source": [
    "dict6"
   ]
  },
  {
   "cell_type": "code",
   "execution_count": 17,
   "id": "f794f56d",
   "metadata": {},
   "outputs": [
    {
     "data": {
      "text/plain": [
       "{(1, 2, 3): 'numbers', (4, 5, 6): 'numbers'}"
      ]
     },
     "execution_count": 17,
     "metadata": {},
     "output_type": "execute_result"
    }
   ],
   "source": [
    "dict3"
   ]
  },
  {
   "cell_type": "code",
   "execution_count": 18,
   "id": "c8afc313",
   "metadata": {},
   "outputs": [
    {
     "data": {
      "text/plain": [
       "{(1, 2, 3): 'numbers', (4, 5, 6): 'numbers'}"
      ]
     },
     "execution_count": 18,
     "metadata": {},
     "output_type": "execute_result"
    }
   ],
   "source": [
    "#copy()\n",
    "dict7  = dict3.copy()\n",
    "dict7"
   ]
  },
  {
   "cell_type": "code",
   "execution_count": 21,
   "id": "f087de74",
   "metadata": {},
   "outputs": [
    {
     "data": {
      "text/plain": [
       "{'a': None, 'b': None, 'c': None}"
      ]
     },
     "execution_count": 21,
     "metadata": {},
     "output_type": "execute_result"
    }
   ],
   "source": [
    "#fromkeys\n",
    "keys = (\"a\", \"b\", \"c\")\n",
    "values = None\n",
    "dict.fromkeys(keys,values)"
   ]
  },
  {
   "cell_type": "code",
   "execution_count": 20,
   "id": "aff0f709",
   "metadata": {},
   "outputs": [
    {
     "data": {
      "text/plain": [
       "{'a': (1, 2, 3), 'b': (1, 2, 3), 'c': (1, 2, 3)}"
      ]
     },
     "execution_count": 20,
     "metadata": {},
     "output_type": "execute_result"
    }
   ],
   "source": [
    "keys = (\"a\", \"b\", \"c\")\n",
    "values = (1,2,3)\n",
    "dict.fromkeys(keys,values)"
   ]
  },
  {
   "cell_type": "code",
   "execution_count": 26,
   "id": "da6c26fd",
   "metadata": {},
   "outputs": [
    {
     "data": {
      "text/plain": [
       "'numbers'"
      ]
     },
     "execution_count": 26,
     "metadata": {},
     "output_type": "execute_result"
    }
   ],
   "source": [
    "#get\n",
    "dict1 = {\"a\":\"alphabet\", 1:\"numbers\"}\n",
    "dict1[1]"
   ]
  },
  {
   "cell_type": "code",
   "execution_count": 27,
   "id": "4d83baae",
   "metadata": {},
   "outputs": [
    {
     "data": {
      "text/plain": [
       "'alphabet'"
      ]
     },
     "execution_count": 27,
     "metadata": {},
     "output_type": "execute_result"
    }
   ],
   "source": [
    "dict1[\"a\"]"
   ]
  },
  {
   "cell_type": "code",
   "execution_count": 28,
   "id": "75c45d57",
   "metadata": {},
   "outputs": [
    {
     "ename": "KeyError",
     "evalue": "'list'",
     "output_type": "error",
     "traceback": [
      "\u001b[1;31m---------------------------------------------------------------------------\u001b[0m",
      "\u001b[1;31mKeyError\u001b[0m                                  Traceback (most recent call last)",
      "Cell \u001b[1;32mIn[28], line 1\u001b[0m\n\u001b[1;32m----> 1\u001b[0m \u001b[43mdict1\u001b[49m\u001b[43m[\u001b[49m\u001b[38;5;124;43m\"\u001b[39;49m\u001b[38;5;124;43mlist\u001b[39;49m\u001b[38;5;124;43m\"\u001b[39;49m\u001b[43m]\u001b[49m\n",
      "\u001b[1;31mKeyError\u001b[0m: 'list'"
     ]
    }
   ],
   "source": [
    "dict1[\"list\"]"
   ]
  },
  {
   "cell_type": "code",
   "execution_count": 29,
   "id": "7a53cfef",
   "metadata": {},
   "outputs": [
    {
     "data": {
      "text/plain": [
       "'alphabet'"
      ]
     },
     "execution_count": 29,
     "metadata": {},
     "output_type": "execute_result"
    }
   ],
   "source": [
    "dict1.get(\"a\")"
   ]
  },
  {
   "cell_type": "code",
   "execution_count": 30,
   "id": "e65fa328",
   "metadata": {},
   "outputs": [
    {
     "data": {
      "text/plain": [
       "'numbers'"
      ]
     },
     "execution_count": 30,
     "metadata": {},
     "output_type": "execute_result"
    }
   ],
   "source": [
    "dict1.get(1)"
   ]
  },
  {
   "cell_type": "code",
   "execution_count": 31,
   "id": "13631df6",
   "metadata": {},
   "outputs": [],
   "source": [
    "dict1.get(\"list\")"
   ]
  },
  {
   "cell_type": "code",
   "execution_count": null,
   "id": "1159d610",
   "metadata": {},
   "outputs": [],
   "source": [
    "#items #pop #keys"
   ]
  },
  {
   "cell_type": "code",
   "execution_count": 32,
   "id": "0502a42b",
   "metadata": {},
   "outputs": [
    {
     "data": {
      "text/plain": [
       "{'a': 'alphabet', 1: 'numbers'}"
      ]
     },
     "execution_count": 32,
     "metadata": {},
     "output_type": "execute_result"
    }
   ],
   "source": [
    "#items\n",
    "dict1"
   ]
  },
  {
   "cell_type": "code",
   "execution_count": 34,
   "id": "a5babf80",
   "metadata": {},
   "outputs": [
    {
     "data": {
      "text/plain": [
       "[('a', 'alphabet'), (1, 'numbers')]"
      ]
     },
     "execution_count": 34,
     "metadata": {},
     "output_type": "execute_result"
    }
   ],
   "source": [
    "list(dict1.items())"
   ]
  },
  {
   "cell_type": "code",
   "execution_count": 36,
   "id": "38639280",
   "metadata": {},
   "outputs": [
    {
     "data": {
      "text/plain": [
       "{1: 'numbers'}"
      ]
     },
     "execution_count": 36,
     "metadata": {},
     "output_type": "execute_result"
    }
   ],
   "source": [
    "#pop\n",
    "dict1.pop(\"a\")\n",
    "dict1"
   ]
  },
  {
   "cell_type": "code",
   "execution_count": 38,
   "id": "75fd22a2",
   "metadata": {},
   "outputs": [
    {
     "data": {
      "text/plain": [
       "{1: 1, 2: 4, 3: 9, 4: 16}"
      ]
     },
     "execution_count": 38,
     "metadata": {},
     "output_type": "execute_result"
    }
   ],
   "source": [
    "#popitem\n",
    "dict6 = {1:1, 2:4, 3:9, 4:16}\n",
    "dict6"
   ]
  },
  {
   "cell_type": "code",
   "execution_count": 39,
   "id": "1ebbf84f",
   "metadata": {},
   "outputs": [
    {
     "data": {
      "text/plain": [
       "(4, 16)"
      ]
     },
     "execution_count": 39,
     "metadata": {},
     "output_type": "execute_result"
    }
   ],
   "source": [
    "dict6.popitem()"
   ]
  },
  {
   "cell_type": "code",
   "execution_count": 40,
   "id": "b899511f",
   "metadata": {},
   "outputs": [
    {
     "data": {
      "text/plain": [
       "{1: 1, 2: 4, 3: 9}"
      ]
     },
     "execution_count": 40,
     "metadata": {},
     "output_type": "execute_result"
    }
   ],
   "source": [
    "dict6"
   ]
  },
  {
   "cell_type": "code",
   "execution_count": 45,
   "id": "921dd361",
   "metadata": {},
   "outputs": [
    {
     "name": "stdout",
     "output_type": "stream",
     "text": [
      "Help on method_descriptor:\n",
      "\n",
      "pop(...)\n",
      "    D.pop(k[,d]) -> v, remove specified key and return the corresponding value.\n",
      "    \n",
      "    If the key is not found, return the default if given; otherwise,\n",
      "    raise a KeyError.\n",
      "\n"
     ]
    }
   ],
   "source": [
    "help(dict.pop)"
   ]
  },
  {
   "cell_type": "code",
   "execution_count": null,
   "id": "b72c4caa",
   "metadata": {},
   "outputs": [],
   "source": [
    "#setdefault #update #values"
   ]
  },
  {
   "cell_type": "code",
   "execution_count": 47,
   "id": "5b638401",
   "metadata": {},
   "outputs": [
    {
     "data": {
      "text/plain": [
       "{'company': 'Honda', 'Model': 'CVR', 'made_in': 2008, 'cc': 180}"
      ]
     },
     "execution_count": 47,
     "metadata": {},
     "output_type": "execute_result"
    }
   ],
   "source": [
    "#setdefault\n",
    "dict7 = {\"company\":\"Honda\", \"Model\":\"CVR\", \"made_in\":2008, \"cc\":180}\n",
    "dict7"
   ]
  },
  {
   "cell_type": "code",
   "execution_count": 48,
   "id": "afb8d2bf",
   "metadata": {},
   "outputs": [
    {
     "name": "stdout",
     "output_type": "stream",
     "text": [
      "{'company': 'Honda', 'Model': 'CVR', 'made_in': 2008, 'cc': 180, 'color': 'Red'}\n"
     ]
    }
   ],
   "source": [
    "dict7.setdefault(\"color\",\"Red\")\n",
    "print(dict7)"
   ]
  },
  {
   "cell_type": "code",
   "execution_count": 50,
   "id": "9937a439",
   "metadata": {},
   "outputs": [
    {
     "data": {
      "text/plain": [
       "{'company': 'Honda',\n",
       " 'Model': 'CVR',\n",
       " 'made_in': 2008,\n",
       " 'cc': 180,\n",
       " 'color': 'Red'}"
      ]
     },
     "execution_count": 50,
     "metadata": {},
     "output_type": "execute_result"
    }
   ],
   "source": [
    "dict7.setdefault(\"cc\",150)\n",
    "dict7"
   ]
  },
  {
   "cell_type": "code",
   "execution_count": 54,
   "id": "7151f7e7",
   "metadata": {},
   "outputs": [
    {
     "data": {
      "text/plain": [
       "{'company': 'Honda',\n",
       " 'Model': 'CVR',\n",
       " 'made_in': 2008,\n",
       " 'cc': 180,\n",
       " 'color': 'Black'}"
      ]
     },
     "execution_count": 54,
     "metadata": {},
     "output_type": "execute_result"
    }
   ],
   "source": [
    "dict7[\"color\"] = \"Black\"\n",
    "dict7"
   ]
  },
  {
   "cell_type": "code",
   "execution_count": 55,
   "id": "8b401156",
   "metadata": {},
   "outputs": [
    {
     "name": "stdout",
     "output_type": "stream",
     "text": [
      "{'company': 'Honda', 'Model': 'CVR', 'made_in': 2008, 'cc': 180, 'color': 'Black', 'price': 250000}\n"
     ]
    }
   ],
   "source": [
    "dict7[\"price\"] = 250000\n",
    "print(dict7)"
   ]
  },
  {
   "cell_type": "code",
   "execution_count": 56,
   "id": "2c49d0eb",
   "metadata": {},
   "outputs": [
    {
     "data": {
      "text/plain": [
       "{'company': 'Honda',\n",
       " 'Model': 'CVR',\n",
       " 'made_in': 2008,\n",
       " 'cc': 180,\n",
       " 'color': 'Black',\n",
       " 'price': 250000,\n",
       " 'stroke': '4 stroke'}"
      ]
     },
     "execution_count": 56,
     "metadata": {},
     "output_type": "execute_result"
    }
   ],
   "source": [
    "#update\n",
    "dict7.update({\"stroke\":\"4 stroke\"})\n",
    "dict7"
   ]
  },
  {
   "cell_type": "code",
   "execution_count": 59,
   "id": "6f2f538f",
   "metadata": {},
   "outputs": [
    {
     "data": {
      "text/plain": [
       "['Honda', 'CVR', 2008, 180, 'Black', 250000, '4 stroke']"
      ]
     },
     "execution_count": 59,
     "metadata": {},
     "output_type": "execute_result"
    }
   ],
   "source": [
    "#values\n",
    "list(dict7.values())"
   ]
  },
  {
   "cell_type": "code",
   "execution_count": 60,
   "id": "26c811ce",
   "metadata": {},
   "outputs": [
    {
     "data": {
      "text/plain": [
       "['company', 'Model', 'made_in', 'cc', 'color', 'price', 'stroke']"
      ]
     },
     "execution_count": 60,
     "metadata": {},
     "output_type": "execute_result"
    }
   ],
   "source": [
    "list(dict7.keys())"
   ]
  },
  {
   "cell_type": "markdown",
   "id": "5592821f",
   "metadata": {},
   "source": [
    "# Accessing Dictionary using For Loop"
   ]
  },
  {
   "cell_type": "code",
   "execution_count": 61,
   "id": "72445602",
   "metadata": {},
   "outputs": [
    {
     "data": {
      "text/plain": [
       "{'company': 'Honda',\n",
       " 'Model': 'CVR',\n",
       " 'made_in': 2008,\n",
       " 'cc': 180,\n",
       " 'color': 'Black',\n",
       " 'price': 250000,\n",
       " 'stroke': '4 stroke'}"
      ]
     },
     "execution_count": 61,
     "metadata": {},
     "output_type": "execute_result"
    }
   ],
   "source": [
    "dict7"
   ]
  },
  {
   "cell_type": "code",
   "execution_count": 62,
   "id": "b0f59258",
   "metadata": {},
   "outputs": [
    {
     "name": "stdout",
     "output_type": "stream",
     "text": [
      "company\n",
      "Model\n",
      "made_in\n",
      "cc\n",
      "color\n",
      "price\n",
      "stroke\n"
     ]
    }
   ],
   "source": [
    "for d in dict7:\n",
    "    print(d)"
   ]
  },
  {
   "cell_type": "code",
   "execution_count": 63,
   "id": "7a5f13c8",
   "metadata": {},
   "outputs": [
    {
     "name": "stdout",
     "output_type": "stream",
     "text": [
      "company\n",
      "Model\n",
      "made_in\n",
      "cc\n",
      "color\n",
      "price\n",
      "stroke\n"
     ]
    }
   ],
   "source": [
    "for d in dict7.keys():\n",
    "    print(d)"
   ]
  },
  {
   "cell_type": "code",
   "execution_count": 64,
   "id": "04de11f7",
   "metadata": {},
   "outputs": [
    {
     "name": "stdout",
     "output_type": "stream",
     "text": [
      "Honda\n",
      "CVR\n",
      "2008\n",
      "180\n",
      "Black\n",
      "250000\n",
      "4 stroke\n"
     ]
    }
   ],
   "source": [
    "for d in dict7.values():\n",
    "    print(d)"
   ]
  },
  {
   "cell_type": "code",
   "execution_count": 70,
   "id": "de19f818",
   "metadata": {},
   "outputs": [
    {
     "name": "stdout",
     "output_type": "stream",
     "text": [
      "company is Honda\n",
      "Model is CVR\n",
      "made_in is 2008\n",
      "cc is 180\n",
      "color is Black\n",
      "price is 250000\n",
      "stroke is 4 stroke\n"
     ]
    }
   ],
   "source": [
    "for k,v in dict7.items():\n",
    "    print(k + \" is \"+ str(v))"
   ]
  },
  {
   "cell_type": "markdown",
   "id": "987f86b2",
   "metadata": {},
   "source": [
    "# Getting Dictionary from User Input"
   ]
  },
  {
   "cell_type": "code",
   "execution_count": 71,
   "id": "a008276f",
   "metadata": {},
   "outputs": [
    {
     "name": "stdout",
     "output_type": "stream",
     "text": [
      "How many pairs? 3\n",
      "Enter your 1 keys: 1\n",
      "Enter your 1 values: 10\n",
      "Enter your 2 keys: 2\n",
      "Enter your 2 values: 20\n",
      "Enter your 3 keys: 3\n",
      "Enter your 3 values: thirty\n",
      "{'1': '10', '2': '20', '3': 'thirty'}\n"
     ]
    }
   ],
   "source": [
    "empty = {}\n",
    "nums =  int(input(\"How many pairs? \"))\n",
    "for n in range(nums):\n",
    "    key = input(f\"Enter your {n+1} keys: \")\n",
    "    value = input(f\"Enter your {n+1} values: \")\n",
    "    empty[key] = value\n",
    "print(empty)\n",
    "    "
   ]
  },
  {
   "cell_type": "markdown",
   "id": "7d3bd3ba",
   "metadata": {},
   "source": [
    "# Checking Dictionary Elements"
   ]
  },
  {
   "cell_type": "code",
   "execution_count": 77,
   "id": "87f9d7ff",
   "metadata": {},
   "outputs": [
    {
     "data": {
      "text/plain": [
       "True"
      ]
     },
     "execution_count": 77,
     "metadata": {},
     "output_type": "execute_result"
    }
   ],
   "source": [
    "'3' in empty.keys()"
   ]
  },
  {
   "cell_type": "code",
   "execution_count": 76,
   "id": "7e02c422",
   "metadata": {},
   "outputs": [
    {
     "data": {
      "text/plain": [
       "False"
      ]
     },
     "execution_count": 76,
     "metadata": {},
     "output_type": "execute_result"
    }
   ],
   "source": [
    "'2' not in empty.keys()"
   ]
  },
  {
   "cell_type": "code",
   "execution_count": 75,
   "id": "e9153d48",
   "metadata": {},
   "outputs": [
    {
     "data": {
      "text/plain": [
       "True"
      ]
     },
     "execution_count": 75,
     "metadata": {},
     "output_type": "execute_result"
    }
   ],
   "source": [
    "'thirty' in empty.values()"
   ]
  },
  {
   "cell_type": "markdown",
   "id": "ffb55815",
   "metadata": {},
   "source": [
    "# Nested Dictionary "
   ]
  },
  {
   "cell_type": "code",
   "execution_count": 78,
   "id": "20046a4d",
   "metadata": {},
   "outputs": [
    {
     "name": "stdout",
     "output_type": "stream",
     "text": [
      "{'programming': {'python': '60hrs', 'price': 10000}, 'CAD': {'Autocad': '30hrs', 'price': 6000}}\n"
     ]
    }
   ],
   "source": [
    "course = {\"programming\":\n",
    "          {\"python\":\"60hrs\", \"price\":10000}, \n",
    "          \"CAD\":\n",
    "          {\"Autocad\":\"30hrs\", \"price\":6000}}\n",
    "print(course)"
   ]
  },
  {
   "cell_type": "code",
   "execution_count": 79,
   "id": "e391a965",
   "metadata": {},
   "outputs": [
    {
     "data": {
      "text/plain": [
       "{'python': '60hrs', 'price': 10000}"
      ]
     },
     "execution_count": 79,
     "metadata": {},
     "output_type": "execute_result"
    }
   ],
   "source": [
    "course[\"programming\"]"
   ]
  },
  {
   "cell_type": "code",
   "execution_count": 80,
   "id": "227d4d1a",
   "metadata": {},
   "outputs": [
    {
     "data": {
      "text/plain": [
       "10000"
      ]
     },
     "execution_count": 80,
     "metadata": {},
     "output_type": "execute_result"
    }
   ],
   "source": [
    "course[\"programming\"][\"price\"]"
   ]
  },
  {
   "cell_type": "code",
   "execution_count": 81,
   "id": "6bc33ae5",
   "metadata": {},
   "outputs": [
    {
     "data": {
      "text/plain": [
       "'30hrs'"
      ]
     },
     "execution_count": 81,
     "metadata": {},
     "output_type": "execute_result"
    }
   ],
   "source": [
    "course[\"CAD\"][\"Autocad\"]"
   ]
  },
  {
   "cell_type": "code",
   "execution_count": 87,
   "id": "60d585b9",
   "metadata": {},
   "outputs": [
    {
     "name": "stdout",
     "output_type": "stream",
     "text": [
      "('python', '60hrs')\n",
      "('price', 10000)\n",
      "('Autocad', '30hrs')\n",
      "('price', 6000)\n"
     ]
    }
   ],
   "source": [
    "for cls in course.values():\n",
    "    for c in cls.items():\n",
    "        print(c)"
   ]
  },
  {
   "cell_type": "code",
   "execution_count": null,
   "id": "d6e6407a",
   "metadata": {},
   "outputs": [],
   "source": []
  },
  {
   "cell_type": "code",
   "execution_count": null,
   "id": "70c63a4d",
   "metadata": {},
   "outputs": [],
   "source": []
  },
  {
   "cell_type": "code",
   "execution_count": null,
   "id": "0e1f6cdf",
   "metadata": {},
   "outputs": [],
   "source": []
  },
  {
   "cell_type": "code",
   "execution_count": null,
   "id": "251bc5b9",
   "metadata": {},
   "outputs": [],
   "source": []
  },
  {
   "cell_type": "code",
   "execution_count": null,
   "id": "05ba8faf",
   "metadata": {},
   "outputs": [],
   "source": []
  }
 ],
 "metadata": {
  "kernelspec": {
   "display_name": "Python 3 (ipykernel)",
   "language": "python",
   "name": "python3"
  },
  "language_info": {
   "codemirror_mode": {
    "name": "ipython",
    "version": 3
   },
   "file_extension": ".py",
   "mimetype": "text/x-python",
   "name": "python",
   "nbconvert_exporter": "python",
   "pygments_lexer": "ipython3",
   "version": "3.11.2"
  }
 },
 "nbformat": 4,
 "nbformat_minor": 5
}
