{
 "cells": [
  {
   "cell_type": "markdown",
   "metadata": {
    "id": "l8cBU4-imU7S"
   },
   "source": [
    "# Nested Set in  Python"
   ]
  },
  {
   "cell_type": "code",
   "execution_count": 1,
   "metadata": {
    "colab": {
     "base_uri": "https://localhost:8080/",
     "height": 180
    },
    "executionInfo": {
     "elapsed": 373,
     "status": "error",
     "timestamp": 1626681786492,
     "user": {
      "displayName": "Gopal Kisi",
      "photoUrl": "https://lh3.googleusercontent.com/a-/AOh14Gjx25o0HPTTZ0d7YM8O3hnoC8cBfMg5P5JIPGWH=s64",
      "userId": "01783901839559499476"
     },
     "user_tz": -345
    },
    "id": "JpowkWzZmU7U",
    "outputId": "3748763c-f8c0-4e13-ebe0-385b2197d405"
   },
   "outputs": [
    {
     "ename": "TypeError",
     "evalue": "unhashable type: 'set'",
     "output_type": "error",
     "traceback": [
      "\u001b[1;31m---------------------------------------------------------------------------\u001b[0m",
      "\u001b[1;31mTypeError\u001b[0m                                 Traceback (most recent call last)",
      "Input \u001b[1;32mIn [1]\u001b[0m, in \u001b[0;36m<cell line: 1>\u001b[1;34m()\u001b[0m\n\u001b[1;32m----> 1\u001b[0m nested \u001b[38;5;241m=\u001b[39m {{\u001b[38;5;241m12\u001b[39m,\u001b[38;5;241m56\u001b[39m,\u001b[38;5;241m58\u001b[39m,\u001b[38;5;241m8\u001b[39m}, {\u001b[38;5;241m12\u001b[39m,\u001b[38;5;241m36\u001b[39m,\u001b[38;5;241m95\u001b[39m,\u001b[38;5;241m8\u001b[39m}}\n",
      "\u001b[1;31mTypeError\u001b[0m: unhashable type: 'set'"
     ]
    }
   ],
   "source": [
    "nested = {{12,56,58,8}, {12,36,95,8}}"
   ]
  },
  {
   "cell_type": "code",
   "execution_count": 2,
   "metadata": {
    "colab": {
     "base_uri": "https://localhost:8080/"
    },
    "executionInfo": {
     "elapsed": 345,
     "status": "ok",
     "timestamp": 1626681791312,
     "user": {
      "displayName": "Gopal Kisi",
      "photoUrl": "https://lh3.googleusercontent.com/a-/AOh14Gjx25o0HPTTZ0d7YM8O3hnoC8cBfMg5P5JIPGWH=s64",
      "userId": "01783901839559499476"
     },
     "user_tz": -345
    },
    "id": "XZEcdiaUvWj7",
    "outputId": "3391de72-6f02-4bf3-b948-3afb95011339"
   },
   "outputs": [
    {
     "name": "stdout",
     "output_type": "stream",
     "text": [
      "{frozenset({'b', 'a', 'c'}), frozenset({'x', 'y', 'z'})}\n"
     ]
    }
   ],
   "source": [
    "s1 = {\"a\", \"b\", \"c\"}\n",
    "s2 = {\"z\", \"y\", \"x\"}\n",
    "f1 = frozenset(s1)\n",
    "f2 = frozenset(s2)\n",
    "nested = {f1, f2}\n",
    "print(nested)"
   ]
  },
  {
   "cell_type": "markdown",
   "metadata": {
    "id": "UjUroRyYmU7U"
   },
   "source": [
    "# Access Nested Set using for loop in Python"
   ]
  },
  {
   "cell_type": "code",
   "execution_count": 3,
   "metadata": {
    "executionInfo": {
     "elapsed": 384,
     "status": "ok",
     "timestamp": 1626681796325,
     "user": {
      "displayName": "Gopal Kisi",
      "photoUrl": "https://lh3.googleusercontent.com/a-/AOh14Gjx25o0HPTTZ0d7YM8O3hnoC8cBfMg5P5JIPGWH=s64",
      "userId": "01783901839559499476"
     },
     "user_tz": -345
    },
    "id": "XlDO1K9gmU7U"
   },
   "outputs": [
    {
     "name": "stdout",
     "output_type": "stream",
     "text": [
      "frozenset({'b', 'a', 'c'})\n",
      "frozenset({'x', 'y', 'z'})\n"
     ]
    }
   ],
   "source": [
    "#Example:\n",
    "for nest in nested:\n",
    "    print(nest)"
   ]
  },
  {
   "cell_type": "code",
   "execution_count": 4,
   "metadata": {
    "colab": {
     "base_uri": "https://localhost:8080/"
    },
    "executionInfo": {
     "elapsed": 7,
     "status": "ok",
     "timestamp": 1626681796668,
     "user": {
      "displayName": "Gopal Kisi",
      "photoUrl": "https://lh3.googleusercontent.com/a-/AOh14Gjx25o0HPTTZ0d7YM8O3hnoC8cBfMg5P5JIPGWH=s64",
      "userId": "01783901839559499476"
     },
     "user_tz": -345
    },
    "id": "N6UczgujmU7V",
    "outputId": "d46c78c3-c3d6-4901-f9a0-e5eed82ccef3"
   },
   "outputs": [
    {
     "name": "stdout",
     "output_type": "stream",
     "text": [
      "b\n",
      "a\n",
      "c\n",
      "x\n",
      "y\n",
      "z\n"
     ]
    }
   ],
   "source": [
    "for nest in nested:\n",
    "    for n in nest:\n",
    "        print(n)"
   ]
  },
  {
   "cell_type": "code",
   "execution_count": null,
   "metadata": {
    "executionInfo": {
     "elapsed": 3,
     "status": "ok",
     "timestamp": 1626681786874,
     "user": {
      "displayName": "Gopal Kisi",
      "photoUrl": "https://lh3.googleusercontent.com/a-/AOh14Gjx25o0HPTTZ0d7YM8O3hnoC8cBfMg5P5JIPGWH=s64",
      "userId": "01783901839559499476"
     },
     "user_tz": -345
    },
    "id": "MMDIIp-ImU7V"
   },
   "outputs": [],
   "source": []
  }
 ],
 "metadata": {
  "colab": {
   "collapsed_sections": [],
   "name": "Nested Set in  Python.ipynb",
   "provenance": []
  },
  "kernelspec": {
   "display_name": "Python 3 (ipykernel)",
   "language": "python",
   "name": "python3"
  },
  "language_info": {
   "codemirror_mode": {
    "name": "ipython",
    "version": 3
   },
   "file_extension": ".py",
   "mimetype": "text/x-python",
   "name": "python",
   "nbconvert_exporter": "python",
   "pygments_lexer": "ipython3",
   "version": "3.10.8"
  }
 },
 "nbformat": 4,
 "nbformat_minor": 1
}
