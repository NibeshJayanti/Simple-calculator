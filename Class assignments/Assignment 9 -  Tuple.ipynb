{
 "cells": [
  {
   "cell_type": "markdown",
   "id": "3486c269",
   "metadata": {},
   "source": [
    "## Remove duplicate items from  a tuple.\n",
    "numbers = (13,46,79,17,28,39,19,73,19,46,73,28,13)"
   ]
  },
  {
   "cell_type": "markdown",
   "id": "fdb9adba",
   "metadata": {},
   "source": [
    "Expected Output:\n",
    "\n",
    "numbers = (13,46,79,17,28,39,19,73)"
   ]
  },
  {
   "cell_type": "code",
   "execution_count": 5,
   "id": "769d85fc",
   "metadata": {},
   "outputs": [
    {
     "name": "stdout",
     "output_type": "stream",
     "text": [
      "(39, 73, 13, 46, 79, 17, 19, 28)\n"
     ]
    }
   ],
   "source": [
    "##Solution Here:\n",
    "numbers = (13,46,79,17,28,39,19,73,19,46,73,28,13)\n",
    "print(tuple(set(numbers)))"
   ]
  },
  {
   "cell_type": "markdown",
   "id": "f2da656c",
   "metadata": {},
   "source": [
    "## Reverse the following tuple.\n",
    "aTuple = (10, 20, 30, 40, 50)"
   ]
  },
  {
   "cell_type": "markdown",
   "id": "15a96cc3",
   "metadata": {},
   "source": [
    "Expected Output:\n",
    "    \n",
    "(50, 40, 30, 20, 10)"
   ]
  },
  {
   "cell_type": "code",
   "execution_count": 11,
   "id": "c788c9e8",
   "metadata": {},
   "outputs": [
    {
     "data": {
      "text/plain": [
       "(50, 40, 30, 20, 10)"
      ]
     },
     "execution_count": 11,
     "metadata": {},
     "output_type": "execute_result"
    }
   ],
   "source": [
    "##Solution Here:\n",
    "aTuple = (10, 20, 30, 40, 50)\n",
    "aTuple[::-1]"
   ]
  },
  {
   "cell_type": "markdown",
   "id": "bfe7778e",
   "metadata": {},
   "source": [
    "## Access value 20 from the following tuple\n",
    "aTuple = (\"Orange\", [10, 20, 30], (5, 15, 25))"
   ]
  },
  {
   "cell_type": "code",
   "execution_count": 23,
   "id": "55c6db22",
   "metadata": {},
   "outputs": [
    {
     "data": {
      "text/plain": [
       "([10, 20, 30], (5, 15, 25))"
      ]
     },
     "execution_count": 23,
     "metadata": {},
     "output_type": "execute_result"
    }
   ],
   "source": [
    "##Solution Here:\n",
    "aTuple = (\"Orange\", [10, 20, 30], (5, 15, 25))\n",
    "aTuple[1 : 3]"
   ]
  },
  {
   "cell_type": "markdown",
   "id": "e3c7f849",
   "metadata": {},
   "source": [
    "## Create a tuple with single item 50"
   ]
  },
  {
   "cell_type": "code",
   "execution_count": 4,
   "id": "4e91c5d0",
   "metadata": {},
   "outputs": [],
   "source": [
    "##Solution Here:"
   ]
  },
  {
   "cell_type": "markdown",
   "id": "cf6a6660",
   "metadata": {},
   "source": [
    "## Unpack the following tuple into 4 variables\n",
    "aTuple = (10, 20, 30, 40)"
   ]
  },
  {
   "cell_type": "markdown",
   "id": "c07b0e2b",
   "metadata": {},
   "source": [
    "Expected Output:\n",
    "    \n",
    "aTuple = (10, 20, 30, 40)\n",
    "\n",
    "**Your code**\n",
    "\n",
    "print(a) # should print 10\n",
    "\n",
    "print(b) # should print 20\n",
    "\n",
    "print(c) # should print 30\n",
    "\n",
    "print(d) # should print 40"
   ]
  },
  {
   "cell_type": "code",
   "execution_count": 5,
   "id": "a8c59798",
   "metadata": {},
   "outputs": [],
   "source": [
    "##Solution Here:"
   ]
  },
  {
   "cell_type": "markdown",
   "id": "7a7fbf68",
   "metadata": {},
   "source": [
    "## Swap the following two tuples\n",
    "tuple1 = (11, 22)\n",
    "tuple2 = (99, 88)"
   ]
  },
  {
   "cell_type": "markdown",
   "id": "147df5eb",
   "metadata": {},
   "source": [
    "Expected Output:\n",
    "    \n",
    "tuple1 = (99, 88)\n",
    "\n",
    "tuple2 = (11, 22)"
   ]
  },
  {
   "cell_type": "code",
   "execution_count": 25,
   "id": "6092fde4",
   "metadata": {},
   "outputs": [
    {
     "name": "stdout",
     "output_type": "stream",
     "text": [
      "(99, 88)\n",
      "(11, 22)\n"
     ]
    }
   ],
   "source": [
    "##Solution Here:\n",
    "tuple1 = (11, 22) \n",
    "tuple2 = (99, 88)\n",
    "\n",
    "tuple1,tuple2 = (99,88),(11,22)\n",
    "print(tuple1)\n",
    "print(tuple2)\n"
   ]
  },
  {
   "cell_type": "markdown",
   "id": "1758574d",
   "metadata": {},
   "source": [
    "## Copy element 44 and 55 from the following tuple into a new tuple\n",
    "tuple1 = (11, 22, 33, 44, 55, 66)"
   ]
  },
  {
   "cell_type": "markdown",
   "id": "0f5d104e",
   "metadata": {},
   "source": [
    "Expected Output:\n",
    "    \n",
    "tuple2: (44, 55)"
   ]
  },
  {
   "cell_type": "code",
   "execution_count": 7,
   "id": "b6d1a53d",
   "metadata": {},
   "outputs": [],
   "source": [
    "##Solution Here:"
   ]
  },
  {
   "cell_type": "markdown",
   "id": "ef2c4e8d",
   "metadata": {},
   "source": [
    "## Modify the first item (22) of a list inside a following tuple to 222\n",
    "tuple1 = (11, [22, 33], 44, 55)"
   ]
  },
  {
   "cell_type": "markdown",
   "id": "fbcfd598",
   "metadata": {},
   "source": [
    "Expected Output:\n",
    "    \n",
    "tuple1: (11, [222, 33], 44, 55)"
   ]
  },
  {
   "cell_type": "code",
   "execution_count": 8,
   "id": "4eeb4b42",
   "metadata": {},
   "outputs": [],
   "source": [
    "##Solution Here:\n"
   ]
  },
  {
   "cell_type": "markdown",
   "id": "4d8fa1b1",
   "metadata": {},
   "source": [
    "## Sort a tuple of tuples by 2nd item\n",
    "tuple1 = (('a', 23),('b', 37),('c', 11), ('d',29))"
   ]
  },
  {
   "cell_type": "markdown",
   "id": "9a671885",
   "metadata": {},
   "source": [
    "Expected Output:\n",
    "    \n",
    "(('c', 11), ('a', 23), ('d', 29), ('b', 37))"
   ]
  },
  {
   "cell_type": "code",
   "execution_count": 30,
   "id": "54817139",
   "metadata": {},
   "outputs": [
    {
     "name": "stdout",
     "output_type": "stream",
     "text": [
      "('d', 29)\n"
     ]
    }
   ],
   "source": [
    "##Solution Here:\n",
    "tuple1 = (('a', 23),('b', 37),('c', 11), ('d',29))\n",
    "numbers = []\n",
    "for tup in tuple1:\n",
    "   numbers.append(tup[-1])\n",
    "print(tup)"
   ]
  },
  {
   "cell_type": "markdown",
   "id": "9f8db95e",
   "metadata": {},
   "source": [
    "## Counts the number of occurrences of item 50 from a tuple\n",
    "tuple1 = (50, 10, 60, 70, 50)"
   ]
  },
  {
   "cell_type": "markdown",
   "id": "cf2bb53b",
   "metadata": {},
   "source": [
    "Expected Output: 2"
   ]
  },
  {
   "cell_type": "code",
   "execution_count": 10,
   "id": "dc17dfe5",
   "metadata": {},
   "outputs": [],
   "source": [
    "##Solution Here:"
   ]
  },
  {
   "cell_type": "markdown",
   "id": "018e52c6",
   "metadata": {},
   "source": [
    "## Check if all items in the following tuple are the same\n",
    "tuple1 = (45, 45, 45, 45)"
   ]
  },
  {
   "cell_type": "markdown",
   "id": "ca857b38",
   "metadata": {},
   "source": [
    "Expected Output: TRUE"
   ]
  },
  {
   "cell_type": "code",
   "execution_count": 33,
   "id": "3e16a448",
   "metadata": {},
   "outputs": [
    {
     "name": "stdout",
     "output_type": "stream",
     "text": [
      "True\n"
     ]
    }
   ],
   "source": [
    "##Solution Here:\n",
    "tuple1 = (45, 45, 45, 45)\n",
    "x = set(tuple1)\n",
    "if len (x)==1:\n",
    "    print(\"True\")\n",
    "else:\n",
    "    print(\"False\")"
   ]
  },
  {
   "cell_type": "code",
   "execution_count": null,
   "id": "831369c6",
   "metadata": {},
   "outputs": [],
   "source": []
  }
 ],
 "metadata": {
  "kernelspec": {
   "display_name": "Python 3 (ipykernel)",
   "language": "python",
   "name": "python3"
  },
  "language_info": {
   "codemirror_mode": {
    "name": "ipython",
    "version": 3
   },
   "file_extension": ".py",
   "mimetype": "text/x-python",
   "name": "python",
   "nbconvert_exporter": "python",
   "pygments_lexer": "ipython3",
   "version": "3.9.13"
  }
 },
 "nbformat": 4,
 "nbformat_minor": 5
}
