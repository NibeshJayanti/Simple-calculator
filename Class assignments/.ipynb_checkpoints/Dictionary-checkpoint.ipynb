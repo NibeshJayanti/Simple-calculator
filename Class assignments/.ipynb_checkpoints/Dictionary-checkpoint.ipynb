{
 "cells": [
  {
   "cell_type": "markdown",
   "id": "c04b4587",
   "metadata": {},
   "source": [
    "# Dictionary in Python"
   ]
  },
  {
   "cell_type": "code",
   "execution_count": null,
   "id": "c4a7032d",
   "metadata": {},
   "outputs": [],
   "source": []
  },
  {
   "cell_type": "markdown",
   "id": "dfb9dbe2",
   "metadata": {},
   "source": [
    "# Dictionary methods in python"
   ]
  },
  {
   "cell_type": "code",
   "execution_count": null,
   "id": "dbd57373",
   "metadata": {},
   "outputs": [],
   "source": []
  },
  {
   "cell_type": "markdown",
   "id": "2e04a365",
   "metadata": {},
   "source": [
    "# Accessing Dictionary using For Loop"
   ]
  },
  {
   "cell_type": "code",
   "execution_count": null,
   "id": "d3b13dba",
   "metadata": {},
   "outputs": [],
   "source": []
  },
  {
   "cell_type": "markdown",
   "id": "defad942",
   "metadata": {},
   "source": [
    "# Getting Dictionary from User Input"
   ]
  },
  {
   "cell_type": "code",
   "execution_count": null,
   "id": "9c3a8c3d",
   "metadata": {},
   "outputs": [],
   "source": []
  },
  {
   "cell_type": "markdown",
   "id": "e10e23f4",
   "metadata": {},
   "source": [
    "# Checking Dictionary Elements"
   ]
  },
  {
   "cell_type": "code",
   "execution_count": null,
   "id": "9ab02188",
   "metadata": {},
   "outputs": [],
   "source": []
  },
  {
   "cell_type": "markdown",
   "id": "1b6492cb",
   "metadata": {},
   "source": [
    "# Nested Dictionary "
   ]
  },
  {
   "cell_type": "code",
   "execution_count": null,
   "id": "81a39c2f",
   "metadata": {},
   "outputs": [],
   "source": []
  }
 ],
 "metadata": {
  "kernelspec": {
   "display_name": "Python 3 (ipykernel)",
   "language": "python",
   "name": "python3"
  },
  "language_info": {
   "codemirror_mode": {
    "name": "ipython",
    "version": 3
   },
   "file_extension": ".py",
   "mimetype": "text/x-python",
   "name": "python",
   "nbconvert_exporter": "python",
   "pygments_lexer": "ipython3",
   "version": "3.11.2"
  }
 },
 "nbformat": 4,
 "nbformat_minor": 5
}
