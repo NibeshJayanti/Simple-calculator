{
 "cells": [
  {
   "cell_type": "markdown",
   "id": "9a4ef393",
   "metadata": {},
   "source": [
    "## Remove empty strings from a list of strings"
   ]
  },
  {
   "cell_type": "markdown",
   "id": "644ecc0f",
   "metadata": {},
   "source": [
    "str_list = [\"Emma\", \"Jon\", \"\", \"Kelly\", None, \"Eric\", \"\"]\n",
    "\n",
    "Expected Output:\n",
    "\n",
    "Original list of sting\n",
    "\n",
    "['Emma', 'Jon', '', 'Kelly', None, 'Eric', '']\n",
    "\n",
    "After removing empty strings\n",
    "\n",
    "['Emma', 'Jon', 'Kelly', None, 'Eric']"
   ]
  },
  {
   "cell_type": "code",
   "execution_count": 17,
   "id": "594b9dd1",
   "metadata": {},
   "outputs": [
    {
     "ename": "NameError",
     "evalue": "name 'Emma' is not defined",
     "output_type": "error",
     "traceback": [
      "\u001b[1;31m---------------------------------------------------------------------------\u001b[0m",
      "\u001b[1;31mNameError\u001b[0m                                 Traceback (most recent call last)",
      "\u001b[1;32m~\\AppData\\Local\\Temp\\ipykernel_4092\\773337635.py\u001b[0m in \u001b[0;36m<module>\u001b[1;34m\u001b[0m\n\u001b[0;32m      1\u001b[0m \u001b[1;31m#Solution Here:\u001b[0m\u001b[1;33m\u001b[0m\u001b[1;33m\u001b[0m\u001b[0m\n\u001b[1;32m----> 2\u001b[1;33m \u001b[0ma\u001b[0m \u001b[1;33m=\u001b[0m\u001b[0mstr\u001b[0m\u001b[1;33m(\u001b[0m\u001b[1;33m[\u001b[0m\u001b[0mEmma\u001b[0m\u001b[1;33m,\u001b[0m\u001b[0mjohn\u001b[0m\u001b[1;33m,\u001b[0m\u001b[0mKelly\u001b[0m\u001b[1;33m,\u001b[0m\u001b[1;32mNone\u001b[0m\u001b[1;33m,\u001b[0m\u001b[0mEric\u001b[0m\u001b[1;33m]\u001b[0m\u001b[1;33m)\u001b[0m\u001b[1;33m\u001b[0m\u001b[1;33m\u001b[0m\u001b[0m\n\u001b[0m\u001b[0;32m      3\u001b[0m \u001b[1;32mdel\u001b[0m\u001b[1;33m(\u001b[0m\u001b[0ma\u001b[0m\u001b[1;33m,\u001b[0m \u001b[1;33m)\u001b[0m\u001b[1;33m\u001b[0m\u001b[1;33m\u001b[0m\u001b[0m\n\u001b[0;32m      4\u001b[0m \u001b[0mprint\u001b[0m\u001b[1;33m(\u001b[0m\u001b[0ma\u001b[0m \u001b[1;33m)\u001b[0m\u001b[1;33m\u001b[0m\u001b[1;33m\u001b[0m\u001b[0m\n",
      "\u001b[1;31mNameError\u001b[0m: name 'Emma' is not defined"
     ]
    }
   ],
   "source": [
    "#Solution Here:\n",
    "a =str([Emma,john,Kelly,None,Eric])\n",
    "del(a, )\n",
    "print(a )\n"
   ]
  },
  {
   "cell_type": "markdown",
   "id": "c4a018a2",
   "metadata": {},
   "source": [
    "## Reverse a given list in Python"
   ]
  },
  {
   "cell_type": "markdown",
   "id": "042b88a4",
   "metadata": {},
   "source": [
    "aLsit = [100, 200, 300, 400, 500]\n",
    "\n",
    "Expected output:\n",
    "\n",
    "[500, 400, 300, 200, 100]"
   ]
  },
  {
   "cell_type": "code",
   "execution_count": 19,
   "id": "7331e822",
   "metadata": {},
   "outputs": [
    {
     "ename": "NameError",
     "evalue": "name 'Reverse' is not defined",
     "output_type": "error",
     "traceback": [
      "\u001b[1;31m---------------------------------------------------------------------------\u001b[0m",
      "\u001b[1;31mNameError\u001b[0m                                 Traceback (most recent call last)",
      "\u001b[1;32m~\\AppData\\Local\\Temp\\ipykernel_4092\\3229491618.py\u001b[0m in \u001b[0;36m<module>\u001b[1;34m\u001b[0m\n\u001b[0;32m      1\u001b[0m \u001b[1;31m#Solution Here:\u001b[0m\u001b[1;33m\u001b[0m\u001b[1;33m\u001b[0m\u001b[0m\n\u001b[0;32m      2\u001b[0m \u001b[0maList\u001b[0m \u001b[1;33m=\u001b[0m \u001b[1;33m[\u001b[0m\u001b[1;36m100\u001b[0m\u001b[1;33m,\u001b[0m\u001b[1;36m200\u001b[0m\u001b[1;33m,\u001b[0m\u001b[1;36m300\u001b[0m\u001b[1;33m,\u001b[0m\u001b[1;36m400\u001b[0m\u001b[1;33m,\u001b[0m\u001b[1;36m500\u001b[0m\u001b[1;33m]\u001b[0m\u001b[1;33m\u001b[0m\u001b[1;33m\u001b[0m\u001b[0m\n\u001b[1;32m----> 3\u001b[1;33m \u001b[0mReverse\u001b[0m\u001b[1;33m(\u001b[0m\u001b[0maList\u001b[0m\u001b[1;33m)\u001b[0m\u001b[1;33m\u001b[0m\u001b[1;33m\u001b[0m\u001b[0m\n\u001b[0m",
      "\u001b[1;31mNameError\u001b[0m: name 'Reverse' is not defined"
     ]
    }
   ],
   "source": [
    "#Solution Here:\n",
    "aList = [100,200,300,400,500]\n"
   ]
  },
  {
   "cell_type": "markdown",
   "id": "11b5ca1f",
   "metadata": {},
   "source": [
    "## Given a Python list of numbers. Turn every item of a list into its square"
   ]
  },
  {
   "cell_type": "markdown",
   "id": "4b581312",
   "metadata": {},
   "source": [
    "Given:\n",
    "\n",
    "aList = [1, 2, 3, 4, 5, 6, 7]\n",
    "\n",
    "Expected output:\n",
    "\n",
    "[1, 4, 9, 16, 25, 36, 49]"
   ]
  },
  {
   "cell_type": "code",
   "execution_count": 3,
   "id": "fab4f334",
   "metadata": {},
   "outputs": [],
   "source": [
    "#Solution Here:"
   ]
  },
  {
   "cell_type": "markdown",
   "id": "fd6533e8",
   "metadata": {},
   "source": [
    "## Given a Python list, find value 20 in the list, and if it is present, replace it with 200. Only update the first occurrence of a value"
   ]
  },
  {
   "cell_type": "markdown",
   "id": "b568f7c0",
   "metadata": {},
   "source": [
    "list1 = [5, 10, 15, 20, 25, 50, 20]\n",
    "\n",
    "Expected output:\n",
    "\n",
    "list1 = [5, 10, 15, 200, 25, 50, 20]"
   ]
  },
  {
   "cell_type": "code",
   "execution_count": 2,
   "id": "137c2bcb",
   "metadata": {},
   "outputs": [
    {
     "name": "stdout",
     "output_type": "stream",
     "text": [
      "[5, 10, 15, 200, 25, 50, 20]\n"
     ]
    }
   ],
   "source": [
    "#Solution Here:\n",
    "list1 = [5, 10, 15, 20, 25, 50, 20]\n",
    "if 20 in list1:\n",
    "    i = list1.index(20)\n",
    "    list1[i] = 200\n",
    "print(list1)"
   ]
  },
  {
   "cell_type": "markdown",
   "id": "06c9f593",
   "metadata": {},
   "source": [
    "## Given a Python list, remove all occurrence of 20 from the list"
   ]
  },
  {
   "cell_type": "markdown",
   "id": "018db922",
   "metadata": {},
   "source": [
    "list1 = [5, 20, 15, 20, 25, 50, 20]\n",
    "\n",
    "Expected output:\n",
    "\n",
    "[5, 15, 25, 50]"
   ]
  },
  {
   "cell_type": "code",
   "execution_count": 5,
   "id": "49728197",
   "metadata": {},
   "outputs": [],
   "source": [
    "#Solution Here:"
   ]
  },
  {
   "cell_type": "markdown",
   "id": "0c756d4d",
   "metadata": {},
   "source": [
    "## Assign the first element of the list to answer_1 on line 2.\n",
    "\n",
    "lst=[11, 100, 99, 1000, 999]\n",
    "\n",
    "answer_1=\n",
    "\n",
    "print(answer_1)"
   ]
  },
  {
   "cell_type": "code",
   "execution_count": 6,
   "id": "6f5afb44",
   "metadata": {},
   "outputs": [],
   "source": [
    "#Solution Here:"
   ]
  },
  {
   "cell_type": "markdown",
   "id": "6a82c7ba",
   "metadata": {},
   "source": [
    "## Print the second element directly inside print function. You should get 100.\n",
    "\n",
    "lst = [11,100,101,999,1001]\n",
    "\n",
    "print()"
   ]
  },
  {
   "cell_type": "code",
   "execution_count": 7,
   "id": "4b34ff71",
   "metadata": {},
   "outputs": [],
   "source": [
    "#Solution Here:"
   ]
  },
  {
   "cell_type": "markdown",
   "id": "9cf3a794",
   "metadata": {},
   "source": [
    "## Add the string \"pajamas\" to the list.\n",
    "\n",
    "gift_list=['socks', '4K drone', 'wine', 'jam']"
   ]
  },
  {
   "cell_type": "code",
   "execution_count": 8,
   "id": "9038040b",
   "metadata": {},
   "outputs": [],
   "source": [
    "#Solution Here:"
   ]
  },
  {
   "cell_type": "markdown",
   "id": "9bd59db8",
   "metadata": {},
   "source": [
    "## Insert \"slippers\" to index 3 of gift_list.\n",
    "\n",
    "gift_list=['socks', '4K drone', 'wine', 'jam']"
   ]
  },
  {
   "cell_type": "code",
   "execution_count": 9,
   "id": "5a744731",
   "metadata": {},
   "outputs": [],
   "source": [
    "#Solution Here:"
   ]
  },
  {
   "cell_type": "markdown",
   "id": "72574245",
   "metadata": {},
   "source": [
    "## Assign the index no of 8679 to the variable answer_1.\n",
    "\n",
    "lst = [55,777,54,6,76,101,1,2,8679,123,99]\n",
    "\n",
    "answer_1="
   ]
  },
  {
   "cell_type": "code",
   "execution_count": 10,
   "id": "00212a03",
   "metadata": {},
   "outputs": [],
   "source": [
    "#Solution Here:"
   ]
  },
  {
   "cell_type": "markdown",
   "id": "074062f9",
   "metadata": {},
   "source": [
    "## Remove the last element of the list.\n",
    "\n",
    "lst = [55,777,54,6,76,101,1,2,8679,123,99]"
   ]
  },
  {
   "cell_type": "code",
   "execution_count": 11,
   "id": "035561c3",
   "metadata": {},
   "outputs": [],
   "source": [
    "#Solution Here:"
   ]
  },
  {
   "cell_type": "markdown",
   "id": "46b690fc",
   "metadata": {},
   "source": [
    "## Reverse the list using reverse method.\n",
    "lst = [55,777,54,6,76,101,1,2,8679,123,99]"
   ]
  },
  {
   "cell_type": "code",
   "execution_count": 12,
   "id": "b304354a",
   "metadata": {},
   "outputs": [],
   "source": [
    "#Solution Here:"
   ]
  },
  {
   "cell_type": "markdown",
   "id": "07a986ac",
   "metadata": {},
   "source": [
    "## Count how many times 6 occur in the list.\n",
    "lst = [6,777,54,6,76,101,6,2,8679,123,66]"
   ]
  },
  {
   "cell_type": "code",
   "execution_count": 13,
   "id": "0ababb00",
   "metadata": {},
   "outputs": [],
   "source": [
    "#Solution Here:"
   ]
  },
  {
   "cell_type": "markdown",
   "id": "ca4735a5",
   "metadata": {},
   "source": [
    "## What is the sum of all the numbers in the list?\n",
    "lst = [6,777,54,6,76,101,6,2,8679,123,66]\n",
    "\n",
    "use loop(for or while)"
   ]
  },
  {
   "cell_type": "code",
   "execution_count": 14,
   "id": "4fabcc0e",
   "metadata": {},
   "outputs": [],
   "source": [
    "#Solution Here:"
   ]
  },
  {
   "cell_type": "markdown",
   "id": "37bf3bed",
   "metadata": {},
   "source": [
    "## What is the greatest number in the list?\n",
    "lst = [6,777,54,6,76,101,6,2,8679,123,66]\n",
    "\n",
    "use loop(for or while)"
   ]
  },
  {
   "cell_type": "code",
   "execution_count": 3,
   "id": "33bb8db5",
   "metadata": {},
   "outputs": [
    {
     "data": {
      "text/plain": [
       "8679"
      ]
     },
     "execution_count": 3,
     "metadata": {},
     "output_type": "execute_result"
    }
   ],
   "source": [
    "#Solution Here:\n",
    "lst = [6,777,54,6,76,101,6,2,8679,123,66]\n",
    "max(lst)"
   ]
  },
  {
   "cell_type": "markdown",
   "id": "5bc0d4a2",
   "metadata": {},
   "source": [
    "## What is the lowest number in the list?\n",
    "lst = [6,777,54,6,76,101,6,2,8679,123,66]\n",
    "\n",
    "use loop(for or while)"
   ]
  },
  {
   "cell_type": "code",
   "execution_count": 16,
   "id": "78535c93",
   "metadata": {},
   "outputs": [],
   "source": [
    "#Solution Here:"
   ]
  },
  {
   "cell_type": "markdown",
   "id": "34b8b108",
   "metadata": {},
   "source": [
    "## lst = [12,15,38,59,64,72,46,28,43,19,44]\n",
    "Create two new list containing odd and even numbers from above list.\n",
    "\n",
    "use loop(for or while)"
   ]
  },
  {
   "cell_type": "code",
   "execution_count": 17,
   "id": "87d256ca",
   "metadata": {},
   "outputs": [],
   "source": [
    "#Solution Here:\n"
   ]
  },
  {
   "cell_type": "markdown",
   "id": "ada4c937",
   "metadata": {},
   "source": [
    "## rhymes = [['cat', 'hat', 'fat'], ['mouse', 'house', 'louse'], ['be', 'see', 'key', 'he']]\n",
    "\n",
    "Make a new list from above list with the elements which ends with 'e'.\n",
    "\n",
    "Expected outcome = ['mouse', 'house', 'louse', 'be', 'see', 'he']"
   ]
  },
  {
   "cell_type": "code",
   "execution_count": 18,
   "id": "ab9ce67e",
   "metadata": {},
   "outputs": [],
   "source": [
    "#Solution Here:"
   ]
  },
  {
   "cell_type": "markdown",
   "id": "0e6deddb",
   "metadata": {},
   "source": [
    "## [[2, 6], [3, 10], [15,5], [23,41], [1, 8, 15, 22, 29], [14,45,28]]\n",
    "Create a new list which contains sum of each children list from above.\n",
    "\n",
    "Expected outcome = [8,13,20,64,75,87]"
   ]
  },
  {
   "cell_type": "code",
   "execution_count": 19,
   "id": "6c38e747",
   "metadata": {},
   "outputs": [],
   "source": [
    "#Solution Here:"
   ]
  },
  {
   "cell_type": "markdown",
   "id": "b6bcb864",
   "metadata": {},
   "source": [
    "## alist = [ [4, [True, False], 6, 8], [888, 999] ]\n",
    "Use a for loop and print out the index value for each element in above list.\n",
    "\n",
    "Expected outcome:\n",
    "\n",
    "4 = alist[0][0]\n",
    "\n",
    "True = alist[0][1][0]\n",
    "\n",
    "False = alist[0][1][1]\n",
    "\n",
    "6 =alist[0][2]\n",
    "\n",
    "8=alist[0][3]\n",
    "\n",
    "888=alist[1][0]\n",
    "\n",
    "999=alist[1][1]"
   ]
  },
  {
   "cell_type": "code",
   "execution_count": 14,
   "id": "fe57bd7b",
   "metadata": {},
   "outputs": [
    {
     "name": "stdout",
     "output_type": "stream",
     "text": [
      "4 = alist[0][0]\n",
      "True = alist[0][1[0]]\n",
      "False = alist[0][1[1]]\n",
      "6 = alist[0][2]\n",
      "8 = alist[0][3]\n",
      "888 = alist[1][0]\n",
      "999 = alist[1][1]\n"
     ]
    }
   ],
   "source": [
    "#Solution Here:\n",
    "alist = [[4, [True, False], 6, 8], [888, 999]]\n",
    "for i,level1 in enumerate(alist):\n",
    "    for j, level2 in enumerate(level1):\n",
    "        if type(level2) == list:\n",
    "            for k,level3 in enumerate(level2):\n",
    "                print(level3, \"=\", f\"alist[{i}][{j}[{k}]]\")\n",
    "        else:\n",
    "            print(level2, \"=\", f\"alist[{i}][{j}]\")"
   ]
  },
  {
   "cell_type": "markdown",
   "id": "de2cc105",
   "metadata": {},
   "source": [
    "## Add item 7000 after 6000 in the following Python List.\n",
    "list1 = [10, 20, [300, 400, [5000, 6000], 500], 30, 40]\n",
    "\n",
    "Expected outcome = [10, 20, [300, 400, [5000, 6000, 7000], 500], 30, 40]"
   ]
  },
  {
   "cell_type": "code",
   "execution_count": 21,
   "id": "62872bfe",
   "metadata": {},
   "outputs": [],
   "source": [
    "#Solution Here:\n"
   ]
  },
  {
   "cell_type": "markdown",
   "id": "56483006",
   "metadata": {},
   "source": [
    "## Given a nested list extend it by adding the sub list [\"h\", \"i\", \"j\"] in such a way that it will look like the following list.\n",
    "list1 = [\"a\", \"b\", [\"c\", [\"d\", \"e\", [\"f\", \"g\"], \"k\"], \"l\"], \"m\", \"n\"]\n",
    "\n",
    "Expected outcome = ['a', 'b', ['c', ['d', 'e', ['f', 'g', 'h', 'i', 'j'], 'k'], 'l'], 'm', 'n']"
   ]
  },
  {
   "cell_type": "code",
   "execution_count": 22,
   "id": "34ff91a1",
   "metadata": {},
   "outputs": [],
   "source": [
    "#Solution Here:"
   ]
  },
  {
   "cell_type": "markdown",
   "id": "aca24317",
   "metadata": {},
   "source": [
    "## Given a Python list, find value 20 in the list, and if it is present, replace it with 200. Only update the first occurrence of a value.\n",
    "list1 = [5, 10, 15, 20, 25, 50, 20]\n",
    "\n",
    "Expected outcome = list1 = [5, 10, 15, 200, 25, 50, 20]"
   ]
  },
  {
   "cell_type": "code",
   "execution_count": 23,
   "id": "0a15e1ff",
   "metadata": {},
   "outputs": [],
   "source": [
    "#Solution Here:"
   ]
  },
  {
   "cell_type": "markdown",
   "id": "1fd308e1",
   "metadata": {},
   "source": [
    "## Write a Python program to get the difference between the two lists and save the difference in new list.\n",
    "lst1 = [12,35,75,86,42,91]\n",
    "\n",
    "lst2 = [26,15,48,59,73,46]\n",
    "\n",
    "Use for loop.\n",
    "\n",
    "Expected outcome : \n",
    "\n",
    "difference = [-14,20,27,27,-31,45 ]"
   ]
  },
  {
   "cell_type": "code",
   "execution_count": 24,
   "id": "3c494feb",
   "metadata": {},
   "outputs": [],
   "source": [
    "#Solution Here:"
   ]
  },
  {
   "cell_type": "markdown",
   "id": "5e0dca85",
   "metadata": {},
   "source": [
    "## Write a Python program to convert a list of characters into a string.\n",
    "lst = ['S', 'm', 'a', 'r', 't', 'p', 'h', 'o', 'n', 'e']\n",
    "\n",
    "Expected outcome :\n",
    "\n",
    "s  = \"Smartphone\""
   ]
  },
  {
   "cell_type": "code",
   "execution_count": 25,
   "id": "5d397d72",
   "metadata": {},
   "outputs": [],
   "source": [
    "#Solution Here:"
   ]
  },
  {
   "cell_type": "markdown",
   "id": "9e2c1884",
   "metadata": {},
   "source": [
    "## Write a Python program to flatten a shallow list.\n",
    "original_list = [[2,4,3],[1,5,6], [9], [7,9,0], 15,59,75,53]\n",
    "\n",
    "Expected outcome :\n",
    "\n",
    "output =  [2,4,3,1,5,6, 9, 7,9,0, 15,59,75,53]"
   ]
  },
  {
   "cell_type": "code",
   "execution_count": 26,
   "id": "67b1adf0",
   "metadata": {},
   "outputs": [],
   "source": [
    "#Solution Here:"
   ]
  },
  {
   "cell_type": "markdown",
   "id": "bd747454",
   "metadata": {},
   "source": [
    "## Write a Python program to append a list to the second list.\n",
    "list1 = [\"NextSTEP\", \"InfoTech\", \"Training\", \"Center\"]\n",
    "list2 = [\"Next\", \"Skill\", \"That\", \"Edify\", \"Passion\"]\n",
    "Also create another list with len of each words.\n",
    "\n",
    "Expected outcome :\n",
    "\n",
    "combine = [\"NextSTEP\", \"InfoTech\", \"Training\", \"Center\", \"Next\", \"Skill\", \"That\", \"Edify\", \"Passion\"]\n",
    "\n",
    "counter = [8,8,8,5,4,4,4,5,7]"
   ]
  },
  {
   "cell_type": "code",
   "execution_count": 27,
   "id": "81567181",
   "metadata": {},
   "outputs": [],
   "source": [
    "#Solution Here:"
   ]
  }
 ],
 "metadata": {
  "kernelspec": {
   "display_name": "Python 3 (ipykernel)",
   "language": "python",
   "name": "python3"
  },
  "language_info": {
   "codemirror_mode": {
    "name": "ipython",
    "version": 3
   },
   "file_extension": ".py",
   "mimetype": "text/x-python",
   "name": "python",
   "nbconvert_exporter": "python",
   "pygments_lexer": "ipython3",
   "version": "3.9.13"
  }
 },
 "nbformat": 4,
 "nbformat_minor": 5
}
