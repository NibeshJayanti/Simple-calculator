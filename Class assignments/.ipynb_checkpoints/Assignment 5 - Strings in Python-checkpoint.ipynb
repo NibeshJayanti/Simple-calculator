{
 "cells": [
  {
   "cell_type": "markdown",
   "id": "7a7021d7",
   "metadata": {},
   "source": [
    "## Write a Python program to calculate the length of a string"
   ]
  },
  {
   "cell_type": "code",
   "execution_count": 1,
   "id": "4451730a",
   "metadata": {},
   "outputs": [],
   "source": [
    "#Solution here:"
   ]
  },
  {
   "cell_type": "markdown",
   "id": "b688a34e",
   "metadata": {},
   "source": [
    "## Given a string of odd length 7, return a new string made of the middle three characters of a given String"
   ]
  },
  {
   "cell_type": "code",
   "execution_count": 2,
   "id": "466ba636",
   "metadata": {},
   "outputs": [],
   "source": [
    "#Solution here:"
   ]
  },
  {
   "cell_type": "markdown",
   "id": "99936b44",
   "metadata": {},
   "source": [
    "## Given two strings, s1 and s2, create a new string by appending s2 in the middle of s1"
   ]
  },
  {
   "cell_type": "markdown",
   "id": "6e8d7d39",
   "metadata": {},
   "source": [
    "s1 = \"Ault\"\n",
    "\n",
    "s2 = \"Kelly\"\n",
    "\n",
    "Expected Output:\n",
    "\n",
    "AuKellylt"
   ]
  },
  {
   "cell_type": "code",
   "execution_count": 1,
   "id": "6bb9d1c5",
   "metadata": {},
   "outputs": [
    {
     "name": "stdout",
     "output_type": "stream",
     "text": [
      "AuKellylt\n"
     ]
    }
   ],
   "source": [
    "#Solution here:\n",
    "s1 = \"Ault\"\n",
    "s2 = \"Kelly\"\n",
    "print(s1[:2] + s2 + s1[2:])"
   ]
  },
  {
   "cell_type": "markdown",
   "id": "e8f2d3e1",
   "metadata": {},
   "source": [
    "## Given two strings, s1, and s2 return a new string made of the first, middle, and last characters each input string"
   ]
  },
  {
   "cell_type": "markdown",
   "id": "b0f3e657",
   "metadata": {},
   "source": [
    "Given:\n",
    "\n",
    "s1 = \"America\"\n",
    "\n",
    "s2 = \"Japan\"\n",
    "\n",
    "Expected Output:\n",
    "\n",
    "AJrpan"
   ]
  },
  {
   "cell_type": "code",
   "execution_count": 2,
   "id": "19af551c",
   "metadata": {},
   "outputs": [
    {
     "data": {
      "text/plain": [
       "'AJrpan'"
      ]
     },
     "execution_count": 2,
     "metadata": {},
     "output_type": "execute_result"
    }
   ],
   "source": [
    "#Solution here:\n",
    "s1 = \"America\"\n",
    "s2 = \"Japan\"\n",
    "s1[0]+s2[0]+s1[3]+s2[2]+s1[-1]+s2[-1]"
   ]
  },
  {
   "cell_type": "markdown",
   "id": "2afadbe3",
   "metadata": {},
   "source": [
    "## Arrange string characters such that lowercase letters should come first"
   ]
  },
  {
   "cell_type": "markdown",
   "id": "ad2a8a42",
   "metadata": {},
   "source": [
    "Given:\n",
    "\n",
    "str1 = PyNaTive\n",
    "\n",
    "Expected Output:\n",
    "\n",
    "yaivePNT"
   ]
  },
  {
   "cell_type": "code",
   "execution_count": 5,
   "id": "06a1ccbd",
   "metadata": {},
   "outputs": [],
   "source": [
    "#Solution here:"
   ]
  },
  {
   "cell_type": "markdown",
   "id": "22afb513",
   "metadata": {},
   "source": [
    "## Count all lower case, upper case, digits, and special symbols from a given string"
   ]
  },
  {
   "cell_type": "markdown",
   "id": "2af3e13d",
   "metadata": {},
   "source": [
    "str1 = \"P@#yn26at^&i5ve\"\n",
    "\n",
    "Expected Outcome:\n",
    "\n",
    "Total counts of uppercase, lowercase, digits,and symbols \n",
    "\n",
    "Uppercase =1\n",
    "\n",
    "Lowercase = 7\n",
    "\n",
    "Digits = 3 \n",
    "\n",
    "Symbol = 4"
   ]
  },
  {
   "cell_type": "code",
   "execution_count": 4,
   "id": "21af889c",
   "metadata": {},
   "outputs": [
    {
     "name": "stdout",
     "output_type": "stream",
     "text": [
      "1 7 3 4\n"
     ]
    }
   ],
   "source": [
    "#Solution here:\n",
    "str1 = \"P@#yn26at^&i5ve\"\n",
    "uppercase = 0\n",
    "lowercase = 0\n",
    "digit = 0\n",
    "special = 0\n",
    "for s in str1:\n",
    "    if s.isupper():\n",
    "        uppercase += 1\n",
    "    elif s.islower():\n",
    "        lowercase += 1\n",
    "    elif s.isdigit():\n",
    "        digit += 1\n",
    "    else:\n",
    "        special += 1\n",
    "print(uppercase, lowercase, digit, special)"
   ]
  },
  {
   "cell_type": "markdown",
   "id": "703401ef",
   "metadata": {},
   "source": [
    "## Given two strings, s1 and s2, create a mixed String using the following rules"
   ]
  },
  {
   "cell_type": "markdown",
   "id": "1bdacd93",
   "metadata": {},
   "source": [
    "Note: create a third-string made of the first char of s1 then the last char of s2, Next, the second char of s1 and second last char of s2, and so on. Any leftover chars go at the end of the result.\n",
    "\n",
    "Given:\n",
    "    \n",
    "s1 = \"Abc\"\n",
    "\n",
    "s2 = \"Xyz\"\n",
    "\n",
    "Expected Output:\n",
    "\n",
    "AzbycX"
   ]
  },
  {
   "cell_type": "code",
   "execution_count": 7,
   "id": "6266fc71",
   "metadata": {},
   "outputs": [],
   "source": [
    "#Solution here:"
   ]
  },
  {
   "cell_type": "markdown",
   "id": "779c5419",
   "metadata": {},
   "source": [
    "## Find all occurrences of “USA” in a given string ignoring the case"
   ]
  },
  {
   "cell_type": "markdown",
   "id": "9396d075",
   "metadata": {},
   "source": [
    "Given:\n",
    "\n",
    "str1 = \"Welcome to USA. usa awesome, isn't it?\"\n",
    "\n",
    "Expected Outcome:\n",
    "\n",
    "The USA count is: 2"
   ]
  },
  {
   "cell_type": "code",
   "execution_count": 8,
   "id": "b6309a93",
   "metadata": {},
   "outputs": [],
   "source": [
    "#Solution here:"
   ]
  },
  {
   "cell_type": "markdown",
   "id": "1c681c53",
   "metadata": {},
   "source": [
    "## Exercise 9: Given a string, return the sum and average of the digits that appear in the string, ignoring all other characters\n"
   ]
  },
  {
   "cell_type": "markdown",
   "id": "89d1c768",
   "metadata": {},
   "source": [
    "Given:\n",
    "\n",
    "str1 = \"English = 78 Science = 83 Math = 68 History = 65\"\n",
    "\n",
    "Expected Outcome:\n",
    "\n",
    "sum is 294\n",
    "\n",
    "average is 73.5"
   ]
  },
  {
   "cell_type": "code",
   "execution_count": 8,
   "id": "8afbb495",
   "metadata": {},
   "outputs": [
    {
     "name": "stdout",
     "output_type": "stream",
     "text": [
      "[78, 83, 68, 65]\n"
     ]
    }
   ],
   "source": [
    "#Solution here:\n",
    "str1 = \"English = 78 Science = 83 Math = 68 History = 65\"\n",
    "scores = []\n",
    "for s in str1.split(\" \"):\n",
    "    if s.isdigit():\n",
    "        scores.append(int(s))\n",
    "print(scores)"
   ]
  },
  {
   "cell_type": "code",
   "execution_count": 10,
   "id": "473be5c0",
   "metadata": {},
   "outputs": [
    {
     "data": {
      "text/plain": [
       "73.5"
      ]
     },
     "execution_count": 10,
     "metadata": {},
     "output_type": "execute_result"
    }
   ],
   "source": [
    "sum(scores)/len(scores)"
   ]
  },
  {
   "cell_type": "markdown",
   "id": "c4d092e2",
   "metadata": {},
   "source": [
    "## Reverse a given string using for loop."
   ]
  },
  {
   "cell_type": "markdown",
   "id": "dac60312",
   "metadata": {},
   "source": [
    "Given:\n",
    "\n",
    "str1 = \"PYnative\"\n",
    "\n",
    "Expected Output:\n",
    "\n",
    "evitanYP"
   ]
  },
  {
   "cell_type": "code",
   "execution_count": 10,
   "id": "e177fc85",
   "metadata": {},
   "outputs": [],
   "source": [
    "#Solution here:"
   ]
  },
  {
   "cell_type": "markdown",
   "id": "8c378586",
   "metadata": {},
   "source": [
    "## Split a given string on hyphens into several substrings and display each substring"
   ]
  },
  {
   "cell_type": "markdown",
   "id": "e2732e8c",
   "metadata": {},
   "source": [
    "Given:\n",
    "\n",
    "str1 = Emma-is-a-data-scientist\n",
    "\n",
    "Expected Output:\n",
    "\n",
    "Displaying each substring\n",
    "\n",
    "Emma\n",
    "\n",
    "is\n",
    "\n",
    "a\n",
    "\n",
    "data\n",
    "\n",
    "scientist"
   ]
  },
  {
   "cell_type": "code",
   "execution_count": 11,
   "id": "4c6e714d",
   "metadata": {},
   "outputs": [],
   "source": [
    "#Solution here:"
   ]
  },
  {
   "cell_type": "markdown",
   "id": "236aa3e2",
   "metadata": {},
   "source": [
    "## Remove all the characters other than integers from a string"
   ]
  },
  {
   "cell_type": "markdown",
   "id": "f5754226",
   "metadata": {},
   "source": [
    "Given:\n",
    "\n",
    "str1 = 'I am 25 years and 10 months old'\n",
    "\n",
    "Expected Output:\n",
    "\n",
    "2510"
   ]
  },
  {
   "cell_type": "code",
   "execution_count": 12,
   "id": "54831be1",
   "metadata": {},
   "outputs": [],
   "source": [
    "#Solution here:"
   ]
  },
  {
   "cell_type": "markdown",
   "id": "121ae1f2",
   "metadata": {},
   "source": [
    "## Find words with both alphabets and numbers"
   ]
  },
  {
   "cell_type": "markdown",
   "id": "8f5765fa",
   "metadata": {},
   "source": [
    "Given:\n",
    "\n",
    "str1 = \"Emma25 is Data scientist50 and AI Expert\"\n",
    "\n",
    "Expected Output:\n",
    "\n",
    "Emma25\n",
    "\n",
    "scientist50"
   ]
  },
  {
   "cell_type": "code",
   "execution_count": 13,
   "id": "99dcb496",
   "metadata": {},
   "outputs": [],
   "source": [
    "#Solution here:"
   ]
  },
  {
   "cell_type": "code",
   "execution_count": 11,
   "id": "3151cefd",
   "metadata": {},
   "outputs": [
    {
     "data": {
      "text/plain": [
       "'It was ___(FOOD)___ day at school, and ___(NAME)___ was super ___(ADJECTIVE)___ for lunch. But when she went outside to eat, a ___(NOUN)___ stole her ___(FOOD)___! ___(NAME)___ chased the ___(NOUN)___ all over school. She ___(VERB1)___, ___(VERB2)___, and ___(VERB3)___ through the playground. Then she tripped on her ___(NOUN)___ and the ___(NOUN)___ escaped! Luckily, ___(NAME)___’s friends were willing to share their ___(FOOD)___ with her.'"
      ]
     },
     "execution_count": 11,
     "metadata": {},
     "output_type": "execute_result"
    }
   ],
   "source": [
    "\"It was ___(FOOD)___ day at school, and ___(NAME)___ was super ___(ADJECTIVE)___ for lunch. But when she went outside to eat, a ___(NOUN)___ stole her ___(FOOD)___! ___(NAME)___ chased the ___(NOUN)___ all over school. She ___(VERB1)___, ___(VERB2)___, and ___(VERB3)___ through the playground. Then she tripped on her ___(NOUN)___ and the ___(NOUN)___ escaped! Luckily, ___(NAME)___’s friends were willing to share their ___(FOOD)___ with her.\""
   ]
  },
  {
   "cell_type": "code",
   "execution_count": null,
   "id": "9a70400a",
   "metadata": {},
   "outputs": [],
   "source": [
    "food = input(\"Enter your favorite food: \")\n",
    "name = input(\"Any name? \")\n",
    "str = f\"It was {food}\""
   ]
  },
  {
   "cell_type": "code",
   "execution_count": 14,
   "id": "84115f87",
   "metadata": {},
   "outputs": [
    {
     "name": "stdout",
     "output_type": "stream",
     "text": [
      "Enter new password. It should contain at least 1 upper, 1 lower, 1 number and 1 symbol. And its length should be at least 8.abcd12\n",
      "Password should be have at least 8 characters\n",
      "Enter new password. It should contain at least 1 upper, 1 lower, 1 number and 1 symbol. And its length should be at least 8.abcd1254\n",
      "Enter new password. It should contain at least 1 upper, 1 lower, 1 number and 1 symbol. And its length should be at least 8.abcd$12548\n",
      "Enter new password. It should contain at least 1 upper, 1 lower, 1 number and 1 symbol. And its length should be at least 8.AbcD#$1258\n",
      "Your password is strong.\n"
     ]
    }
   ],
   "source": [
    "upper = 0\n",
    "lower = 0\n",
    "number = 0\n",
    "special = 0\n",
    "\n",
    "while True:\n",
    "    password = input(\"Enter new password. It should contain at least 1 upper, 1 lower, 1 number and 1 symbol. And its length should be at least 8.\")\n",
    "    if len(password)>=8:\n",
    "        for p in password:\n",
    "            if p.isalpha():\n",
    "                if p.isupper():\n",
    "                    upper += 1\n",
    "                else:\n",
    "                    lower += 1\n",
    "            elif p.isdigit():\n",
    "                number += 1\n",
    "            else:\n",
    "                special += 1\n",
    "    else:\n",
    "        print(\"Password should be have at least 8 characters\")\n",
    "    \n",
    "    if upper>=1 and lower>=1 and number>=1 and special>=1:\n",
    "        print(\"Your password is strong.\")\n",
    "        break\n",
    "    "
   ]
  },
  {
   "cell_type": "code",
   "execution_count": null,
   "id": "02964fb2",
   "metadata": {},
   "outputs": [],
   "source": []
  }
 ],
 "metadata": {
  "kernelspec": {
   "display_name": "Python 3 (ipykernel)",
   "language": "python",
   "name": "python3"
  },
  "language_info": {
   "codemirror_mode": {
    "name": "ipython",
    "version": 3
   },
   "file_extension": ".py",
   "mimetype": "text/x-python",
   "name": "python",
   "nbconvert_exporter": "python",
   "pygments_lexer": "ipython3",
   "version": "3.9.13"
  }
 },
 "nbformat": 4,
 "nbformat_minor": 5
}
