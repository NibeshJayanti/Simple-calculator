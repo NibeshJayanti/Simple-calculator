{
 "cells": [
  {
   "cell_type": "markdown",
   "metadata": {},
   "source": [
    "# Enumerate function in Python"
   ]
  },
  {
   "cell_type": "code",
   "execution_count": 1,
   "metadata": {},
   "outputs": [
    {
     "name": "stdout",
     "output_type": "stream",
     "text": [
      "14\n",
      "58\n",
      "26\n",
      "254\n",
      "44\n",
      "87\n"
     ]
    }
   ],
   "source": [
    "#Normal python for loop example:\n",
    "for i in [14,58,26,254,44,87]:\n",
    "    print(i)"
   ]
  },
  {
   "cell_type": "code",
   "execution_count": 6,
   "metadata": {},
   "outputs": [
    {
     "name": "stdout",
     "output_type": "stream",
     "text": [
      "0 14\n",
      "1 58\n",
      "2 26\n",
      "3 254\n",
      "4 44\n",
      "5 87\n"
     ]
    }
   ],
   "source": [
    "#Add index value to keep track of items in list:\n",
    "index = 0\n",
    "for i in [14,58,26,254,44,87]:\n",
    "    print(index, i)\n",
    "    index += 1"
   ]
  },
  {
   "cell_type": "code",
   "execution_count": 15,
   "metadata": {},
   "outputs": [
    {
     "name": "stdout",
     "output_type": "stream",
     "text": [
      "6\n",
      "0 14\n",
      "1 58\n",
      "2 26\n",
      "3 254\n",
      "4 44\n",
      "5 87\n"
     ]
    }
   ],
   "source": [
    "# Keep track of index using range and len\n",
    "lst  = [14,58,26,254,44,87]\n",
    "print(len(lst))\n",
    "for i in range(len(lst)):\n",
    "    print(i, lst[i])"
   ]
  },
  {
   "cell_type": "markdown",
   "metadata": {},
   "source": [
    "### Using enumerate function:"
   ]
  },
  {
   "cell_type": "code",
   "execution_count": 13,
   "metadata": {},
   "outputs": [
    {
     "name": "stdout",
     "output_type": "stream",
     "text": [
      "0 14\n",
      "1 58\n",
      "2 26\n",
      "3 254\n",
      "4 44\n",
      "5 87\n"
     ]
    }
   ],
   "source": [
    "#Example:\n",
    "for s,a in enumerate(lst):\n",
    "    print(s,a)"
   ]
  },
  {
   "cell_type": "markdown",
   "metadata": {},
   "source": [
    "Python’s enumerate() has one additional argument that you can use to control the starting value of the count."
   ]
  },
  {
   "cell_type": "code",
   "execution_count": 14,
   "metadata": {},
   "outputs": [
    {
     "name": "stdout",
     "output_type": "stream",
     "text": [
      "1 14\n",
      "2 58\n",
      "3 26\n",
      "4 254\n",
      "5 44\n",
      "6 87\n"
     ]
    }
   ],
   "source": [
    "#Example:\n",
    "for s,a in enumerate(lst,1):\n",
    "    print(s,a)"
   ]
  },
  {
   "cell_type": "markdown",
   "metadata": {},
   "source": [
    "You should use enumerate() anytime you need to use the count and an item in a loop. \n",
    "<br>Keep in mind that enumerate() increments the count by one on every iteration. "
   ]
  },
  {
   "cell_type": "code",
   "execution_count": 6,
   "metadata": {},
   "outputs": [],
   "source": [
    "# Final Example:\n"
   ]
  },
  {
   "cell_type": "markdown",
   "metadata": {},
   "source": [
    "## Print index value for each letter in \"Apple\"."
   ]
  },
  {
   "cell_type": "code",
   "execution_count": 16,
   "metadata": {},
   "outputs": [
    {
     "name": "stdout",
     "output_type": "stream",
     "text": [
      "0 A\n",
      "1 p\n",
      "2 p\n",
      "3 l\n",
      "4 e\n"
     ]
    }
   ],
   "source": [
    "for i, value in enumerate(\"Apple\"):\n",
    "    print(i, value)"
   ]
  },
  {
   "cell_type": "markdown",
   "metadata": {},
   "source": [
    "## Print index value for each letter in \"Apple\", starting from 1."
   ]
  },
  {
   "cell_type": "code",
   "execution_count": 17,
   "metadata": {},
   "outputs": [
    {
     "name": "stdout",
     "output_type": "stream",
     "text": [
      "1 A\n",
      "2 p\n",
      "3 p\n",
      "4 l\n",
      "5 e\n"
     ]
    }
   ],
   "source": [
    "for i, value in enumerate(\"Apple\",1):\n",
    "    print(i, value)"
   ]
  },
  {
   "cell_type": "markdown",
   "metadata": {},
   "source": [
    "## Print numbers and their squares upto 5."
   ]
  },
  {
   "cell_type": "code",
   "execution_count": 20,
   "metadata": {},
   "outputs": [
    {
     "name": "stdout",
     "output_type": "stream",
     "text": [
      "1 = 1\n",
      "2 = 4\n",
      "3 = 9\n",
      "4 = 16\n",
      "5 = 25\n"
     ]
    }
   ],
   "source": [
    "for i in range(1,6):\n",
    "    print(i,\"=\", i**2)"
   ]
  },
  {
   "cell_type": "code",
   "execution_count": null,
   "metadata": {},
   "outputs": [],
   "source": []
  }
 ],
 "metadata": {
  "kernelspec": {
   "display_name": "Python 3 (ipykernel)",
   "language": "python",
   "name": "python3"
  },
  "language_info": {
   "codemirror_mode": {
    "name": "ipython",
    "version": 3
   },
   "file_extension": ".py",
   "mimetype": "text/x-python",
   "name": "python",
   "nbconvert_exporter": "python",
   "pygments_lexer": "ipython3",
   "version": "3.9.13"
  }
 },
 "nbformat": 4,
 "nbformat_minor": 4
}
