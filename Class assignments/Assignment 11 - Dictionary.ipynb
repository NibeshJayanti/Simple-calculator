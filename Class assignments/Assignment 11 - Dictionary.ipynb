{
 "cells": [
  {
   "cell_type": "markdown",
   "id": "e0e3e098",
   "metadata": {},
   "source": [
    "## Below are the two lists convert it into the dictionary.\n",
    "keys = ['Ten', 'Twenty', 'Thirty']\n",
    "\n",
    "values = [10, 20, 30]\n",
    "\n",
    "Hint: Use Loop"
   ]
  },
  {
   "cell_type": "code",
   "execution_count": null,
   "id": "d2bd3876",
   "metadata": {},
   "outputs": [],
   "source": [
    "#Solution Here:"
   ]
  },
  {
   "cell_type": "markdown",
   "id": "c932cfce",
   "metadata": {},
   "source": [
    "## Merge following two Python dictionaries into one\n",
    "dict1 = {'Ten': 10, 'Twenty': 20, 'Thirty': 30}\n",
    "\n",
    "dict2 = {'Thirty': 30, 'Fourty': 40, 'Fifty': 50}"
   ]
  },
  {
   "cell_type": "markdown",
   "id": "75ef5b1c",
   "metadata": {},
   "source": [
    "Expected Outcome:\n",
    "    \n",
    "dict3 = {'Ten': 10, 'Twenty': 20, 'Thirty': 30, 'Fourty': 40, 'Fifty': 50}"
   ]
  },
  {
   "cell_type": "code",
   "execution_count": null,
   "id": "804b5f91",
   "metadata": {},
   "outputs": [],
   "source": [
    "#Solution Here:"
   ]
  },
  {
   "cell_type": "markdown",
   "id": "4f4ab3d2",
   "metadata": {},
   "source": [
    "## Access the value of key ‘history’ from the below dict\n",
    "sampleDict = { \"class\":{ \"student\":{ \"name\":\"Mike\",\"marks\":{ \"physics\":70,\"history\":80} } } }\n",
    "\n",
    "Expected Outcome: 80"
   ]
  },
  {
   "cell_type": "code",
   "execution_count": null,
   "id": "58457721",
   "metadata": {},
   "outputs": [],
   "source": [
    "#Solution Here:\n"
   ]
  },
  {
   "cell_type": "markdown",
   "id": "c10b5c7d",
   "metadata": {},
   "source": [
    "## Initialize dictionary with default values.\n",
    "employees = ['Manish', 'Puran', 'Sarun','Hari']\n",
    "\n",
    "defaults = {\"designation\": 'Python Developer', \"salary\": 40000}"
   ]
  },
  {
   "cell_type": "code",
   "execution_count": null,
   "id": "5e464fe7",
   "metadata": {},
   "outputs": [],
   "source": [
    "#Solution Here:"
   ]
  },
  {
   "cell_type": "markdown",
   "id": "7819eb66",
   "metadata": {},
   "source": [
    "## Create a new dictionary by extracting the following keys from a below dictionary\n",
    "Given dictionary:\n",
    "\n",
    "sampleDict = {\"name\": \"Mahesh\",\"age\":25,\"salary\": 80000,\"city\": \"Kathmandu\"}\n",
    "\n",
    "keys = [\"name\", \"salary\"]\n",
    "\n",
    "Hint: Use for loop"
   ]
  },
  {
   "cell_type": "code",
   "execution_count": null,
   "id": "4885a89e",
   "metadata": {},
   "outputs": [],
   "source": [
    "#Solution Here:"
   ]
  },
  {
   "cell_type": "markdown",
   "id": "40bdea40",
   "metadata": {},
   "source": [
    "## Modify the value of salary to 120000 in the following dictionary\n",
    "sampleDict = {\"name\": \"Mahesh\",\"age\":25,\"salary\": 80000,\"city\": \"Kathmandu\"}"
   ]
  },
  {
   "cell_type": "code",
   "execution_count": null,
   "id": "f885ef5e",
   "metadata": {},
   "outputs": [],
   "source": [
    "#Solution Here:"
   ]
  },
  {
   "cell_type": "markdown",
   "id": "2c8c06ea",
   "metadata": {},
   "source": [
    "## Get the key of a minimum value from the following dictionary\n",
    "sampleDict = {\n",
    "  'Physics': 82,\n",
    "  'Math': 65,\n",
    "  'history': 75,\n",
    "  'Computer':95,\n",
    "  'Chemistry':56\n",
    "}\n",
    "\n",
    "Hint: Use for loop"
   ]
  },
  {
   "cell_type": "code",
   "execution_count": null,
   "id": "e49df812",
   "metadata": {},
   "outputs": [],
   "source": [
    "#Solution Here:"
   ]
  },
  {
   "cell_type": "markdown",
   "id": "7012ec9a",
   "metadata": {},
   "source": [
    "## Change Hanuman’s salary to 85000 from a given Python dictionary\n",
    "sampleDict = {\n",
    "     'emp1': {'name': 'Ram', 'salary': 75000},\n",
    "     'emp2': {'name': 'Ravan', 'salary': 80000},\n",
    "     'emp3': {'name': 'Hanuman', 'salary': 65000}\n",
    "}"
   ]
  },
  {
   "cell_type": "code",
   "execution_count": null,
   "id": "ad5787c4",
   "metadata": {},
   "outputs": [],
   "source": [
    "#Solution Here:"
   ]
  },
  {
   "cell_type": "markdown",
   "id": "f954bc73",
   "metadata": {},
   "source": [
    "## Given a dictionary in Python, write a Python program to find the sum of all Items in the dictionary.\n",
    "\n",
    "Input : {'a': 100, 'b':200, 'c':300}\n",
    "\n",
    "Expected Outcome: 600"
   ]
  },
  {
   "cell_type": "code",
   "execution_count": null,
   "id": "89c15421",
   "metadata": {},
   "outputs": [],
   "source": [
    "#Solution Here:"
   ]
  },
  {
   "cell_type": "markdown",
   "id": "c9dd900d",
   "metadata": {},
   "source": [
    "## Write a Python script to print a dictionary where the keys are numbers between 1 and 15 (both included) and the values are square of keys.\n",
    "\n",
    "Expected Outcome:\n",
    "\n",
    "dict1 = {1: 1, 2: 4, 3: 9, 4: 16, 5: 25, 6: 36, 7: 49, 8: 64, 9: 81, 10: 100, 11: 121, 12: 144, 13: 169, 14: 196, 15: 225}"
   ]
  },
  {
   "cell_type": "code",
   "execution_count": null,
   "id": "ea9b5710",
   "metadata": {},
   "outputs": [],
   "source": [
    "#Solution Here:"
   ]
  },
  {
   "cell_type": "markdown",
   "id": "ee90889c",
   "metadata": {},
   "source": [
    "## \"Write a Python program to remove duplicates from Dictionary.\n",
    "student_data = {'id1': \n",
    "   {'name': ['Sara'], \n",
    "    'class': ['V'], \n",
    "    'subject_integration': ['english, math, science']\n",
    "   },\n",
    " 'id2': \n",
    "  {'name': ['David'], \n",
    "    'class': ['V'], \n",
    "    'subject_integration': ['english, math, science']\n",
    "   },\n",
    " 'id3': \n",
    "    {'name': ['Sara'], \n",
    "    'class': ['V'], \n",
    "    'subject_integration': ['english, math, science']\n",
    "   },\n",
    " 'id4': \n",
    "   {'name': ['Surya'], \n",
    "    'class': ['V'], \n",
    "    'subject_integration': ['english, math, science']\n",
    "   },\n",
    "}\""
   ]
  },
  {
   "cell_type": "code",
   "execution_count": null,
   "id": "51815fa2",
   "metadata": {},
   "outputs": [],
   "source": [
    "#Solution Here:"
   ]
  },
  {
   "cell_type": "markdown",
   "id": "2fcb3c36",
   "metadata": {},
   "source": [
    "## Write a Python program to combine two dictionary adding values for common keys.\n",
    "d1 = {'a': 100, 'b': 200, 'c':300}\n",
    "\n",
    "d2 = {'a': 300, 'b': 200, 'd':400}\n",
    "\n",
    "Sample output: Counter({'a': 400, 'b': 400, 'd': 400, 'c': 300})"
   ]
  },
  {
   "cell_type": "code",
   "execution_count": null,
   "id": "0c53fcb4",
   "metadata": {},
   "outputs": [],
   "source": [
    "#Solution Here:"
   ]
  },
  {
   "cell_type": "markdown",
   "id": "2cefc05e",
   "metadata": {},
   "source": [
    "## Write a Python program to print all unique values in a dictionary.\n",
    "Sample Data : [{\"V\":\"S001\"}, {\"V\": \"S002\"}, {\"VI\": \"S001\"}, {\"VI\": \"S005\"}, {\"VII\":\"S005\"}, {\"V\":\"S009\"},{\"VIII\":\"S007\"}]\n",
    "\n",
    "Expected Output : Unique Values: {'S005', 'S002', 'S007', 'S001', 'S009'}"
   ]
  },
  {
   "cell_type": "code",
   "execution_count": null,
   "id": "9dd3dc9b",
   "metadata": {},
   "outputs": [],
   "source": [
    "#Solution Here:"
   ]
  },
  {
   "cell_type": "markdown",
   "id": "054db73d",
   "metadata": {},
   "source": [
    "## Write a Python program to create a dictionary from a string. \n",
    "str1 = \"Unemployment\"\n",
    "\n",
    "Note: Track the count of the letters from the string.\n",
    "\n",
    "Expected Outcome:\n",
    "\n",
    "{'U': 1, 'n': 2, 'e': 2, 'm': 2, 'p': 1, 'l': 1, 'o': 1, 'y': 1, 't': 1}"
   ]
  },
  {
   "cell_type": "code",
   "execution_count": 1,
   "id": "542ca95d",
   "metadata": {},
   "outputs": [
    {
     "name": "stdout",
     "output_type": "stream",
     "text": [
      "U\n",
      "n\n",
      "e\n",
      "m\n",
      "p\n",
      "l\n",
      "o\n",
      "y\n",
      "m\n",
      "e\n",
      "n\n",
      "t\n"
     ]
    }
   ],
   "source": [
    "#Solution Here:\n",
    "str1 = \"Unemployment\"\n",
    "count = {}\n",
    "for s in str1:\n",
    "    if s in count.keys():\n",
    "        count[s]"
   ]
  },
  {
   "cell_type": "markdown",
   "id": "14f32f55",
   "metadata": {},
   "source": [
    "## {'Cierra Vega': 175, 'Alden Cantrell': 180, 'Kierra Gentry': 165, 'Pierre Cox': 190}.\n",
    "Create list for keys and list for values from above dictionary.\n",
    "\n",
    "Expected Outcome:\n",
    "\n",
    "['Cierra Vega', 'Alden Cantrell', 'Kierra Gentry', 'Pierre Cox']\n",
    "\n",
    "[175, 180, 165, 190]"
   ]
  },
  {
   "cell_type": "code",
   "execution_count": null,
   "id": "f3b2ac72",
   "metadata": {},
   "outputs": [],
   "source": [
    "#Solution Here:"
   ]
  }
 ],
 "metadata": {
  "kernelspec": {
   "display_name": "Python 3 (ipykernel)",
   "language": "python",
   "name": "python3"
  },
  "language_info": {
   "codemirror_mode": {
    "name": "ipython",
    "version": 3
   },
   "file_extension": ".py",
   "mimetype": "text/x-python",
   "name": "python",
   "nbconvert_exporter": "python",
   "pygments_lexer": "ipython3",
   "version": "3.9.13"
  }
 },
 "nbformat": 4,
 "nbformat_minor": 5
}
