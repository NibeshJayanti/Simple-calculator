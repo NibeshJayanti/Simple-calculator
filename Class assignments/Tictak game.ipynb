{
 "cells": [
  {
   "cell_type": "code",
   "execution_count": null,
   "id": "f12c9ba9",
   "metadata": {},
   "outputs": [],
   "source": [
    "#board\n",
    "#two player - x and 0 -switch player\n",
    "# winning condition:\n",
    "    #row check\n",
    "    #column check\n",
    "     #agonal check\n",
    "# draw condition"
   ]
  }
 ],
 "metadata": {
  "kernelspec": {
   "display_name": "Python 3 (ipykernel)",
   "language": "python",
   "name": "python3"
  },
  "language_info": {
   "codemirror_mode": {
    "name": "ipython",
    "version": 3
   },
   "file_extension": ".py",
   "mimetype": "text/x-python",
   "name": "python",
   "nbconvert_exporter": "python",
   "pygments_lexer": "ipython3",
   "version": "3.9.13"
  }
 },
 "nbformat": 4,
 "nbformat_minor": 5
}
