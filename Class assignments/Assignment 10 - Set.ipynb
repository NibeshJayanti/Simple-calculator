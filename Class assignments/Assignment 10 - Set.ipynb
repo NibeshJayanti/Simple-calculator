{
 "cells": [
  {
   "cell_type": "markdown",
   "id": "1a500775",
   "metadata": {},
   "source": [
    "## Add a list of elements to a given set.\n",
    "sampleSet = {\"Yellow\", \"Orange\", \"Black\"}\n",
    "\n",
    "sampleList = [\"Blue\", \"Green\", \"Red\"]"
   ]
  },
  {
   "cell_type": "markdown",
   "id": "f88ad1bb",
   "metadata": {},
   "source": [
    "Expected Output: {'Green', 'Yellow', 'Black', 'Orange', 'Red', 'Blue'}"
   ]
  },
  {
   "cell_type": "code",
   "execution_count": 1,
   "id": "81337ba0",
   "metadata": {},
   "outputs": [],
   "source": [
    "##Solution Here:"
   ]
  },
  {
   "cell_type": "markdown",
   "id": "e4cce2e2",
   "metadata": {},
   "source": [
    "## Return a new set of identical items from a given two set.\n",
    "set1 = {10, 20, 30, 40, 50}\n",
    "\n",
    "set2 = {30, 40, 50, 60, 70}"
   ]
  },
  {
   "cell_type": "markdown",
   "id": "8047a59b",
   "metadata": {},
   "source": [
    "Expected Output: {40, 50, 30}"
   ]
  },
  {
   "cell_type": "code",
   "execution_count": 2,
   "id": "2690d6de",
   "metadata": {},
   "outputs": [],
   "source": [
    "##Solution Here:"
   ]
  },
  {
   "cell_type": "markdown",
   "id": "fb6a2449",
   "metadata": {},
   "source": [
    "## Returns a new set with all items from both sets by removing duplicates.\n",
    "set1 = {10, 20, 30, 40, 50}\n",
    "\n",
    "set2 = {30, 40, 50, 60, 70}"
   ]
  },
  {
   "cell_type": "markdown",
   "id": "b641cdb0",
   "metadata": {},
   "source": [
    "Expected Output: {70, 40, 10, 50, 20, 60, 30}"
   ]
  },
  {
   "cell_type": "code",
   "execution_count": 3,
   "id": "febf62b5",
   "metadata": {},
   "outputs": [],
   "source": [
    "##Solution Here:"
   ]
  },
  {
   "cell_type": "markdown",
   "id": "c61f7496",
   "metadata": {},
   "source": [
    "## Given two Python sets, update the first set with items that exist only in the first set and not in the second set.\n",
    "set1 = {10, 20, 30}\n",
    "\n",
    "set2 = {20, 40, 50}"
   ]
  },
  {
   "cell_type": "markdown",
   "id": "c0817847",
   "metadata": {},
   "source": [
    "Expected Output: set1 {10, 30}"
   ]
  },
  {
   "cell_type": "code",
   "execution_count": 4,
   "id": "fda98a93",
   "metadata": {},
   "outputs": [],
   "source": [
    "##Solution Here:\n",
    "set1= set1-set2"
   ]
  },
  {
   "cell_type": "markdown",
   "id": "b6b5d553",
   "metadata": {},
   "source": [
    "## Remove items 10, 20, 30 from the following set at once.\n",
    "set1 = {10, 20, 30, 40, 50}"
   ]
  },
  {
   "cell_type": "markdown",
   "id": "caeb4d8d",
   "metadata": {},
   "source": [
    "Expected Output: {40, 50}"
   ]
  },
  {
   "cell_type": "code",
   "execution_count": 5,
   "id": "b99def90",
   "metadata": {},
   "outputs": [],
   "source": [
    "##Solution Here:"
   ]
  },
  {
   "cell_type": "markdown",
   "id": "517521b2",
   "metadata": {},
   "source": [
    "## Return a set of all elements in either A or B, but not both.\n",
    "set1 = {10, 20, 30, 40, 50}\n",
    "\n",
    "set2 = {30, 40, 50, 60, 70}"
   ]
  },
  {
   "cell_type": "markdown",
   "id": "68fa9c62",
   "metadata": {},
   "source": [
    "Expected Output: {20, 70, 10, 60}"
   ]
  },
  {
   "cell_type": "code",
   "execution_count": 6,
   "id": "bf00896f",
   "metadata": {},
   "outputs": [],
   "source": [
    "##Solution Here:"
   ]
  },
  {
   "cell_type": "markdown",
   "id": "7a489134",
   "metadata": {},
   "source": [
    "## Write a Python program to find maximum and the minimum value in a set.\n",
    "set1 = {13,46,79,17,28,39,19,73}"
   ]
  },
  {
   "cell_type": "markdown",
   "id": "14362396",
   "metadata": {},
   "source": [
    "Expected Output:\n",
    "    \n",
    "maximum = 79\n",
    "\n",
    "minimum = 13"
   ]
  },
  {
   "cell_type": "code",
   "execution_count": 7,
   "id": "9fb45c86",
   "metadata": {},
   "outputs": [],
   "source": [
    "##Solution Here:"
   ]
  }
 ],
 "metadata": {
  "kernelspec": {
   "display_name": "Python 3 (ipykernel)",
   "language": "python",
   "name": "python3"
  },
  "language_info": {
   "codemirror_mode": {
    "name": "ipython",
    "version": 3
   },
   "file_extension": ".py",
   "mimetype": "text/x-python",
   "name": "python",
   "nbconvert_exporter": "python",
   "pygments_lexer": "ipython3",
   "version": "3.9.13"
  }
 },
 "nbformat": 4,
 "nbformat_minor": 5
}
