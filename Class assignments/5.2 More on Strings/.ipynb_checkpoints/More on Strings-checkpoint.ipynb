{
 "cells": [
  {
   "cell_type": "markdown",
   "id": "ff06d6e5",
   "metadata": {},
   "source": [
    "# Checking String"
   ]
  },
  {
   "cell_type": "markdown",
   "id": "5ac44499",
   "metadata": {},
   "source": [
    "Check if certain phrase or character is present or not in a string."
   ]
  },
  {
   "cell_type": "code",
   "execution_count": 1,
   "id": "c59bfa55",
   "metadata": {},
   "outputs": [],
   "source": [
    "#Example:"
   ]
  },
  {
   "cell_type": "code",
   "execution_count": null,
   "id": "21b0d118",
   "metadata": {},
   "outputs": [],
   "source": []
  },
  {
   "cell_type": "code",
   "execution_count": null,
   "id": "a7d36e16",
   "metadata": {},
   "outputs": [],
   "source": []
  },
  {
   "cell_type": "markdown",
   "id": "df6bcffb",
   "metadata": {},
   "source": [
    "# How to Find String Length in Python"
   ]
  },
  {
   "cell_type": "markdown",
   "id": "5c052e69",
   "metadata": {},
   "source": [
    "Length of string represents the number of characters in String."
   ]
  },
  {
   "cell_type": "markdown",
   "id": "f762408e",
   "metadata": {},
   "source": [
    "len() function is used to get length of string."
   ]
  },
  {
   "cell_type": "code",
   "execution_count": 2,
   "id": "28f7089e",
   "metadata": {},
   "outputs": [],
   "source": [
    "#Example:"
   ]
  },
  {
   "cell_type": "code",
   "execution_count": null,
   "id": "faad1463",
   "metadata": {},
   "outputs": [],
   "source": []
  },
  {
   "cell_type": "markdown",
   "id": "692bf0fa",
   "metadata": {},
   "source": [
    "# Access String using Loop in Python"
   ]
  },
  {
   "cell_type": "code",
   "execution_count": null,
   "id": "537afb26",
   "metadata": {},
   "outputs": [],
   "source": []
  },
  {
   "cell_type": "code",
   "execution_count": null,
   "id": "88bfc9cc",
   "metadata": {},
   "outputs": [],
   "source": []
  },
  {
   "cell_type": "code",
   "execution_count": 3,
   "id": "b11461d2",
   "metadata": {},
   "outputs": [],
   "source": [
    "#Example:"
   ]
  },
  {
   "cell_type": "code",
   "execution_count": null,
   "id": "4ed9e4da",
   "metadata": {},
   "outputs": [],
   "source": []
  },
  {
   "cell_type": "code",
   "execution_count": 4,
   "id": "87b16142",
   "metadata": {},
   "outputs": [],
   "source": [
    "#Example:"
   ]
  },
  {
   "cell_type": "code",
   "execution_count": null,
   "id": "8e8d54f3",
   "metadata": {},
   "outputs": [],
   "source": []
  },
  {
   "cell_type": "markdown",
   "id": "a3f5a761",
   "metadata": {},
   "source": [
    "# Difference between Mutable and Immutable Object in Python"
   ]
  },
  {
   "cell_type": "markdown",
   "id": "bbb16115",
   "metadata": {},
   "source": [
    "## Mutable Objects"
   ]
  },
  {
   "cell_type": "markdown",
   "id": "868b87de",
   "metadata": {},
   "source": [
    "Mutable objects are those object whose value or content can be changed as and when required."
   ]
  },
  {
   "cell_type": "markdown",
   "id": "c8b77cb7",
   "metadata": {},
   "source": [
    "Example: List, Set, Dictionaries"
   ]
  },
  {
   "cell_type": "code",
   "execution_count": 5,
   "id": "86ac9432",
   "metadata": {},
   "outputs": [],
   "source": [
    "#Example:"
   ]
  },
  {
   "cell_type": "code",
   "execution_count": null,
   "id": "ab43b2fb",
   "metadata": {},
   "outputs": [],
   "source": []
  },
  {
   "cell_type": "code",
   "execution_count": null,
   "id": "b2de37af",
   "metadata": {},
   "outputs": [],
   "source": []
  },
  {
   "cell_type": "code",
   "execution_count": null,
   "id": "909ccbea",
   "metadata": {},
   "outputs": [],
   "source": []
  },
  {
   "cell_type": "markdown",
   "id": "2bf42108",
   "metadata": {},
   "source": [
    "## Immutable Objects"
   ]
  },
  {
   "cell_type": "markdown",
   "id": "a7eef3af",
   "metadata": {},
   "source": [
    "Immutable objects are those objects whose value or content cannot be changed."
   ]
  },
  {
   "cell_type": "markdown",
   "id": "d6d3d19f",
   "metadata": {},
   "source": [
    "Example: Numbers, String, Tuple"
   ]
  },
  {
   "cell_type": "code",
   "execution_count": 6,
   "id": "b4454e1c",
   "metadata": {},
   "outputs": [],
   "source": [
    "#Example:"
   ]
  },
  {
   "cell_type": "code",
   "execution_count": null,
   "id": "6f21c70f",
   "metadata": {},
   "outputs": [],
   "source": []
  },
  {
   "cell_type": "code",
   "execution_count": null,
   "id": "d8a77ac7",
   "metadata": {},
   "outputs": [],
   "source": []
  },
  {
   "cell_type": "code",
   "execution_count": null,
   "id": "04ae3f38",
   "metadata": {},
   "outputs": [],
   "source": []
  },
  {
   "cell_type": "markdown",
   "id": "a630fb9e",
   "metadata": {},
   "source": [
    "# Repetition and Concatenation Operator in Python"
   ]
  },
  {
   "cell_type": "markdown",
   "id": "f65cdc21",
   "metadata": {},
   "source": [
    "## Repetition Operator"
   ]
  },
  {
   "cell_type": "markdown",
   "id": "0f823d8d",
   "metadata": {},
   "source": [
    "Repetition operator is used to repeat the string for several times. It is denoted by *."
   ]
  },
  {
   "cell_type": "code",
   "execution_count": null,
   "id": "9494effa",
   "metadata": {},
   "outputs": [],
   "source": []
  },
  {
   "cell_type": "code",
   "execution_count": null,
   "id": "2c83a1f0",
   "metadata": {},
   "outputs": [],
   "source": []
  },
  {
   "cell_type": "markdown",
   "id": "df7c7db0",
   "metadata": {},
   "source": [
    "## Concatenation Operator"
   ]
  },
  {
   "cell_type": "markdown",
   "id": "40638b03",
   "metadata": {},
   "source": [
    "Concatenation operator is used to join two string. It is denoted by +"
   ]
  },
  {
   "cell_type": "code",
   "execution_count": null,
   "id": "cb7135ae",
   "metadata": {},
   "outputs": [],
   "source": []
  },
  {
   "cell_type": "code",
   "execution_count": 7,
   "id": "3b002f53",
   "metadata": {},
   "outputs": [],
   "source": [
    "#Example:\n"
   ]
  },
  {
   "cell_type": "code",
   "execution_count": null,
   "id": "10102764",
   "metadata": {},
   "outputs": [],
   "source": []
  }
 ],
 "metadata": {
  "kernelspec": {
   "display_name": "Python 3 (ipykernel)",
   "language": "python",
   "name": "python3"
  },
  "language_info": {
   "codemirror_mode": {
    "name": "ipython",
    "version": 3
   },
   "file_extension": ".py",
   "mimetype": "text/x-python",
   "name": "python",
   "nbconvert_exporter": "python",
   "pygments_lexer": "ipython3",
   "version": "3.11.2"
  }
 },
 "nbformat": 4,
 "nbformat_minor": 5
}
