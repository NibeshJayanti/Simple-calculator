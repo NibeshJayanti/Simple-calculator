{
 "cells": [
  {
   "cell_type": "markdown",
   "id": "ff06d6e5",
   "metadata": {},
   "source": [
    "# Checking String"
   ]
  },
  {
   "cell_type": "markdown",
   "id": "5ac44499",
   "metadata": {},
   "source": [
    "Check if certain phrase or character is present or not in a string."
   ]
  },
  {
   "cell_type": "code",
   "execution_count": 1,
   "id": "c59bfa55",
   "metadata": {},
   "outputs": [],
   "source": [
    "#Example:"
   ]
  },
  {
   "cell_type": "code",
   "execution_count": 5,
   "id": "21b0d118",
   "metadata": {},
   "outputs": [
    {
     "data": {
      "text/plain": [
       "True"
      ]
     },
     "execution_count": 5,
     "metadata": {},
     "output_type": "execute_result"
    }
   ],
   "source": [
    "\"th\" in \"python\""
   ]
  },
  {
   "cell_type": "code",
   "execution_count": null,
   "id": "a7d36e16",
   "metadata": {},
   "outputs": [],
   "source": []
  },
  {
   "cell_type": "markdown",
   "id": "df6bcffb",
   "metadata": {},
   "source": [
    "# How to Find String Length in Python"
   ]
  },
  {
   "cell_type": "markdown",
   "id": "5c052e69",
   "metadata": {},
   "source": [
    "Length of string represents the number of characters in String."
   ]
  },
  {
   "cell_type": "markdown",
   "id": "f762408e",
   "metadata": {},
   "source": [
    "len() function is used to get length of string."
   ]
  },
  {
   "cell_type": "code",
   "execution_count": 2,
   "id": "28f7089e",
   "metadata": {},
   "outputs": [],
   "source": [
    "#Example:"
   ]
  },
  {
   "cell_type": "code",
   "execution_count": 6,
   "id": "faad1463",
   "metadata": {},
   "outputs": [
    {
     "data": {
      "text/plain": [
       "6"
      ]
     },
     "execution_count": 6,
     "metadata": {},
     "output_type": "execute_result"
    }
   ],
   "source": [
    "len(\"Laptop\")"
   ]
  },
  {
   "cell_type": "markdown",
   "id": "692bf0fa",
   "metadata": {},
   "source": [
    "# Access String using Loop in Python"
   ]
  },
  {
   "cell_type": "code",
   "execution_count": 7,
   "id": "537afb26",
   "metadata": {},
   "outputs": [
    {
     "name": "stdout",
     "output_type": "stream",
     "text": [
      "N\n",
      "v\n",
      "i\n",
      "d\n",
      "i\n",
      "a\n"
     ]
    }
   ],
   "source": [
    "for i in \"Nvidia\":\n",
    "    print(i)"
   ]
  },
  {
   "cell_type": "code",
   "execution_count": 9,
   "id": "88bfc9cc",
   "metadata": {},
   "outputs": [
    {
     "name": "stdout",
     "output_type": "stream",
     "text": [
      "P\n",
      "y\n",
      "t\n",
      "h\n",
      "o\n",
      "n\n"
     ]
    }
   ],
   "source": [
    "i = 0\n",
    "word = \"Python\"\n",
    "while i<len(word):\n",
    "    print(word[i])\n",
    "    i += 1"
   ]
  },
  {
   "cell_type": "code",
   "execution_count": 3,
   "id": "b11461d2",
   "metadata": {},
   "outputs": [],
   "source": [
    "#Example:"
   ]
  },
  {
   "cell_type": "code",
   "execution_count": null,
   "id": "4ed9e4da",
   "metadata": {},
   "outputs": [],
   "source": []
  },
  {
   "cell_type": "code",
   "execution_count": 4,
   "id": "87b16142",
   "metadata": {},
   "outputs": [],
   "source": [
    "#Example:"
   ]
  },
  {
   "cell_type": "code",
   "execution_count": null,
   "id": "8e8d54f3",
   "metadata": {},
   "outputs": [],
   "source": []
  },
  {
   "cell_type": "markdown",
   "id": "a3f5a761",
   "metadata": {},
   "source": [
    "# Difference between Mutable and Immutable Object in Python"
   ]
  },
  {
   "cell_type": "markdown",
   "id": "bbb16115",
   "metadata": {},
   "source": [
    "## Mutable Objects"
   ]
  },
  {
   "cell_type": "markdown",
   "id": "868b87de",
   "metadata": {},
   "source": [
    "Mutable objects are those object whose value or content can be changed as and when required."
   ]
  },
  {
   "cell_type": "markdown",
   "id": "c8b77cb7",
   "metadata": {},
   "source": [
    "Example: List, Set, Dictionaries"
   ]
  },
  {
   "cell_type": "code",
   "execution_count": 5,
   "id": "86ac9432",
   "metadata": {},
   "outputs": [],
   "source": [
    "#Example:"
   ]
  },
  {
   "cell_type": "code",
   "execution_count": 10,
   "id": "ab43b2fb",
   "metadata": {},
   "outputs": [
    {
     "name": "stdout",
     "output_type": "stream",
     "text": [
      "[12, 45, 78, 96, 35, 50]\n"
     ]
    }
   ],
   "source": [
    "lst = [12,45,78,96,35,5]\n",
    "lst[-1] = 50\n",
    "print(lst)"
   ]
  },
  {
   "cell_type": "code",
   "execution_count": 16,
   "id": "b2de37af",
   "metadata": {},
   "outputs": [
    {
     "name": "stdout",
     "output_type": "stream",
     "text": [
      "{74, 45, 15, 88, 25}\n"
     ]
    }
   ],
   "source": [
    "set1 = {15,45,74,88}\n",
    "set1.add(25)\n",
    "print(set1)"
   ]
  },
  {
   "cell_type": "code",
   "execution_count": 20,
   "id": "909ccbea",
   "metadata": {},
   "outputs": [
    {
     "name": "stdout",
     "output_type": "stream",
     "text": [
      "{'a': 'apple', 'b': 'ball', 'c': 'cat'}\n"
     ]
    }
   ],
   "source": [
    "dic = {\"a\":\"apple\", \"b\":\"ball\"}\n",
    "dic[\"c\"] = \"cat\"\n",
    "print(dic)"
   ]
  },
  {
   "cell_type": "markdown",
   "id": "2bf42108",
   "metadata": {},
   "source": [
    "## Immutable Objects"
   ]
  },
  {
   "cell_type": "markdown",
   "id": "a7eef3af",
   "metadata": {},
   "source": [
    "Immutable objects are those objects whose value or content cannot be changed."
   ]
  },
  {
   "cell_type": "markdown",
   "id": "d6d3d19f",
   "metadata": {},
   "source": [
    "Example: Numbers, String, Tuple"
   ]
  },
  {
   "cell_type": "code",
   "execution_count": 6,
   "id": "b4454e1c",
   "metadata": {},
   "outputs": [],
   "source": [
    "#Example:"
   ]
  },
  {
   "cell_type": "code",
   "execution_count": 12,
   "id": "6f21c70f",
   "metadata": {},
   "outputs": [
    {
     "ename": "TypeError",
     "evalue": "'tuple' object does not support item assignment",
     "output_type": "error",
     "traceback": [
      "\u001b[1;31m---------------------------------------------------------------------------\u001b[0m",
      "\u001b[1;31mTypeError\u001b[0m                                 Traceback (most recent call last)",
      "Cell \u001b[1;32mIn[12], line 2\u001b[0m\n\u001b[0;32m      1\u001b[0m tup \u001b[38;5;241m=\u001b[39m (\u001b[38;5;241m14\u001b[39m,\u001b[38;5;241m25\u001b[39m,\u001b[38;5;241m36\u001b[39m,\u001b[38;5;241m47\u001b[39m)\n\u001b[1;32m----> 2\u001b[0m \u001b[43mtup\u001b[49m\u001b[43m[\u001b[49m\u001b[38;5;241;43m0\u001b[39;49m\u001b[43m]\u001b[49m \u001b[38;5;241m=\u001b[39m \u001b[38;5;241m41\u001b[39m\n",
      "\u001b[1;31mTypeError\u001b[0m: 'tuple' object does not support item assignment"
     ]
    }
   ],
   "source": [
    "tup = (14,25,36,47)\n",
    "tup[0] = 41"
   ]
  },
  {
   "cell_type": "code",
   "execution_count": 13,
   "id": "d8a77ac7",
   "metadata": {},
   "outputs": [
    {
     "ename": "TypeError",
     "evalue": "'int' object is not subscriptable",
     "output_type": "error",
     "traceback": [
      "\u001b[1;31m---------------------------------------------------------------------------\u001b[0m",
      "\u001b[1;31mTypeError\u001b[0m                                 Traceback (most recent call last)",
      "Cell \u001b[1;32mIn[13], line 2\u001b[0m\n\u001b[0;32m      1\u001b[0m num \u001b[38;5;241m=\u001b[39m \u001b[38;5;241m159\u001b[39m\n\u001b[1;32m----> 2\u001b[0m \u001b[43mnum\u001b[49m\u001b[43m[\u001b[49m\u001b[38;5;241;43m0\u001b[39;49m\u001b[43m]\u001b[49m\n",
      "\u001b[1;31mTypeError\u001b[0m: 'int' object is not subscriptable"
     ]
    }
   ],
   "source": [
    "num = 159\n",
    "num[0]"
   ]
  },
  {
   "cell_type": "code",
   "execution_count": 15,
   "id": "04ae3f38",
   "metadata": {},
   "outputs": [
    {
     "ename": "TypeError",
     "evalue": "'str' object does not support item assignment",
     "output_type": "error",
     "traceback": [
      "\u001b[1;31m---------------------------------------------------------------------------\u001b[0m",
      "\u001b[1;31mTypeError\u001b[0m                                 Traceback (most recent call last)",
      "Cell \u001b[1;32mIn[15], line 2\u001b[0m\n\u001b[0;32m      1\u001b[0m str1 \u001b[38;5;241m=\u001b[39m \u001b[38;5;124m\"\u001b[39m\u001b[38;5;124mOperator\u001b[39m\u001b[38;5;124m\"\u001b[39m\n\u001b[1;32m----> 2\u001b[0m \u001b[43mstr1\u001b[49m\u001b[43m[\u001b[49m\u001b[38;5;241;43m2\u001b[39;49m\u001b[43m]\u001b[49m \u001b[38;5;241m=\u001b[39m \u001b[38;5;124m\"\u001b[39m\u001b[38;5;124mo\u001b[39m\u001b[38;5;124m\"\u001b[39m\n",
      "\u001b[1;31mTypeError\u001b[0m: 'str' object does not support item assignment"
     ]
    }
   ],
   "source": [
    "str1 = \"Operator\"\n",
    "str1[2] = \"o\""
   ]
  },
  {
   "cell_type": "markdown",
   "id": "a630fb9e",
   "metadata": {},
   "source": [
    "# Repetition and Concatenation Operator in Python"
   ]
  },
  {
   "cell_type": "markdown",
   "id": "f65cdc21",
   "metadata": {},
   "source": [
    "## Repetition Operator"
   ]
  },
  {
   "cell_type": "markdown",
   "id": "0f823d8d",
   "metadata": {},
   "source": [
    "Repetition operator is used to repeat the string for several times. It is denoted by *."
   ]
  },
  {
   "cell_type": "code",
   "execution_count": 23,
   "id": "9494effa",
   "metadata": {},
   "outputs": [
    {
     "name": "stdout",
     "output_type": "stream",
     "text": [
      "Hello\n",
      "Hello\n",
      "Hello\n",
      "Hello\n",
      "Hello\n",
      "\n"
     ]
    }
   ],
   "source": [
    "print(\"Hello\\n\"*5)"
   ]
  },
  {
   "cell_type": "code",
   "execution_count": null,
   "id": "2c83a1f0",
   "metadata": {},
   "outputs": [],
   "source": []
  },
  {
   "cell_type": "markdown",
   "id": "df7c7db0",
   "metadata": {},
   "source": [
    "## Concatenation Operator"
   ]
  },
  {
   "cell_type": "markdown",
   "id": "40638b03",
   "metadata": {},
   "source": [
    "Concatenation operator is used to join two string. It is denoted by +"
   ]
  },
  {
   "cell_type": "code",
   "execution_count": 27,
   "id": "cb7135ae",
   "metadata": {},
   "outputs": [
    {
     "data": {
      "text/plain": [
       "'Hello World'"
      ]
     },
     "execution_count": 27,
     "metadata": {},
     "output_type": "execute_result"
    }
   ],
   "source": [
    "\"Hello\" + \" \"+ \"World\""
   ]
  },
  {
   "cell_type": "code",
   "execution_count": 7,
   "id": "3b002f53",
   "metadata": {},
   "outputs": [],
   "source": [
    "#Example:\n"
   ]
  },
  {
   "cell_type": "code",
   "execution_count": null,
   "id": "10102764",
   "metadata": {},
   "outputs": [],
   "source": []
  }
 ],
 "metadata": {
  "kernelspec": {
   "display_name": "Python 3 (ipykernel)",
   "language": "python",
   "name": "python3"
  },
  "language_info": {
   "codemirror_mode": {
    "name": "ipython",
    "version": 3
   },
   "file_extension": ".py",
   "mimetype": "text/x-python",
   "name": "python",
   "nbconvert_exporter": "python",
   "pygments_lexer": "ipython3",
   "version": "3.9.13"
  }
 },
 "nbformat": 4,
 "nbformat_minor": 5
}
