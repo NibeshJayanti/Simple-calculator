{
 "cells": [
  {
   "cell_type": "markdown",
   "metadata": {},
   "source": [
    "# Nested Dictionary in Python"
   ]
  },
  {
   "cell_type": "markdown",
   "metadata": {},
   "source": [
    "A dictionary within another dictionary is called as nested dictionary or nesting of a dictionary."
   ]
  },
  {
   "cell_type": "markdown",
   "metadata": {},
   "source": [
    "nested_dict = {'dict1':{'keyA':'valueA'}', dict2':{'keyB':'valueB'}}"
   ]
  },
  {
   "cell_type": "markdown",
   "metadata": {},
   "source": [
    "## Creating Empty Nested Dict"
   ]
  },
  {
   "cell_type": "markdown",
   "metadata": {},
   "source": [
    "**Syntax:**"
   ]
  },
  {
   "cell_type": "markdown",
   "metadata": {},
   "source": [
    "nested_dict = { 'dict1':{ }, 'dict2':{ } }"
   ]
  },
  {
   "cell_type": "markdown",
   "metadata": {},
   "source": [
    "**Ex:**"
   ]
  },
  {
   "cell_type": "markdown",
   "metadata": {},
   "source": [
    "a = { 'one':{ }, 'two':{ } }"
   ]
  },
  {
   "cell_type": "markdown",
   "metadata": {},
   "source": [
    "## Creating Nested Dict"
   ]
  },
  {
   "cell_type": "markdown",
   "metadata": {},
   "source": [
    "**Syntax:**"
   ]
  },
  {
   "cell_type": "markdown",
   "metadata": {},
   "source": [
    "nested_dict ={'key_A':'value_A', 'dict1:{'key_A':'value_A'}'}"
   ]
  },
  {
   "cell_type": "markdown",
   "metadata": {},
   "source": [
    "**Ex:**"
   ]
  },
  {
   "cell_type": "markdown",
   "metadata": {},
   "source": [
    "courses = {'language':'Python', 'fees':15000, 1:{'language':'java', 'fees': 10000}}"
   ]
  },
  {
   "cell_type": "markdown",
   "metadata": {},
   "source": [
    "## Accessing Nested Dictionary"
   ]
  },
  {
   "cell_type": "markdown",
   "metadata": {},
   "source": [
    "print(courses[language])<br>\n",
    "print(courses[fees])<br>\n",
    "print(courses[1][language])<br>\n",
    "print(courses[1][fees])"
   ]
  },
  {
   "cell_type": "markdown",
   "metadata": {},
   "source": [
    "## Modifying Nested Dictionary"
   ]
  },
  {
   "cell_type": "markdown",
   "metadata": {},
   "source": [
    "courses[language] = 'Django'<br>\n",
    "courses[1][fees] = 12000"
   ]
  },
  {
   "cell_type": "code",
   "execution_count": null,
   "metadata": {},
   "outputs": [],
   "source": []
  }
 ],
 "metadata": {
  "kernelspec": {
   "display_name": "Python 3",
   "language": "python",
   "name": "python3"
  },
  "language_info": {
   "codemirror_mode": {
    "name": "ipython",
    "version": 3
   },
   "file_extension": ".py",
   "mimetype": "text/x-python",
   "name": "python",
   "nbconvert_exporter": "python",
   "pygments_lexer": "ipython3",
   "version": "3.8.5"
  }
 },
 "nbformat": 4,
 "nbformat_minor": 4
}
