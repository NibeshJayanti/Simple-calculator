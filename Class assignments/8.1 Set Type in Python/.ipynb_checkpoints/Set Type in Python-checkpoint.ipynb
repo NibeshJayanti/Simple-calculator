{
 "cells": [
  {
   "cell_type": "markdown",
   "metadata": {
    "id": "VZHuTiKKd8qi"
   },
   "source": [
    "# Set Type in Python"
   ]
  },
  {
   "cell_type": "markdown",
   "metadata": {
    "id": "IDgbQAH5d8ql"
   },
   "source": [
    "A set is an unordered collection of elements much like a set in mathematics."
   ]
  },
  {
   "cell_type": "markdown",
   "metadata": {
    "id": "R55kHEWXd8qm"
   },
   "source": [
    "The order of elements is not maintained in the sets. It means the elements may not appear in the same order as they are entered into the set."
   ]
  },
  {
   "cell_type": "markdown",
   "metadata": {
    "id": "PvnLHwsxd8qm"
   },
   "source": [
    "A set does not accept duplicate elements."
   ]
  },
  {
   "cell_type": "markdown",
   "metadata": {
    "id": "1ZuhalQSd8qm"
   },
   "source": [
    "Set is mutable so we can modify it."
   ]
  },
  {
   "cell_type": "markdown",
   "metadata": {
    "id": "hh418S2Md8qn"
   },
   "source": [
    "Sets are unordered so we can not access its element using index."
   ]
  },
  {
   "cell_type": "markdown",
   "metadata": {
    "id": "GPeYOprqd8qn"
   },
   "source": [
    "Sets are represented using curly brackets { }."
   ]
  },
  {
   "cell_type": "markdown",
   "metadata": {
    "id": "tNgEGo6zd8qn"
   },
   "source": [
    "avengers = {\"Iron Man\", \"Hulk\". \"Captain America\", \"Thor\", \"Black Widow\", \"Hawkeye\"}"
   ]
  },
  {
   "cell_type": "markdown",
   "metadata": {
    "id": "5A4s9zaWd8qo"
   },
   "source": [
    "## Creating a Set"
   ]
  },
  {
   "cell_type": "markdown",
   "metadata": {
    "id": "R8P88hLhd8qo"
   },
   "source": [
    "A set is created by placing all the items(elements) inside curly braces {}, separated by comma. "
   ]
  },
  {
   "cell_type": "markdown",
   "metadata": {
    "id": "LJgYJl7jd8qo"
   },
   "source": [
    "A set does not accept duplicate elements. "
   ]
  },
  {
   "cell_type": "markdown",
   "metadata": {
    "id": "S8Ik8PRMd8qp"
   },
   "source": [
    "Elements can be of different types except mutable element, like list, set or dictionary."
   ]
  },
  {
   "cell_type": "code",
   "execution_count": null,
   "metadata": {
    "colab": {
     "base_uri": "https://localhost:8080/"
    },
    "executionInfo": {
     "elapsed": 369,
     "status": "ok",
     "timestamp": 1626677034459,
     "user": {
      "displayName": "Gopal Kisi",
      "photoUrl": "https://lh3.googleusercontent.com/a-/AOh14Gjx25o0HPTTZ0d7YM8O3hnoC8cBfMg5P5JIPGWH=s64",
      "userId": "01783901839559499476"
     },
     "user_tz": -345
    },
    "id": "YOoG5F3geiWF",
    "outputId": "4b840202-de38-4502-f932-75e70e08a481"
   },
   "outputs": [],
   "source": []
  },
  {
   "cell_type": "markdown",
   "metadata": {
    "id": "QpLZuDmud8qp"
   },
   "source": [
    "## Creating Empty Set"
   ]
  },
  {
   "cell_type": "markdown",
   "metadata": {
    "id": "jSUNaMbyd8qp"
   },
   "source": [
    "We can create an empty set using set() function."
   ]
  },
  {
   "cell_type": "code",
   "execution_count": null,
   "metadata": {
    "colab": {
     "base_uri": "https://localhost:8080/"
    },
    "executionInfo": {
     "elapsed": 27,
     "status": "ok",
     "timestamp": 1626677034838,
     "user": {
      "displayName": "Gopal Kisi",
      "photoUrl": "https://lh3.googleusercontent.com/a-/AOh14Gjx25o0HPTTZ0d7YM8O3hnoC8cBfMg5P5JIPGWH=s64",
      "userId": "01783901839559499476"
     },
     "user_tz": -345
    },
    "id": "gdwOm4fMevzF",
    "outputId": "1bc2f251-5d18-4d22-8f35-57fcb0f75d7d"
   },
   "outputs": [],
   "source": []
  },
  {
   "cell_type": "markdown",
   "metadata": {
    "id": "IheQuIbTd8qq"
   },
   "source": [
    "## Accessing elements"
   ]
  },
  {
   "cell_type": "markdown",
   "metadata": {
    "id": "WGwO4M9Vd8qq"
   },
   "source": [
    "Sets are unordered so we cannot access its element using index."
   ]
  },
  {
   "cell_type": "code",
   "execution_count": 1,
   "metadata": {
    "colab": {
     "base_uri": "https://localhost:8080/",
     "height": 197
    },
    "executionInfo": {
     "elapsed": 497,
     "status": "error",
     "timestamp": 1626677035314,
     "user": {
      "displayName": "Gopal Kisi",
      "photoUrl": "https://lh3.googleusercontent.com/a-/AOh14Gjx25o0HPTTZ0d7YM8O3hnoC8cBfMg5P5JIPGWH=s64",
      "userId": "01783901839559499476"
     },
     "user_tz": -345
    },
    "id": "vu3J9DmAd8qq",
    "outputId": "fddc6ae4-065d-46ba-ff4f-956632b92b59"
   },
   "outputs": [],
   "source": [
    "#Example:"
   ]
  },
  {
   "cell_type": "markdown",
   "metadata": {
    "id": "FwTyd5zjd8qr"
   },
   "source": [
    "# Accessing Set Elements using for and while Loop in Python"
   ]
  },
  {
   "cell_type": "code",
   "execution_count": 2,
   "metadata": {
    "colab": {
     "base_uri": "https://localhost:8080/"
    },
    "executionInfo": {
     "elapsed": 443,
     "status": "ok",
     "timestamp": 1626677041349,
     "user": {
      "displayName": "Gopal Kisi",
      "photoUrl": "https://lh3.googleusercontent.com/a-/AOh14Gjx25o0HPTTZ0d7YM8O3hnoC8cBfMg5P5JIPGWH=s64",
      "userId": "01783901839559499476"
     },
     "user_tz": -345
    },
    "id": "tPfBbkRVd8qr",
    "outputId": "341788dc-9ec6-476a-957a-38baf035f86c"
   },
   "outputs": [],
   "source": [
    "#Example:for loop"
   ]
  },
  {
   "cell_type": "code",
   "execution_count": 3,
   "metadata": {
    "colab": {
     "base_uri": "https://localhost:8080/",
     "height": 214
    },
    "executionInfo": {
     "elapsed": 10,
     "status": "error",
     "timestamp": 1626677041723,
     "user": {
      "displayName": "Gopal Kisi",
      "photoUrl": "https://lh3.googleusercontent.com/a-/AOh14Gjx25o0HPTTZ0d7YM8O3hnoC8cBfMg5P5JIPGWH=s64",
      "userId": "01783901839559499476"
     },
     "user_tz": -345
    },
    "id": "ucWw5-Bed8qr",
    "outputId": "32a3fb2e-b5ae-4a42-9e17-605290157804"
   },
   "outputs": [],
   "source": [
    "#Example:while loop - Error"
   ]
  },
  {
   "cell_type": "markdown",
   "metadata": {
    "id": "wBSYIPOjd8qr"
   },
   "source": [
    "# Getting Set input from User in Python"
   ]
  },
  {
   "cell_type": "code",
   "execution_count": 4,
   "metadata": {
    "executionInfo": {
     "elapsed": 345,
     "status": "ok",
     "timestamp": 1626677043836,
     "user": {
      "displayName": "Gopal Kisi",
      "photoUrl": "https://lh3.googleusercontent.com/a-/AOh14Gjx25o0HPTTZ0d7YM8O3hnoC8cBfMg5P5JIPGWH=s64",
      "userId": "01783901839559499476"
     },
     "user_tz": -345
    },
    "id": "8ufy7wzPd8qr"
   },
   "outputs": [],
   "source": [
    "#Example:"
   ]
  },
  {
   "cell_type": "code",
   "execution_count": null,
   "metadata": {
    "executionInfo": {
     "elapsed": 488,
     "status": "aborted",
     "timestamp": 1626677035311,
     "user": {
      "displayName": "Gopal Kisi",
      "photoUrl": "https://lh3.googleusercontent.com/a-/AOh14Gjx25o0HPTTZ0d7YM8O3hnoC8cBfMg5P5JIPGWH=s64",
      "userId": "01783901839559499476"
     },
     "user_tz": -345
    },
    "id": "i5nmMy5hgKLm"
   },
   "outputs": [],
   "source": []
  }
 ],
 "metadata": {
  "colab": {
   "collapsed_sections": [],
   "name": "Set Type in Python.ipynb",
   "provenance": []
  },
  "kernelspec": {
   "display_name": "Python 3 (ipykernel)",
   "language": "python",
   "name": "python3"
  },
  "language_info": {
   "codemirror_mode": {
    "name": "ipython",
    "version": 3
   },
   "file_extension": ".py",
   "mimetype": "text/x-python",
   "name": "python",
   "nbconvert_exporter": "python",
   "pygments_lexer": "ipython3",
   "version": "3.10.8"
  }
 },
 "nbformat": 4,
 "nbformat_minor": 1
}
