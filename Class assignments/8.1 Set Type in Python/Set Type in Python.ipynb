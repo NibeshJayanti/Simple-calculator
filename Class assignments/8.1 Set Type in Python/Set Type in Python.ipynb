{
 "cells": [
  {
   "cell_type": "markdown",
   "metadata": {
    "id": "VZHuTiKKd8qi"
   },
   "source": [
    "# Set Type in Python"
   ]
  },
  {
   "cell_type": "markdown",
   "metadata": {
    "id": "IDgbQAH5d8ql"
   },
   "source": [
    "A set is an unordered collection of elements much like a set in mathematics."
   ]
  },
  {
   "cell_type": "markdown",
   "metadata": {
    "id": "R55kHEWXd8qm"
   },
   "source": [
    "The order of elements is not maintained in the sets. It means the elements may not appear in the same order as they are entered into the set."
   ]
  },
  {
   "cell_type": "markdown",
   "metadata": {
    "id": "PvnLHwsxd8qm"
   },
   "source": [
    "A set does not accept duplicate elements."
   ]
  },
  {
   "cell_type": "markdown",
   "metadata": {
    "id": "1ZuhalQSd8qm"
   },
   "source": [
    "Set is mutable so we can modify it."
   ]
  },
  {
   "cell_type": "markdown",
   "metadata": {
    "id": "hh418S2Md8qn"
   },
   "source": [
    "Sets are unordered so we can not access its element using index."
   ]
  },
  {
   "cell_type": "markdown",
   "metadata": {
    "id": "GPeYOprqd8qn"
   },
   "source": [
    "Sets are represented using curly brackets { }."
   ]
  },
  {
   "cell_type": "markdown",
   "metadata": {
    "id": "tNgEGo6zd8qn"
   },
   "source": [
    "avengers = {\"Iron Man\", \"Hulk\". \"Captain America\", \"Thor\", \"Black Widow\", \"Hawkeye\"}"
   ]
  },
  {
   "cell_type": "markdown",
   "metadata": {
    "id": "5A4s9zaWd8qo"
   },
   "source": [
    "## Creating a Set"
   ]
  },
  {
   "cell_type": "markdown",
   "metadata": {
    "id": "R8P88hLhd8qo"
   },
   "source": [
    "A set is created by placing all the items(elements) inside curly braces {}, separated by comma. "
   ]
  },
  {
   "cell_type": "markdown",
   "metadata": {
    "id": "LJgYJl7jd8qo"
   },
   "source": [
    "A set does not accept duplicate elements. "
   ]
  },
  {
   "cell_type": "markdown",
   "metadata": {
    "id": "S8Ik8PRMd8qp"
   },
   "source": [
    "Elements can be of different types except mutable element, like list, set or dictionary."
   ]
  },
  {
   "cell_type": "code",
   "execution_count": 1,
   "metadata": {
    "colab": {
     "base_uri": "https://localhost:8080/"
    },
    "executionInfo": {
     "elapsed": 369,
     "status": "ok",
     "timestamp": 1626677034459,
     "user": {
      "displayName": "Gopal Kisi",
      "photoUrl": "https://lh3.googleusercontent.com/a-/AOh14Gjx25o0HPTTZ0d7YM8O3hnoC8cBfMg5P5JIPGWH=s64",
      "userId": "01783901839559499476"
     },
     "user_tz": -345
    },
    "id": "YOoG5F3geiWF",
    "outputId": "4b840202-de38-4502-f932-75e70e08a481"
   },
   "outputs": [
    {
     "name": "stdout",
     "output_type": "stream",
     "text": [
      "{8, 65, 35, 12} <class 'set'>\n"
     ]
    }
   ],
   "source": [
    "set1 = {12,35,65,8}\n",
    "print(set1, type(set1))"
   ]
  },
  {
   "cell_type": "code",
   "execution_count": 2,
   "metadata": {},
   "outputs": [
    {
     "name": "stdout",
     "output_type": "stream",
     "text": [
      "{8, 36, 95, 15} <class 'set'>\n"
     ]
    }
   ],
   "source": [
    "set2 = set([15,36,95,8])\n",
    "print(set2, type(set2))"
   ]
  },
  {
   "cell_type": "markdown",
   "metadata": {
    "id": "QpLZuDmud8qp"
   },
   "source": [
    "## Creating Empty Set"
   ]
  },
  {
   "cell_type": "markdown",
   "metadata": {
    "id": "jSUNaMbyd8qp"
   },
   "source": [
    "We can create an empty set using set() function."
   ]
  },
  {
   "cell_type": "code",
   "execution_count": 3,
   "metadata": {
    "colab": {
     "base_uri": "https://localhost:8080/"
    },
    "executionInfo": {
     "elapsed": 27,
     "status": "ok",
     "timestamp": 1626677034838,
     "user": {
      "displayName": "Gopal Kisi",
      "photoUrl": "https://lh3.googleusercontent.com/a-/AOh14Gjx25o0HPTTZ0d7YM8O3hnoC8cBfMg5P5JIPGWH=s64",
      "userId": "01783901839559499476"
     },
     "user_tz": -345
    },
    "id": "gdwOm4fMevzF",
    "outputId": "1bc2f251-5d18-4d22-8f35-57fcb0f75d7d"
   },
   "outputs": [
    {
     "name": "stdout",
     "output_type": "stream",
     "text": [
      "<class 'dict'>\n"
     ]
    }
   ],
   "source": [
    "set3 = {}\n",
    "print(type(set3))"
   ]
  },
  {
   "cell_type": "code",
   "execution_count": 5,
   "metadata": {},
   "outputs": [
    {
     "name": "stdout",
     "output_type": "stream",
     "text": [
      "<class 'set'>\n"
     ]
    }
   ],
   "source": [
    "set4 =  set()\n",
    "print(type(set4))"
   ]
  },
  {
   "cell_type": "markdown",
   "metadata": {
    "id": "IheQuIbTd8qq"
   },
   "source": [
    "## Accessing elements"
   ]
  },
  {
   "cell_type": "markdown",
   "metadata": {
    "id": "WGwO4M9Vd8qq"
   },
   "source": [
    "Sets are unordered so we cannot access its element using index."
   ]
  },
  {
   "cell_type": "code",
   "execution_count": 6,
   "metadata": {
    "colab": {
     "base_uri": "https://localhost:8080/",
     "height": 197
    },
    "executionInfo": {
     "elapsed": 497,
     "status": "error",
     "timestamp": 1626677035314,
     "user": {
      "displayName": "Gopal Kisi",
      "photoUrl": "https://lh3.googleusercontent.com/a-/AOh14Gjx25o0HPTTZ0d7YM8O3hnoC8cBfMg5P5JIPGWH=s64",
      "userId": "01783901839559499476"
     },
     "user_tz": -345
    },
    "id": "vu3J9DmAd8qq",
    "outputId": "fddc6ae4-065d-46ba-ff4f-956632b92b59"
   },
   "outputs": [
    {
     "ename": "TypeError",
     "evalue": "'set' object is not subscriptable",
     "output_type": "error",
     "traceback": [
      "\u001b[1;31m---------------------------------------------------------------------------\u001b[0m",
      "\u001b[1;31mTypeError\u001b[0m                                 Traceback (most recent call last)",
      "Input \u001b[1;32mIn [6]\u001b[0m, in \u001b[0;36m<cell line: 3>\u001b[1;34m()\u001b[0m\n\u001b[0;32m      1\u001b[0m \u001b[38;5;66;03m#Example:\u001b[39;00m\n\u001b[0;32m      2\u001b[0m set5 \u001b[38;5;241m=\u001b[39m {\u001b[38;5;241m12\u001b[39m,\u001b[38;5;241m45\u001b[39m,\u001b[38;5;241m78\u001b[39m,\u001b[38;5;241m96\u001b[39m,\u001b[38;5;241m3\u001b[39m,\u001b[38;5;241m5\u001b[39m}\n\u001b[1;32m----> 3\u001b[0m \u001b[43mset5\u001b[49m\u001b[43m[\u001b[49m\u001b[38;5;241;43m2\u001b[39;49m\u001b[43m]\u001b[49m\n",
      "\u001b[1;31mTypeError\u001b[0m: 'set' object is not subscriptable"
     ]
    }
   ],
   "source": [
    "#Example:\n",
    "set5 = {12,45,78,96,3,5}\n",
    "set5[2]"
   ]
  },
  {
   "cell_type": "markdown",
   "metadata": {
    "id": "FwTyd5zjd8qr"
   },
   "source": [
    "# Accessing Set Elements using for and while Loop in Python"
   ]
  },
  {
   "cell_type": "code",
   "execution_count": 7,
   "metadata": {
    "colab": {
     "base_uri": "https://localhost:8080/"
    },
    "executionInfo": {
     "elapsed": 443,
     "status": "ok",
     "timestamp": 1626677041349,
     "user": {
      "displayName": "Gopal Kisi",
      "photoUrl": "https://lh3.googleusercontent.com/a-/AOh14Gjx25o0HPTTZ0d7YM8O3hnoC8cBfMg5P5JIPGWH=s64",
      "userId": "01783901839559499476"
     },
     "user_tz": -345
    },
    "id": "tPfBbkRVd8qr",
    "outputId": "341788dc-9ec6-476a-957a-38baf035f86c",
    "scrolled": true
   },
   "outputs": [
    {
     "name": "stdout",
     "output_type": "stream",
     "text": [
      "96\n",
      "3\n",
      "5\n",
      "12\n",
      "45\n",
      "78\n"
     ]
    }
   ],
   "source": [
    "#Example:for loop\n",
    "set5 = {12,45,78,96,3,5}\n",
    "for s in set5:\n",
    "    print(s)"
   ]
  },
  {
   "cell_type": "code",
   "execution_count": 8,
   "metadata": {
    "colab": {
     "base_uri": "https://localhost:8080/",
     "height": 214
    },
    "executionInfo": {
     "elapsed": 10,
     "status": "error",
     "timestamp": 1626677041723,
     "user": {
      "displayName": "Gopal Kisi",
      "photoUrl": "https://lh3.googleusercontent.com/a-/AOh14Gjx25o0HPTTZ0d7YM8O3hnoC8cBfMg5P5JIPGWH=s64",
      "userId": "01783901839559499476"
     },
     "user_tz": -345
    },
    "id": "ucWw5-Bed8qr",
    "outputId": "32a3fb2e-b5ae-4a42-9e17-605290157804"
   },
   "outputs": [
    {
     "ename": "TypeError",
     "evalue": "'set' object is not subscriptable",
     "output_type": "error",
     "traceback": [
      "\u001b[1;31m---------------------------------------------------------------------------\u001b[0m",
      "\u001b[1;31mTypeError\u001b[0m                                 Traceback (most recent call last)",
      "Input \u001b[1;32mIn [8]\u001b[0m, in \u001b[0;36m<cell line: 3>\u001b[1;34m()\u001b[0m\n\u001b[0;32m      2\u001b[0m i \u001b[38;5;241m=\u001b[39m \u001b[38;5;241m0\u001b[39m\n\u001b[0;32m      3\u001b[0m \u001b[38;5;28;01mwhile\u001b[39;00m i\u001b[38;5;241m<\u001b[39m\u001b[38;5;28mlen\u001b[39m(set5):\n\u001b[1;32m----> 4\u001b[0m     \u001b[38;5;28mprint\u001b[39m(\u001b[43mset5\u001b[49m\u001b[43m[\u001b[49m\u001b[43mi\u001b[49m\u001b[43m]\u001b[49m)\n\u001b[0;32m      5\u001b[0m     i \u001b[38;5;241m+\u001b[39m\u001b[38;5;241m=\u001b[39m \u001b[38;5;241m1\u001b[39m\n",
      "\u001b[1;31mTypeError\u001b[0m: 'set' object is not subscriptable"
     ]
    }
   ],
   "source": [
    "#Example:while loop - Error\n",
    "i = 0\n",
    "while i<len(set5):\n",
    "    print(set5[i])\n",
    "    i += 1"
   ]
  },
  {
   "cell_type": "markdown",
   "metadata": {
    "id": "wBSYIPOjd8qr"
   },
   "source": [
    "# Getting Set input from User in Python"
   ]
  },
  {
   "cell_type": "code",
   "execution_count": 4,
   "metadata": {
    "executionInfo": {
     "elapsed": 345,
     "status": "ok",
     "timestamp": 1626677043836,
     "user": {
      "displayName": "Gopal Kisi",
      "photoUrl": "https://lh3.googleusercontent.com/a-/AOh14Gjx25o0HPTTZ0d7YM8O3hnoC8cBfMg5P5JIPGWH=s64",
      "userId": "01783901839559499476"
     },
     "user_tz": -345
    },
    "id": "8ufy7wzPd8qr"
   },
   "outputs": [],
   "source": [
    "#Example:"
   ]
  },
  {
   "cell_type": "code",
   "execution_count": 9,
   "metadata": {
    "executionInfo": {
     "elapsed": 488,
     "status": "aborted",
     "timestamp": 1626677035311,
     "user": {
      "displayName": "Gopal Kisi",
      "photoUrl": "https://lh3.googleusercontent.com/a-/AOh14Gjx25o0HPTTZ0d7YM8O3hnoC8cBfMg5P5JIPGWH=s64",
      "userId": "01783901839559499476"
     },
     "user_tz": -345
    },
    "id": "i5nmMy5hgKLm"
   },
   "outputs": [
    {
     "name": "stdout",
     "output_type": "stream",
     "text": [
      "How many elements to add? 5\n",
      "Enter your number: 15\n",
      "Enter your number: 36\n",
      "Enter your number: 258\n",
      "Enter your number: 69\n",
      "Enter your number: 47\n",
      "{258, 36, 69, 47, 15}\n"
     ]
    }
   ],
   "source": [
    "num = int(input(\"How many elements to add? \"))\n",
    "s = set()\n",
    "for i in range(num):\n",
    "    s.add(int(input(\"Enter your number: \")))\n",
    "print(s)"
   ]
  },
  {
   "cell_type": "code",
   "execution_count": null,
   "metadata": {},
   "outputs": [],
   "source": []
  }
 ],
 "metadata": {
  "colab": {
   "collapsed_sections": [],
   "name": "Set Type in Python.ipynb",
   "provenance": []
  },
  "kernelspec": {
   "display_name": "Python 3 (ipykernel)",
   "language": "python",
   "name": "python3"
  },
  "language_info": {
   "codemirror_mode": {
    "name": "ipython",
    "version": 3
   },
   "file_extension": ".py",
   "mimetype": "text/x-python",
   "name": "python",
   "nbconvert_exporter": "python",
   "pygments_lexer": "ipython3",
   "version": "3.9.13"
  }
 },
 "nbformat": 4,
 "nbformat_minor": 1
}
