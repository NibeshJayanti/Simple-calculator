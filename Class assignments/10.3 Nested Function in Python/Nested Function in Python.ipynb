{
 "cells": [
  {
   "cell_type": "markdown",
   "metadata": {},
   "source": [
    "# Nested Function in Python"
   ]
  },
  {
   "cell_type": "markdown",
   "metadata": {},
   "source": [
    "When we define one function inside another function, it is known as Nested Function or Function Nesting."
   ]
  },
  {
   "cell_type": "code",
   "execution_count": 3,
   "metadata": {},
   "outputs": [
    {
     "name": "stdout",
     "output_type": "stream",
     "text": [
      "This is message\n"
     ]
    }
   ],
   "source": [
    "#Example1:\n",
    "def get_message(msg):\n",
    "    def print_message(m):\n",
    "        print(m)\n",
    "    print_message(msg)\n",
    "    \n",
    "get_message(\"This is message\")"
   ]
  },
  {
   "cell_type": "code",
   "execution_count": 5,
   "metadata": {},
   "outputs": [
    {
     "name": "stdout",
     "output_type": "stream",
     "text": [
      "This is message\n"
     ]
    }
   ],
   "source": [
    "def get_message(msg):\n",
    "    def print_message():\n",
    "        print(msg)\n",
    "    print_message()\n",
    "    \n",
    "get_message(\"This is message\")"
   ]
  },
  {
   "cell_type": "code",
   "execution_count": 2,
   "metadata": {},
   "outputs": [],
   "source": [
    "#LEGB Rule\n",
    "# Local, Enclosed, Global, Built_in\n",
    "a = 25\n",
    "def x():\n",
    "    x = 5\n",
    "    def y():\n",
    "        y = 10\n",
    "        def z():\n",
    "            z = 15\n",
    "            print(\"Something\")"
   ]
  }
 ],
 "metadata": {
  "kernelspec": {
   "display_name": "Python 3 (ipykernel)",
   "language": "python",
   "name": "python3"
  },
  "language_info": {
   "codemirror_mode": {
    "name": "ipython",
    "version": 3
   },
   "file_extension": ".py",
   "mimetype": "text/x-python",
   "name": "python",
   "nbconvert_exporter": "python",
   "pygments_lexer": "ipython3",
   "version": "3.11.2"
  }
 },
 "nbformat": 4,
 "nbformat_minor": 4
}
