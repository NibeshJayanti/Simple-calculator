{
 "cells": [
  {
   "cell_type": "markdown",
   "metadata": {},
   "source": [
    "# Output Statement or Print Function in Python"
   ]
  },
  {
   "cell_type": "markdown",
   "metadata": {},
   "source": [
    "**Input** - The data given to the computer is called input."
   ]
  },
  {
   "cell_type": "markdown",
   "metadata": {},
   "source": [
    "**Output** - The results returned by the computer are called output."
   ]
  },
  {
   "cell_type": "markdown",
   "metadata": {},
   "source": [
    "## Output Statements"
   ]
  },
  {
   "cell_type": "markdown",
   "metadata": {},
   "source": [
    "**print() function** -  The print() function is used to print the specified message to the output screen/device. The message can be a string or any other object."
   ]
  },
  {
   "cell_type": "code",
   "execution_count": 1,
   "metadata": {},
   "outputs": [
    {
     "name": "stdout",
     "output_type": "stream",
     "text": [
      "Help on built-in function print in module builtins:\n",
      "\n",
      "print(...)\n",
      "    print(value, ..., sep=' ', end='\\n', file=sys.stdout, flush=False)\n",
      "    \n",
      "    Prints the values to a stream, or to sys.stdout by default.\n",
      "    Optional keyword arguments:\n",
      "    file:  a file-like object (stream); defaults to the current sys.stdout.\n",
      "    sep:   string inserted between values, default a space.\n",
      "    end:   string appended after the last value, default a newline.\n",
      "    flush: whether to forcibly flush the stream.\n",
      "\n"
     ]
    }
   ],
   "source": [
    "help(print)"
   ]
  },
  {
   "cell_type": "markdown",
   "metadata": {},
   "source": [
    "**Syntax**:- print(value, sep='character', end='character', file=sys.stdout, flush=False)"
   ]
  },
  {
   "cell_type": "markdown",
   "metadata": {},
   "source": [
    "**sep** - Separate the objects by given character. Character can be any string. Default is ' ' or can written none."
   ]
  },
  {
   "cell_type": "markdown",
   "metadata": {},
   "source": [
    "**end** - It indicates ending character for the line. Default is '\\n' or can written none."
   ]
  },
  {
   "cell_type": "markdown",
   "metadata": {},
   "source": [
    "**file** - An object with a write method. Default is sys.stdout or can written none."
   ]
  },
  {
   "cell_type": "markdown",
   "metadata": {},
   "source": [
    "**flush** - A Boolean, specifying if the output is flushed(True) or buffered(False). Default is False."
   ]
  },
  {
   "cell_type": "code",
   "execution_count": 1,
   "metadata": {},
   "outputs": [
    {
     "name": "stdout",
     "output_type": "stream",
     "text": [
      "Learning about print function.\n"
     ]
    }
   ],
   "source": [
    "#Example:\n",
    "print(\"Learning about print function.\")"
   ]
  },
  {
   "cell_type": "markdown",
   "metadata": {},
   "source": [
    "print() - This function is used to display a blank line."
   ]
  },
  {
   "cell_type": "code",
   "execution_count": 4,
   "metadata": {},
   "outputs": [
    {
     "name": "stdout",
     "output_type": "stream",
     "text": [
      "Hello\n",
      "\n",
      "World\n"
     ]
    }
   ],
   "source": [
    "print(\"Hello\")\n",
    "print()\n",
    "print(\"World\")"
   ]
  },
  {
   "cell_type": "markdown",
   "metadata": {},
   "source": [
    "print() - When a string is passed to the function, the string is displayed as it is."
   ]
  },
  {
   "cell_type": "code",
   "execution_count": 5,
   "metadata": {},
   "outputs": [
    {
     "name": "stdout",
     "output_type": "stream",
     "text": [
      "Code in double quote\n",
      "Code in single quote\n",
      "Python Programming Course\n"
     ]
    }
   ],
   "source": [
    "#Example: Double quote, single quote, comma separated.\n",
    "print(\"Code in double quote\")\n",
    "print('Code in single quote')\n",
    "print(\"Python\", \"Programming\", \"Course\")"
   ]
  },
  {
   "cell_type": "code",
   "execution_count": 6,
   "metadata": {},
   "outputs": [
    {
     "name": "stdout",
     "output_type": "stream",
     "text": [
      "Python \n",
      "Programming \n",
      "Course\n"
     ]
    }
   ],
   "source": [
    "# Printing in different lines.\n",
    "print(\"Python \\nProgramming \\nCourse\")"
   ]
  },
  {
   "cell_type": "code",
   "execution_count": 7,
   "metadata": {},
   "outputs": [
    {
     "name": "stdout",
     "output_type": "stream",
     "text": [
      "12\n",
      "21.32\n"
     ]
    }
   ],
   "source": [
    "#Integer and float value\n",
    "print(12)\n",
    "print(21.32)"
   ]
  },
  {
   "cell_type": "markdown",
   "metadata": {},
   "source": [
    "**print(object)** - We can pass objects like list, tuples and dictionaries to display the elements of those objects."
   ]
  },
  {
   "cell_type": "code",
   "execution_count": 8,
   "metadata": {},
   "outputs": [
    {
     "name": "stdout",
     "output_type": "stream",
     "text": [
      "[12, 32, 45, 65, 78, 98]\n",
      "(12, 32, 45, 65, 78, 98)\n",
      "{'Company': 'Samsung', 'Model': 'Note 10'}\n"
     ]
    }
   ],
   "source": [
    "#Example: print tuple, list, dictionaries.\n",
    "print([12,32,45,65,78,98])\n",
    "print((12,32,45,65,78,98))\n",
    "print({\"Company\":\"Samsung\", \"Model\":\"Note 10\"})"
   ]
  },
  {
   "cell_type": "markdown",
   "metadata": {},
   "source": [
    "**print(\"string\", sep='')** - It separates string with sep character. Character can be any string. Default is ' ' or can write none."
   ]
  },
  {
   "cell_type": "code",
   "execution_count": 10,
   "metadata": {},
   "outputs": [
    {
     "name": "stdout",
     "output_type": "stream",
     "text": [
      "10 20 30\n",
      "10#20#30\n",
      "10$20$30\n",
      "10@20@30\n",
      "10***20***30\n",
      "10,20,30\n"
     ]
    }
   ],
   "source": [
    "#Example: #, $, @, ***\n",
    "print(10,20,30, sep = \" \")\n",
    "print(10,20,30, sep = \"#\")\n",
    "print(10,20,30, sep = \"$\")\n",
    "print(10,20,30, sep = \"@\")\n",
    "print(10,20,30, sep = \"***\")\n",
    "print(10,20,30, sep=)"
   ]
  },
  {
   "cell_type": "markdown",
   "metadata": {},
   "source": [
    "**print(\"string\", end='\\n')** - When ending character is passed. It prints given character at the end."
   ]
  },
  {
   "cell_type": "code",
   "execution_count": 13,
   "metadata": {},
   "outputs": [
    {
     "name": "stdout",
     "output_type": "stream",
     "text": [
      "Hello World.\n",
      "Welcome to programming.\n"
     ]
    }
   ],
   "source": [
    "#Example: default, \" \", \"\\t\"\n",
    "print(\"Hello World.\", end = \"\\n\")\n",
    "print(\"Welcome to programming.\")"
   ]
  },
  {
   "cell_type": "code",
   "execution_count": 14,
   "metadata": {},
   "outputs": [
    {
     "name": "stdout",
     "output_type": "stream",
     "text": [
      "Hello World. Welcome to programming.\n"
     ]
    }
   ],
   "source": [
    "print(\"Hello World.\", end = \" \")\n",
    "print(\"Welcome to programming.\")"
   ]
  },
  {
   "cell_type": "code",
   "execution_count": 15,
   "metadata": {},
   "outputs": [
    {
     "name": "stdout",
     "output_type": "stream",
     "text": [
      "Hello World\tWelcome to programming.\n"
     ]
    }
   ],
   "source": [
    "print(\"Hello World\", end = \"\\t\")\n",
    "print(\"Welcome to programming.\")"
   ]
  },
  {
   "cell_type": "markdown",
   "metadata": {},
   "source": [
    "**print(variable list)** - This is used to display the value of a variable or a list of variable."
   ]
  },
  {
   "cell_type": "code",
   "execution_count": 16,
   "metadata": {},
   "outputs": [
    {
     "name": "stdout",
     "output_type": "stream",
     "text": [
      "('headphone', 'laptop', 'smartphone', 'smartwatch')\n",
      "['notebook', 'pen', 'book', 'pencil']\n",
      "{'Company': 'Dell', 'Model': 'Inspiron', 'BuildYear': 2021}\n"
     ]
    }
   ],
   "source": [
    "#Example: print tuple, list, dictionaries assigned to variable.\n",
    "tup1 = (\"headphone\", \"laptop\", \"smartphone\", \"smartwatch\")\n",
    "lst1 = [\"notebook\", \"pen\", \"book\", \"pencil\"]\n",
    "dict1 = {\"Company\":\"Dell\", \"Model\":\"Inspiron\", \"BuildYear\":2021}\n",
    "print(tup1)\n",
    "print(lst1)\n",
    "print(dict1)"
   ]
  },
  {
   "cell_type": "markdown",
   "metadata": {},
   "source": [
    "**print(\"String\", variable list)** - This is used to display the string along with variable."
   ]
  },
  {
   "cell_type": "code",
   "execution_count": 13,
   "metadata": {},
   "outputs": [
    {
     "name": "stdout",
     "output_type": "stream",
     "text": [
      "Python Programming Course From  NextStep InfoTech.\n"
     ]
    }
   ],
   "source": [
    "#Example: print sentence with variable at the end.\n",
    "name = \"NextStep InfoTech.\"\n",
    "print(\"Python Programming Course From \", name)"
   ]
  },
  {
   "cell_type": "code",
   "execution_count": null,
   "metadata": {},
   "outputs": [],
   "source": []
  }
 ],
 "metadata": {
  "kernelspec": {
   "display_name": "Python 3 (ipykernel)",
   "language": "python",
   "name": "python3"
  },
  "language_info": {
   "codemirror_mode": {
    "name": "ipython",
    "version": 3
   },
   "file_extension": ".py",
   "mimetype": "text/x-python",
   "name": "python",
   "nbconvert_exporter": "python",
   "pygments_lexer": "ipython3",
   "version": "3.9.13"
  }
 },
 "nbformat": 4,
 "nbformat_minor": 4
}
