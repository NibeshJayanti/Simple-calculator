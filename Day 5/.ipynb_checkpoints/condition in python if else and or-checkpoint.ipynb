{
 "cells": [
  {
   "cell_type": "code",
   "execution_count": 3,
   "id": "98030db2",
   "metadata": {},
   "outputs": [],
   "source": [
    "#If condition\n",
    "if 5>20:\n",
    "    print(\"5 is greater than 2.\")"
   ]
  },
  {
   "cell_type": "code",
   "execution_count": 21,
   "id": "1a1b809f",
   "metadata": {},
   "outputs": [
    {
     "name": "stdout",
     "output_type": "stream",
     "text": [
      "Enter any number:10\n",
      "your number is equal to 10\n"
     ]
    }
   ],
   "source": [
    "num = int(input ( \"Enter any number:\"))\n",
    "if num>10:\n",
    "    print(\"Your number is greater than 10\")\n",
    "    print(\"you won\")\n",
    "if num<10:\n",
    "    print( \"your number is smaller than 10\")  \n",
    "if num ==10:\n",
    "    print(\"your number is equal to 10\")\n",
    "    "
   ]
  },
  {
   "cell_type": "code",
   "execution_count": 20,
   "id": "10c619a2",
   "metadata": {},
   "outputs": [
    {
     "name": "stdout",
     "output_type": "stream",
     "text": [
      "Enter any number:10\n",
      "It is not divisible by 7.\n"
     ]
    }
   ],
   "source": [
    "num = int(input ( \"Enter any number:\"))\n",
    "if num%7 ==0:\n",
    "    print(\"It is divisible by 7.\")\n",
    "if num%7!=0:\n",
    "    print(\"It is not divisible by 7.\")"
   ]
  },
  {
   "cell_type": "code",
   "execution_count": 34,
   "id": "fbc01ba0",
   "metadata": {},
   "outputs": [
    {
     "name": "stdout",
     "output_type": "stream",
     "text": [
      "yes there is y in python\n",
      "input any number10\n"
     ]
    }
   ],
   "source": [
    "if \"y\" in \"python\":\n",
    "    print(\"yes there is y in python\")\n",
    "    a = int(input(\"input any number\"))\n",
    "    if a>20:\n",
    "        print(a,\"is greater than 20\")"
   ]
  },
  {
   "cell_type": "code",
   "execution_count": 33,
   "id": "740008b8",
   "metadata": {},
   "outputs": [
    {
     "name": "stdout",
     "output_type": "stream",
     "text": [
      "Give any number. Number =35\n",
      "number is divisible by 7\n",
      "number is a multipule of 5\n"
     ]
    }
   ],
   "source": [
    "a = int(input(\"Give any number. Number =\"))\n",
    "if a%7 == 0:\n",
    "    print(\"number is divisible by 7\")\n",
    "    \n",
    "    if a%5 == 0:\n",
    "        print(\"number is a multipule of 5\")\n",
    "if a%7 != 0:\n",
    "    print('number is not divisible by 7')\n",
    "        \n",
    "    "
   ]
  },
  {
   "cell_type": "code",
   "execution_count": 37,
   "id": "95b116b2",
   "metadata": {},
   "outputs": [
    {
     "name": "stdout",
     "output_type": "stream",
     "text": [
      "Enter any number. Number =35\n"
     ]
    }
   ],
   "source": [
    "#And condition and Or condition\n",
    "num = int(input(\"Enter any number. Number =\"))\n",
    "if num%9 == 0 and num% 10 == 0 or num%3 == 0:\n",
    "    print(\"It is multiple of 9 and divisible of 10 or 3\")"
   ]
  },
  {
   "cell_type": "code",
   "execution_count": 43,
   "id": "72e66a2a",
   "metadata": {},
   "outputs": [
    {
     "name": "stdout",
     "output_type": "stream",
     "text": [
      "Enter any number. Number =90\n",
      "It is multiple of 9 and divisible of 10 or 3\n"
     ]
    }
   ],
   "source": [
    "num = int(input(\"Enter any number. Number =\"))\n",
    "if num%9 == 0 and (num% 10 == 0 or num%3 == 0):\n",
    "    print(\"It is multiple of 9 and divisible of 10 or 3\")"
   ]
  },
  {
   "cell_type": "code",
   "execution_count": 44,
   "id": "74432f0b",
   "metadata": {},
   "outputs": [
    {
     "name": "stdout",
     "output_type": "stream",
     "text": [
      "Yes there is p in Nepal.\n"
     ]
    }
   ],
   "source": [
    "if \"p\" in \"Nepal\" :\n",
    "    print (\"Yes there is p in Nepal.\")\n",
    "    if \"n\" in \"Nepal\":\n",
    "        print (\"Yes there is n in Nepal\")"
   ]
  },
  {
   "cell_type": "code",
   "execution_count": 53,
   "id": "686614c5",
   "metadata": {},
   "outputs": [
    {
     "name": "stdout",
     "output_type": "stream",
     "text": [
      "write starstar\n",
      "Yes there is star\n"
     ]
    }
   ],
   "source": [
    "#if and else condition\n",
    "a = input(\"write star\")\n",
    "if \"a\" in \"Twinkle Twinkle Littel Star\":\n",
    "    print(\"Yes there is star\")\n",
    "else:\n",
    "    print(\"No, there is no star\")    \n"
   ]
  },
  {
   "cell_type": "code",
   "execution_count": 60,
   "id": "7ce7160c",
   "metadata": {},
   "outputs": [
    {
     "name": "stdout",
     "output_type": "stream",
     "text": [
      "Enter your number : -12.425\n",
      "Your number is negative.\n"
     ]
    }
   ],
   "source": [
    "num = float(input(\"Enter your number : \"))\n",
    "if num > 0:\n",
    "    print(\"Your number is positive.\")\n",
    "elif num < 0:\n",
    "    print(\"Your number is negative.\")\n",
    "else:\n",
    "    print(\"Your number is Zero.\")\n"
   ]
  },
  {
   "cell_type": "code",
   "execution_count": null,
   "id": "a6f5e867",
   "metadata": {},
   "outputs": [],
   "source": []
  },
  {
   "cell_type": "code",
   "execution_count": null,
   "id": "80566a68",
   "metadata": {},
   "outputs": [],
   "source": []
  }
 ],
 "metadata": {
  "kernelspec": {
   "display_name": "Python 3 (ipykernel)",
   "language": "python",
   "name": "python3"
  },
  "language_info": {
   "codemirror_mode": {
    "name": "ipython",
    "version": 3
   },
   "file_extension": ".py",
   "mimetype": "text/x-python",
   "name": "python",
   "nbconvert_exporter": "python",
   "pygments_lexer": "ipython3",
   "version": "3.9.13"
  }
 },
 "nbformat": 4,
 "nbformat_minor": 5
}
