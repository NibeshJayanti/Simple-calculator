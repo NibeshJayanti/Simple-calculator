{
 "cells": [
  {
   "cell_type": "markdown",
   "id": "b51444a0",
   "metadata": {},
   "source": [
    "# Take a number from user input then check whether that number lies between 10 and 20 or not. If that number lies between 10 and 20, print 'You are lucky...'"
   ]
  },
  {
   "cell_type": "code",
   "execution_count": null,
   "id": "f47fc7e6",
   "metadata": {},
   "outputs": [],
   "source": [
    "#Solution here:"
   ]
  },
  {
   "cell_type": "markdown",
   "id": "22bcc408",
   "metadata": {},
   "source": [
    "# Take a number from user input and check whether the number is even or odd."
   ]
  },
  {
   "cell_type": "code",
   "execution_count": null,
   "id": "cdfa715a",
   "metadata": {},
   "outputs": [],
   "source": [
    "#Solution here:"
   ]
  },
  {
   "cell_type": "markdown",
   "id": "4f8219d6",
   "metadata": {},
   "source": [
    "# Take two numbers from user input and perform floor division. Check if the answer is less than 10 or not."
   ]
  },
  {
   "cell_type": "code",
   "execution_count": null,
   "id": "57e322d9",
   "metadata": {},
   "outputs": [],
   "source": [
    "#Solution here:"
   ]
  },
  {
   "cell_type": "markdown",
   "id": "a9d43f6f",
   "metadata": {},
   "source": [
    "# Take a user input and check if that number is positive or negative or zero."
   ]
  },
  {
   "cell_type": "code",
   "execution_count": null,
   "id": "2035a531",
   "metadata": {},
   "outputs": [],
   "source": [
    "#Solution here:"
   ]
  },
  {
   "cell_type": "markdown",
   "id": "7014d394",
   "metadata": {},
   "source": [
    "# A company decided to give bonus of 5% to employee if his/her year of service is more than 5 years.\n",
    "# Ask user for their salary and year of service and print the net bonus amount."
   ]
  },
  {
   "cell_type": "code",
   "execution_count": null,
   "id": "e6c581c4",
   "metadata": {},
   "outputs": [],
   "source": [
    "#Solution here:"
   ]
  }
 ],
 "metadata": {
  "kernelspec": {
   "display_name": "Python 3 (ipykernel)",
   "language": "python",
   "name": "python3"
  },
  "language_info": {
   "codemirror_mode": {
    "name": "ipython",
    "version": 3
   },
   "file_extension": ".py",
   "mimetype": "text/x-python",
   "name": "python",
   "nbconvert_exporter": "python",
   "pygments_lexer": "ipython3",
   "version": "3.9.13"
  }
 },
 "nbformat": 4,
 "nbformat_minor": 5
}
