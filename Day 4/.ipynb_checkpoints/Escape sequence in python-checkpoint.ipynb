{
 "cells": [
  {
   "cell_type": "code",
   "execution_count": 1,
   "id": "04843a24",
   "metadata": {},
   "outputs": [
    {
     "name": "stdout",
     "output_type": "stream",
     "text": [
      "he said:\"yesterday it rained heavily\"\n"
     ]
    }
   ],
   "source": [
    "#escape sequence in python\n",
    "print('he said:\"yesterday it rained heavily\"')"
   ]
  },
  {
   "cell_type": "code",
   "execution_count": 2,
   "id": "ee139d9d",
   "metadata": {},
   "outputs": [
    {
     "name": "stdout",
     "output_type": "stream",
     "text": [
      "C:\\Users\\DELL\\Desktop\\jupyter\n"
     ]
    }
   ],
   "source": [
    "path = r\"C:\\Users\\DELL\\Desktop\\jupyter\"\n",
    "print(path)"
   ]
  },
  {
   "cell_type": "code",
   "execution_count": 5,
   "id": "bb395bbe",
   "metadata": {},
   "outputs": [
    {
     "name": "stdout",
     "output_type": "stream",
     "text": [
      "\"Everybody in this country should learn to program a computer, \n",
      " because it teaches you how to think.\" \n",
      " \t \t - STEVE JOBS\n"
     ]
    }
   ],
   "source": [
    "print('\"Everybody in this country should learn to program a computer, \\n because it teaches you how to think.\" \\n \\t \\t - STEVE JOBS')"
   ]
  },
  {
   "cell_type": "code",
   "execution_count": null,
   "id": "a56c9b57",
   "metadata": {},
   "outputs": [],
   "source": []
  }
 ],
 "metadata": {
  "kernelspec": {
   "display_name": "Python 3 (ipykernel)",
   "language": "python",
   "name": "python3"
  },
  "language_info": {
   "codemirror_mode": {
    "name": "ipython",
    "version": 3
   },
   "file_extension": ".py",
   "mimetype": "text/x-python",
   "name": "python",
   "nbconvert_exporter": "python",
   "pygments_lexer": "ipython3",
   "version": "3.9.13"
  }
 },
 "nbformat": 4,
 "nbformat_minor": 5
}
