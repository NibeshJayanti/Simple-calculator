{
 "cells": [
  {
   "cell_type": "code",
   "execution_count": 1,
   "id": "e0e640ff",
   "metadata": {},
   "outputs": [
    {
     "name": "stdout",
     "output_type": "stream",
     "text": [
      "Help on built-in function print in module builtins:\n",
      "\n",
      "print(...)\n",
      "    print(value, ..., sep=' ', end='\\n', file=sys.stdout, flush=False)\n",
      "    \n",
      "    Prints the values to a stream, or to sys.stdout by default.\n",
      "    Optional keyword arguments:\n",
      "    file:  a file-like object (stream); defaults to the current sys.stdout.\n",
      "    sep:   string inserted between values, default a space.\n",
      "    end:   string appended after the last value, default a newline.\n",
      "    flush: whether to forcibly flush the stream.\n",
      "\n"
     ]
    }
   ],
   "source": [
    "#out put function\n",
    "#print\n",
    "help(print)"
   ]
  },
  {
   "cell_type": "markdown",
   "id": "3d926454",
   "metadata": {},
   "source": [
    "print(value, ..., sep=' ', end='\\n', file=sys.stdout, flush=False)\n",
    "    \n",
    "    Prints the values to a stream, or to sys.stdout by default.\n",
    "    Optional keyword arguments:\n",
    "    file:  a file-like object (stream); defaults to the current sys.stdout.\n",
    "    sep:   string inserted between values, default a space.\n",
    "    end:   string appended after the last value, default a newline.\n",
    "    flush: whether to forcibly flush the stream.\n"
   ]
  },
  {
   "cell_type": "code",
   "execution_count": 3,
   "id": "f8e6e829",
   "metadata": {},
   "outputs": [
    {
     "name": "stdout",
     "output_type": "stream",
     "text": [
      "40\n"
     ]
    },
    {
     "data": {
      "text/plain": [
       "str"
      ]
     },
     "execution_count": 3,
     "metadata": {},
     "output_type": "execute_result"
    }
   ],
   "source": [
    "#syntax :- print(value,sep='character',end='character',file='character')\n",
    "num = input()\n",
    "type(num)\n"
   ]
  },
  {
   "cell_type": "code",
   "execution_count": 8,
   "id": "8942dc02",
   "metadata": {},
   "outputs": [
    {
     "name": "stdout",
     "output_type": "stream",
     "text": [
      "Enter number form 5 to 1950\n",
      "50\n"
     ]
    }
   ],
   "source": [
    "num = int(input(('Enter number form 5 to 19')))\n",
    "print(num)\n"
   ]
  },
  {
   "cell_type": "code",
   "execution_count": 13,
   "id": "4f105f0d",
   "metadata": {},
   "outputs": [
    {
     "name": "stdout",
     "output_type": "stream",
     "text": [
      "Input the radius of the circle :5\n",
      "78.57\n"
     ]
    }
   ],
   "source": [
    "PI = 22/7 #constant\n",
    "r = float(input('Input the radius of the circle :'))\n",
    "area = PI*r**2\n",
    "print (round(area,2))"
   ]
  },
  {
   "cell_type": "code",
   "execution_count": 14,
   "id": "99190ff5",
   "metadata": {},
   "outputs": [
    {
     "name": "stdout",
     "output_type": "stream",
     "text": [
      "Input the radius of the circle :5\n",
      "78.5714\n"
     ]
    }
   ],
   "source": [
    "PI = 22/7 #constant\n",
    "r = float(input('Input the radius of the circle :'))\n",
    "area = PI*r**2\n",
    "print (round(area,4))"
   ]
  },
  {
   "cell_type": "code",
   "execution_count": 16,
   "id": "22a09e4f",
   "metadata": {},
   "outputs": [
    {
     "name": "stdout",
     "output_type": "stream",
     "text": [
      "Enter the length of rectangle:25.5\n",
      "Enter the bredth of rectangle:50\n",
      "Area = 1275.0\n"
     ]
    }
   ],
   "source": [
    "l = float(input('Enter the length of rectangle:'))\n",
    "b = float(input('Enter the bredth of rectangle:'))\n",
    "area = l*b\n",
    "print(\"Area =\",round(area,2))"
   ]
  },
  {
   "cell_type": "code",
   "execution_count": null,
   "id": "6423ea66",
   "metadata": {},
   "outputs": [],
   "source": []
  }
 ],
 "metadata": {
  "kernelspec": {
   "display_name": "Python 3 (ipykernel)",
   "language": "python",
   "name": "python3"
  },
  "language_info": {
   "codemirror_mode": {
    "name": "ipython",
    "version": 3
   },
   "file_extension": ".py",
   "mimetype": "text/x-python",
   "name": "python",
   "nbconvert_exporter": "python",
   "pygments_lexer": "ipython3",
   "version": "3.9.13"
  }
 },
 "nbformat": 4,
 "nbformat_minor": 5
}
