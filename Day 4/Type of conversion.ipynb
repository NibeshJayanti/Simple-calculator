{
 "cells": [
  {
   "cell_type": "code",
   "execution_count": 1,
   "id": "70be4486",
   "metadata": {},
   "outputs": [
    {
     "data": {
      "text/plain": [
       "2.5"
      ]
     },
     "execution_count": 1,
     "metadata": {},
     "output_type": "execute_result"
    }
   ],
   "source": [
    "#type conversion\n",
    "#1.Implicit type conversion is converted by python\n",
    "5/2"
   ]
  },
  {
   "cell_type": "code",
   "execution_count": 2,
   "id": "6e5bc07e",
   "metadata": {},
   "outputs": [
    {
     "data": {
      "text/plain": [
       "64.2"
      ]
     },
     "execution_count": 2,
     "metadata": {},
     "output_type": "execute_result"
    }
   ],
   "source": [
    "5+55+4.2"
   ]
  },
  {
   "cell_type": "code",
   "execution_count": 4,
   "id": "fc9b557d",
   "metadata": {},
   "outputs": [
    {
     "name": "stdout",
     "output_type": "stream",
     "text": [
      "<class 'int'>\n",
      "15.0 <class 'float'>\n"
     ]
    }
   ],
   "source": [
    "#Explicit conversion\n",
    "#int(n), float(), complex()\n",
    "num = 15\n",
    "print(type(num))\n",
    "num1 = float(num)\n",
    "print(num1,type(num1))"
   ]
  },
  {
   "cell_type": "code",
   "execution_count": null,
   "id": "d5a1143b",
   "metadata": {},
   "outputs": [],
   "source": []
  },
  {
   "cell_type": "code",
   "execution_count": 5,
   "id": "8bc29025",
   "metadata": {},
   "outputs": [],
   "source": [
    "#we can convert to complex number but not back from complex number\n",
    "#you cannot convert non numeric string data into other data\n",
    "#you cannot convert list and tupel into range."
   ]
  },
  {
   "cell_type": "code",
   "execution_count": 7,
   "id": "e5fbd9fd",
   "metadata": {},
   "outputs": [
    {
     "data": {
      "text/plain": [
       "(1, 3, 5, 5, 6)"
      ]
     },
     "execution_count": 7,
     "metadata": {},
     "output_type": "execute_result"
    }
   ],
   "source": [
    "#conversion of sequences into sets\n",
    "set = (1,3,5,5,6)\n",
    "tuple(set)"
   ]
  },
  {
   "cell_type": "code",
   "execution_count": null,
   "id": "96e3ff3c",
   "metadata": {},
   "outputs": [],
   "source": [
    "#you cannot convert sequence data types into mapping data types.\n",
    "#list to dict\n",
    "#tuple to dict\n"
   ]
  }
 ],
 "metadata": {
  "kernelspec": {
   "display_name": "Python 3 (ipykernel)",
   "language": "python",
   "name": "python3"
  },
  "language_info": {
   "codemirror_mode": {
    "name": "ipython",
    "version": 3
   },
   "file_extension": ".py",
   "mimetype": "text/x-python",
   "name": "python",
   "nbconvert_exporter": "python",
   "pygments_lexer": "ipython3",
   "version": "3.9.13"
  }
 },
 "nbformat": 4,
 "nbformat_minor": 5
}
