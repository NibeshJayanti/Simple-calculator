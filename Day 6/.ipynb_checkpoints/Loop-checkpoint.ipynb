{
 "cells": [
  {
   "cell_type": "code",
   "execution_count": 1,
   "id": "ab478d0f",
   "metadata": {},
   "outputs": [],
   "source": [
    "#loop\n",
    "#1)FOr loop and nested for loop in python , used for repeated process,\n",
    "#2) while loop can be used for limited and unlimited loop\n"
   ]
  },
  {
   "cell_type": "code",
   "execution_count": 65,
   "id": "81b32a49",
   "metadata": {},
   "outputs": [
    {
     "name": "stdout",
     "output_type": "stream",
     "text": [
      "p\n",
      "y\n",
      "p\n",
      "y\n",
      "t\n",
      "h\n",
      "o\n",
      "n\n",
      " \n",
      "l\n",
      "a\n",
      "n\n",
      "g\n",
      "u\n",
      "a\n",
      "g\n",
      "e\n",
      ".\n"
     ]
    }
   ],
   "source": [
    "#Example\n",
    "p = \"python language.\"\n",
    "print(p[0])\n",
    "print(p[1]) #indexing\n",
    "\n",
    "for i in p:\n",
    "    print(i)\n"
   ]
  },
  {
   "cell_type": "code",
   "execution_count": 10,
   "id": "77ffc146",
   "metadata": {},
   "outputs": [
    {
     "name": "stdout",
     "output_type": "stream",
     "text": [
      "12\n",
      "45\n",
      "22\n",
      "16\n"
     ]
    }
   ],
   "source": [
    "#example\n",
    "for i in [12,45,22,16]:\n",
    "    print(i)"
   ]
  },
  {
   "cell_type": "code",
   "execution_count": 11,
   "id": "ddb91752",
   "metadata": {},
   "outputs": [
    {
     "name": "stdout",
     "output_type": "stream",
     "text": [
      "range(5, 100, 12)\n"
     ]
    }
   ],
   "source": [
    "#for loop with range\n",
    "r = range(5,100,12)\n",
    "print(r)"
   ]
  },
  {
   "cell_type": "code",
   "execution_count": 13,
   "id": "9c263377",
   "metadata": {},
   "outputs": [
    {
     "name": "stdout",
     "output_type": "stream",
     "text": [
      "2\n",
      "4\n",
      "6\n",
      "8\n"
     ]
    }
   ],
   "source": [
    "for r in range(2,10,2):\n",
    "    print(r)"
   ]
  },
  {
   "cell_type": "code",
   "execution_count": 14,
   "id": "65335307",
   "metadata": {},
   "outputs": [
    {
     "data": {
      "text/plain": [
       "5"
      ]
     },
     "execution_count": 14,
     "metadata": {},
     "output_type": "execute_result"
    }
   ],
   "source": [
    "#for loop with len to use inside range\n",
    "#Example\n",
    "lst = [14,5,8,6,1345]\n",
    "len(lst)"
   ]
  },
  {
   "cell_type": "code",
   "execution_count": 15,
   "id": "e975708e",
   "metadata": {},
   "outputs": [
    {
     "name": "stdout",
     "output_type": "stream",
     "text": [
      "0\n",
      "1\n",
      "2\n",
      "3\n",
      "4\n"
     ]
    }
   ],
   "source": [
    "for i in range(len(lst)):\n",
    "    print(i)"
   ]
  },
  {
   "cell_type": "code",
   "execution_count": 16,
   "id": "8088ac92",
   "metadata": {},
   "outputs": [
    {
     "name": "stdout",
     "output_type": "stream",
     "text": [
      "14\n",
      "5\n",
      "8\n",
      "6\n",
      "1345\n"
     ]
    }
   ],
   "source": [
    "for i in range(len(lst)):\n",
    "    print(lst[i])"
   ]
  },
  {
   "cell_type": "code",
   "execution_count": 17,
   "id": "eea01197",
   "metadata": {},
   "outputs": [
    {
     "name": "stdout",
     "output_type": "stream",
     "text": [
      "10 is even\n",
      "51 is odd\n",
      "245 is odd\n",
      "21566 is even\n",
      "21663233 is odd\n",
      "226423 is odd\n"
     ]
    }
   ],
   "source": [
    "#for loop with condition\n",
    "#Example1: condition inside for loop\n",
    "lst = [10,51,245,21566,21663233,226423]\n",
    "for l in lst:\n",
    "    if l%2 == 0:\n",
    "        print(l, \"is even\")\n",
    "    else:\n",
    "        print(l,\"is odd\")"
   ]
  },
  {
   "cell_type": "code",
   "execution_count": 18,
   "id": "0d2307aa",
   "metadata": {},
   "outputs": [
    {
     "name": "stdout",
     "output_type": "stream",
     "text": [
      "1\n",
      "2\n",
      "3\n",
      "4\n",
      "5\n",
      "6\n",
      "7\n",
      "8\n",
      "9\n",
      "10\n"
     ]
    }
   ],
   "source": [
    "i = range(1,11)\n",
    "for lst in i:\n",
    "    print(lst)"
   ]
  },
  {
   "cell_type": "code",
   "execution_count": 40,
   "id": "1879e233",
   "metadata": {},
   "outputs": [
    {
     "name": "stdout",
     "output_type": "stream",
     "text": [
      "F\n",
      "L\n",
      "O\n",
      "W\n",
      "E\n",
      "R\n"
     ]
    }
   ],
   "source": [
    "i = \"FLOWER\"\n",
    "for j in i:\n",
    "    print(j)"
   ]
  },
  {
   "cell_type": "code",
   "execution_count": 38,
   "id": "6a54283a",
   "metadata": {},
   "outputs": [
    {
     "name": "stdout",
     "output_type": "stream",
     "text": [
      "Enter any number for multiple8\n",
      "8 x 1 = 8\n",
      "8 x 2 = 16\n",
      "8 x 3 = 24\n",
      "8 x 4 = 32\n",
      "8 x 5 = 40\n",
      "8 x 6 = 48\n",
      "8 x 7 = 56\n",
      "8 x 8 = 64\n",
      "8 x 9 = 72\n",
      "8 x 10 = 80\n"
     ]
    }
   ],
   "source": [
    "mul = int(input(\"Enter any number for multiple\"))\n",
    "for i in range(1,11):\n",
    "    print(mul,\"x\", i,\"=\", i*mul)"
   ]
  },
  {
   "cell_type": "code",
   "execution_count": 56,
   "id": "44c75e80",
   "metadata": {},
   "outputs": [
    {
     "name": "stdout",
     "output_type": "stream",
     "text": [
      "Enter any number0\n",
      "Enter any number greater than previous number1\n",
      "0 x 1 = 0\n",
      "0 x 2 = 0\n",
      "0 x 3 = 0\n",
      "0 x 4 = 0\n",
      "0 x 5 = 0\n",
      "0 x 6 = 0\n",
      "0 x 7 = 0\n",
      "0 x 8 = 0\n",
      "0 x 9 = 0\n",
      "0 x 10 = 0\n",
      "Table of 0  is completed\n"
     ]
    }
   ],
   "source": [
    "i = range(int(input(\"Enter any number\")),int(input(\"Enter any number greater than previous number\")))\n",
    "for k in i:\n",
    "    for j in range(1,11):\n",
    "        print(k, \"x\", j, \"=\",k*j)\n",
    "    else:\n",
    "        print(\"Table of\", k, \" is completed\")\n",
    "\n",
    "    "
   ]
  },
  {
   "cell_type": "code",
   "execution_count": 57,
   "id": "9d21733e",
   "metadata": {},
   "outputs": [
    {
     "name": "stdout",
     "output_type": "stream",
     "text": [
      "14\n",
      "25\n",
      "15514\n",
      "12541\n",
      "2542\n"
     ]
    }
   ],
   "source": [
    "#Enumerate function in python\n",
    "#normal for loop\n",
    "for i in [14,25,15514,12541,2542]:\n",
    "    print(i)"
   ]
  },
  {
   "cell_type": "code",
   "execution_count": 58,
   "id": "e531c88d",
   "metadata": {},
   "outputs": [
    {
     "name": "stdout",
     "output_type": "stream",
     "text": [
      "0 14\n",
      "1 25\n",
      "2 15514\n",
      "3 12541\n",
      "4 2542\n"
     ]
    }
   ],
   "source": [
    "#for loop with index\n",
    "index = 0\n",
    "for i in [14,25,15514,12541,2542]:\n",
    "    print(index,i)\n",
    "    index +=1"
   ]
  },
  {
   "cell_type": "code",
   "execution_count": 66,
   "id": "804c1354",
   "metadata": {},
   "outputs": [
    {
     "name": "stdout",
     "output_type": "stream",
     "text": [
      "0 14\n",
      "1 25\n",
      "2 15514\n",
      "3 12541\n",
      "4 2542\n"
     ]
    }
   ],
   "source": [
    "#using enumerate function (important)\n",
    "i = [14,25,15514,12541,2542]\n",
    "for i,j in enumerate(i):\n",
    "    print(i,j)"
   ]
  },
  {
   "cell_type": "code",
   "execution_count": 64,
   "id": "de375398",
   "metadata": {},
   "outputs": [
    {
     "name": "stdout",
     "output_type": "stream",
     "text": [
      "3 14\n",
      "4 25\n",
      "5 15514\n",
      "6 12541\n",
      "7 2542\n"
     ]
    }
   ],
   "source": [
    "i = [14,25,15514,12541,2542]\n",
    "for i,j in enumerate(i,3):\n",
    "    print(i,j)"
   ]
  },
  {
   "cell_type": "code",
   "execution_count": 77,
   "id": "668266f8",
   "metadata": {},
   "outputs": [
    {
     "name": "stdout",
     "output_type": "stream",
     "text": [
      "0 A\n",
      "1 P\n",
      "2 P\n",
      "3 L\n",
      "4 E\n"
     ]
    }
   ],
   "source": [
    "for i,letter in enumerate(\"APPLE\"):\n",
    "    print(i,letter)"
   ]
  },
  {
   "cell_type": "code",
   "execution_count": 68,
   "id": "df5a2e40",
   "metadata": {},
   "outputs": [
    {
     "name": "stdout",
     "output_type": "stream",
     "text": [
      "1 A\n",
      "2 P\n",
      "3 P\n",
      "4 L\n",
      "5 E\n"
     ]
    }
   ],
   "source": [
    "for i,j in enumerate(\"APPLE\",1):\n",
    "    print(i,j)"
   ]
  },
  {
   "cell_type": "code",
   "execution_count": 76,
   "id": "5befc5c0",
   "metadata": {},
   "outputs": [
    {
     "name": "stdout",
     "output_type": "stream",
     "text": [
      "1 1\n",
      "2 4\n",
      "3 9\n",
      "4 16\n",
      "5 25\n"
     ]
    }
   ],
   "source": [
    "lst = range(1,6)\n",
    "for k in lst:\n",
    "    print(k,k**2)"
   ]
  },
  {
   "cell_type": "code",
   "execution_count": null,
   "id": "0c2fffff",
   "metadata": {},
   "outputs": [],
   "source": []
  }
 ],
 "metadata": {
  "kernelspec": {
   "display_name": "Python 3 (ipykernel)",
   "language": "python",
   "name": "python3"
  },
  "language_info": {
   "codemirror_mode": {
    "name": "ipython",
    "version": 3
   },
   "file_extension": ".py",
   "mimetype": "text/x-python",
   "name": "python",
   "nbconvert_exporter": "python",
   "pygments_lexer": "ipython3",
   "version": "3.9.13"
  }
 },
 "nbformat": 4,
 "nbformat_minor": 5
}
